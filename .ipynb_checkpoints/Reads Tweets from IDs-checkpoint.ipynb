{
 "cells": [
  {
   "cell_type": "code",
   "execution_count": 93,
   "metadata": {
    "ExecuteTime": {
     "end_time": "2019-03-21T16:49:28.616640Z",
     "start_time": "2019-03-21T16:49:28.611627Z"
    }
   },
   "outputs": [],
   "source": [
    "import getopt\n",
    "import logging\n",
    "import os\n",
    "import sys\n",
    "# import traceback\n",
    "import tweepy\n",
    "import pandas as pd \n",
    "import numpy as np\n",
    "import re\n",
    "#import skimage.io as io  "
   ]
  },
  {
   "cell_type": "code",
   "execution_count": 114,
   "metadata": {
    "ExecuteTime": {
     "end_time": "2019-03-21T15:59:10.789306Z",
     "start_time": "2019-03-21T15:59:10.783310Z"
    }
   },
   "outputs": [],
   "source": [
    "# Generate your own at https://apps.twitter.com/app\n",
    "CONSUMER_KEY = 'q8svcQ1GKW2yknY8MCZLvcO7w'\n",
    "CONSUMER_SECRET = 'kk9eMhfIMVxoDEoKR63ddWooW87Ya7IgUt5oC31S0TpAXeiMdh'\n",
    "OAUTH_TOKEN = '917762487608659970-G1v4Nr01JQA9UKqO1HP4g4bPwKT7LAr'\n",
    "OAUTH_TOKEN_SECRET = 'p1Zp4ophwRbRvR5yET3ppXWWg7fEshIyWwby9vTBxR9CF'\n",
    "\n",
    "# connect to twitter\n",
    "auth = tweepy.OAuthHandler(CONSUMER_KEY, CONSUMER_SECRET)\n",
    "auth.set_access_token(OAUTH_TOKEN, OAUTH_TOKEN_SECRET)\n",
    "api = tweepy.API(auth)\n",
    "\n",
    "# batch size depends on Twitter limit, 100 at this time\n",
    "batch_size = 100\n",
    "\n",
    "#Some emojis have character length of more than 1\n",
    "emoji_threshold = 3  "
   ]
  },
  {
   "cell_type": "code",
   "execution_count": 115,
   "metadata": {
    "ExecuteTime": {
     "end_time": "2019-03-21T15:59:22.423780Z",
     "start_time": "2019-03-21T15:59:11.362808Z"
    },
    "scrolled": true
   },
   "outputs": [
    {
     "data": {
      "text/html": [
       "<div>\n",
       "<style scoped>\n",
       "    .dataframe tbody tr th:only-of-type {\n",
       "        vertical-align: middle;\n",
       "    }\n",
       "\n",
       "    .dataframe tbody tr th {\n",
       "        vertical-align: top;\n",
       "    }\n",
       "\n",
       "    .dataframe thead th {\n",
       "        text-align: right;\n",
       "    }\n",
       "</style>\n",
       "<table border=\"1\" class=\"dataframe\">\n",
       "  <thead>\n",
       "    <tr style=\"text-align: right;\">\n",
       "      <th></th>\n",
       "      <th>id</th>\n",
       "      <th>imgid</th>\n",
       "      <th>annotations</th>\n",
       "    </tr>\n",
       "  </thead>\n",
       "  <tbody>\n",
       "    <tr>\n",
       "      <th>0</th>\n",
       "      <td>742240402288345088</td>\n",
       "      <td>http://pbs.twimg.com/media/CkzuE33WsAA2cUB.jpg</td>\n",
       "      <td>229</td>\n",
       "    </tr>\n",
       "    <tr>\n",
       "      <th>1</th>\n",
       "      <td>742427564535353349</td>\n",
       "      <td>http://pbs.twimg.com/media/Ck2h7lzXIAA0Aqw.jpg</td>\n",
       "      <td>658</td>\n",
       "    </tr>\n",
       "    <tr>\n",
       "      <th>2</th>\n",
       "      <td>747199027649871872</td>\n",
       "      <td>http://pbs.twimg.com/media/Cl6UJF1XIAADDAJ.jpg</td>\n",
       "      <td>1466</td>\n",
       "    </tr>\n",
       "    <tr>\n",
       "      <th>3</th>\n",
       "      <td>743426787267338240</td>\n",
       "      <td>http://pbs.twimg.com/media/ClEupvHUYAA0lPF.jpg</td>\n",
       "      <td>1381</td>\n",
       "    </tr>\n",
       "    <tr>\n",
       "      <th>4</th>\n",
       "      <td>745081041631612928</td>\n",
       "      <td>http://pbs.twimg.com/media/ClaNsdLWkAAHti4.jpg</td>\n",
       "      <td>1380</td>\n",
       "    </tr>\n",
       "  </tbody>\n",
       "</table>\n",
       "</div>"
      ],
      "text/plain": [
       "                   id                                           imgid  \\\n",
       "0  742240402288345088  http://pbs.twimg.com/media/CkzuE33WsAA2cUB.jpg   \n",
       "1  742427564535353349  http://pbs.twimg.com/media/Ck2h7lzXIAA0Aqw.jpg   \n",
       "2  747199027649871872  http://pbs.twimg.com/media/Cl6UJF1XIAADDAJ.jpg   \n",
       "3  743426787267338240  http://pbs.twimg.com/media/ClEupvHUYAA0lPF.jpg   \n",
       "4  745081041631612928  http://pbs.twimg.com/media/ClaNsdLWkAAHti4.jpg   \n",
       "\n",
       "  annotations  \n",
       "0         229  \n",
       "1         658  \n",
       "2        1466  \n",
       "3        1381  \n",
       "4        1380  "
      ]
     },
     "execution_count": 115,
     "metadata": {},
     "output_type": "execute_result"
    }
   ],
   "source": [
    "file = 'cleaned_img_train_plaintext.txt'\n",
    "#file = 'img_train_plaintext.txt'\n",
    "data = pd.read_csv(file, sep='\\t', encoding = 'utf8', engine='c', header = 0)\n",
    "\n",
    "#data = pd.DataFrame([j for i,j in enumerate(data.values) if len(data.iloc[i, 2].split(',')) == 1], columns=['id','imgid','annotations'])\n",
    "\n",
    "data.head()"
   ]
  },
  {
   "cell_type": "code",
   "execution_count": 116,
   "metadata": {
    "ExecuteTime": {
     "end_time": "2019-03-21T15:59:22.917396Z",
     "start_time": "2019-03-21T15:59:22.913310Z"
    }
   },
   "outputs": [],
   "source": [
    "def locate_emoji(emoji_pattern, text: str):\n",
    "    emoji = ''.join(emoji_pattern.findall(text))\n",
    "    try:\n",
    "        index = text.index(emoji)\n",
    "    except:\n",
    "        index = -emoji_threshold\n",
    "    return emoji, index"
   ]
  },
  {
   "cell_type": "code",
   "execution_count": 182,
   "metadata": {
    "ExecuteTime": {
     "end_time": "2019-03-21T16:41:38.678969Z",
     "start_time": "2019-03-21T16:41:38.667949Z"
    }
   },
   "outputs": [],
   "source": [
    "def get_tweets(twapi, data):\n",
    "    '''\n",
    "    Fetches content for tweet IDs in a file using bulk request method,\n",
    "    which vastly reduces number of HTTPS requests compared to above;\n",
    "    however, it does not warn about IDs that yield no tweet.\n",
    "    `twapi`: Initialized, authorized API object from Tweepy\n",
    "    '''\n",
    "    emoji_pattern = re.compile(\n",
    "        \"[\"\n",
    "        u\"\\U0001F600-\\U0001F64F\"  # emoticons\n",
    "        u\"\\U0001F300-\\U0001F5FF\"  # symbols & pictographs\n",
    "        u\"\\U0001F680-\\U0001F6FF\"  # transport & map symbols\n",
    "        u\"\\U0001F1E0-\\U0001F1FF\"  # flags (iOS)\n",
    "        u\"\\U00002702-\\U000027B0\"\n",
    "        u\"\\U000024C2-\\U0001F251\"\n",
    "        u\"\\U0001f926-\\U0001f937\"\n",
    "        u'\\U00010000-\\U0010ffff'\n",
    "        u\"\\u200d\"\n",
    "        u\"\\u2640-\\u2642\"\n",
    "        u\"\\u2600-\\u2B55\"\n",
    "        u\"\\u23cf\"\n",
    "        u\"\\u23e9\"\n",
    "        u\"\\u231a\"\n",
    "        u\"\\u3030\"\n",
    "        u\"\\ufe0f\"\n",
    "        \"]+\",\n",
    "        flags=re.UNICODE)\n",
    "\n",
    "    tweet_ids = data.id.values.tolist()\n",
    "    emoji_labels = data.annotations.values.tolist()\n",
    "\n",
    "    all_tweets = []\n",
    "    labels = []\n",
    "    i = 0  #for debug\n",
    "    # process list of ids until it's empty\n",
    "    while len(tweet_ids) > 0:\n",
    "        if len(tweet_ids) < batch_size:\n",
    "            tweets = twapi.statuses_lookup(\n",
    "                id_=tweet_ids, include_entities=False, trim_user=True)\n",
    "            tweet_ids = []\n",
    "        else:\n",
    "            tweets = twapi.statuses_lookup(\n",
    "                id_=tweet_ids[:batch_size],\n",
    "                include_entities=False,\n",
    "                trim_user=True)\n",
    "            tweet_ids = tweet_ids[batch_size:]\n",
    "\n",
    "        for tweet in tweets:\n",
    "            \n",
    "            #removes the link of the tweet\n",
    "            text = re.sub(r'http\\S+', '', tweet.text).strip(' ')            \n",
    "            text = re.sub(r'\\ART @\\S+','', text).strip(' ')\n",
    "            \n",
    "            #Remove tweets where emoji is not at the end\n",
    "            emoji, index = locate_emoji(emoji_pattern, text)\n",
    "            \n",
    "            if index >= len(text) - emoji_threshold:\n",
    "                #removes the emojis from the text\n",
    "                text = emoji_pattern.sub(r'', text).strip(' ')\n",
    "\n",
    "                #then appends the tweet and emoji to our final dataset\n",
    "                all_tweets.append(np.array([text]))\n",
    "                labels.append(emoji)\n",
    "\n",
    "        i += 1\n",
    "        if i == 2:\n",
    "            break\n",
    "            \n",
    "            \n",
    "    features = np.array(all_tweets)\n",
    "    labels = np.array(labels)\n",
    "    return features, labels"
   ]
  },
  {
   "cell_type": "code",
   "execution_count": 183,
   "metadata": {
    "ExecuteTime": {
     "end_time": "2019-03-21T16:41:40.589782Z",
     "start_time": "2019-03-21T16:41:39.249371Z"
    },
    "scrolled": true
   },
   "outputs": [],
   "source": [
    "X, y = get_tweets(api, data)"
   ]
  },
  {
   "cell_type": "code",
   "execution_count": 104,
   "metadata": {
    "ExecuteTime": {
     "end_time": "2019-03-21T17:23:41.799357Z",
     "start_time": "2019-03-21T17:23:41.794349Z"
    }
   },
   "outputs": [],
   "source": [
    "to_remove = [\"'\", \"´\", \"`\", \",\", \".\", \";\", \"\\\\\", \"+\", \"|\", \")\", \"(\", '\"', \"•\", \"~\", \"{\", \"}\", \"[\", \"]\", \"<\", \">\", \"¤\", \"¨\", \"*\"] \n",
    "to_keep = [\"!\", \"@\", \"#\", \"?\", \"$\", \"€\", \"£\", \"=\"] # keep in list comprehension\n",
    "to_keep_re = [\"&amp\"] # define regex \n",
    "to_sub = [\"-\", \"_\", \"...\", \":\", \"/\", \"\\n\" -> \" \", \"&\" -> \"and\"] # define a regex to substitute (maybe two different re ?)"
   ]
  },
  {
   "cell_type": "code",
   "execution_count": 111,
   "metadata": {
    "ExecuteTime": {
     "end_time": "2019-03-21T17:56:40.199865Z",
     "start_time": "2019-03-21T17:56:40.189839Z"
    }
   },
   "outputs": [],
   "source": [
    "def tweets_cleaning(tweets, stopwords: list):\n",
    "    cleaned_data = []\n",
    "    for tweet in tweets:\n",
    "        cleaned_tweet = []\n",
    "        tweet = re.sub(r'&amp\\S+','', tweet)\n",
    "        tweet = re.sub(r'&', ' and ', tweet)\n",
    "        tweet = re.sub(r'!!*', '!', tweet)\n",
    "        tweet = re.sub(r'??*', '?', tweet)\n",
    "        tweet = re.sub(r'..*', ' ', tweet)\n",
    "        tweet = re.sub(r'--*', ' ', tweet)\n",
    "        tweet = re.sub(r'__*', ' ', tweet)\n",
    "        tweet = re.sub(r'::*', ' ', tweet)\n",
    "        tweet = re.sub(r'//*', ' ', tweet)\n",
    "        tweet = re.sub(r'\\n', ' ', tweet)\n",
    "        tweet = tweet.split(\" \")\n",
    "        for word in tweet:\n",
    "            # only keep letters (i.e., alphabetical characters) as we want to use word2vec (no digits in word2vec models)\n",
    "            cleaned_word = ''.join([char for char in word if char in to_keep or char.isalpha()]).lower()\n",
    "            # cleaned_word = cleaned_word.strip(\"\\n\") #.strip(\" \") (don't know yet whether latter part is necessary)\n",
    "            if len(cleaned_word) > 0:\n",
    "                cleaned_tweet.append(cleaned_word)\n",
    "        cleaned_data.append(cleaned_data)"
   ]
  }
 ],
 "metadata": {
  "hide_input": false,
  "kernelspec": {
   "display_name": "Python 3",
   "language": "python",
   "name": "python3"
  },
  "language_info": {
   "codemirror_mode": {
    "name": "ipython",
    "version": 3
   },
   "file_extension": ".py",
   "mimetype": "text/x-python",
   "name": "python",
   "nbconvert_exporter": "python",
   "pygments_lexer": "ipython3",
   "version": "3.7.1"
  },
  "toc": {
   "base_numbering": 1,
   "nav_menu": {},
   "number_sections": true,
   "sideBar": true,
   "skip_h1_title": false,
   "title_cell": "Table of Contents",
   "title_sidebar": "Contents",
   "toc_cell": false,
   "toc_position": {},
   "toc_section_display": true,
   "toc_window_display": false
  },
  "varInspector": {
   "cols": {
    "lenName": 16,
    "lenType": 16,
    "lenVar": 40
   },
   "kernels_config": {
    "python": {
     "delete_cmd_postfix": "",
     "delete_cmd_prefix": "del ",
     "library": "var_list.py",
     "varRefreshCmd": "print(var_dic_list())"
    },
    "r": {
     "delete_cmd_postfix": ") ",
     "delete_cmd_prefix": "rm(",
     "library": "var_list.r",
     "varRefreshCmd": "cat(var_dic_list()) "
    }
   },
   "position": {
    "height": "588.496px",
    "left": "2030px",
    "right": "20px",
    "top": "120px",
    "width": "350px"
   },
   "types_to_exclude": [
    "module",
    "function",
    "builtin_function_or_method",
    "instance",
    "_Feature"
   ],
   "window_display": true
  }
 },
 "nbformat": 4,
 "nbformat_minor": 2
}
