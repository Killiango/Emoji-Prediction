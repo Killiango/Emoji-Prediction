{
 "cells": [
  {
   "cell_type": "code",
   "execution_count": 5,
   "metadata": {
    "ExecuteTime": {
     "end_time": "2019-03-14T14:12:46.633514Z",
     "start_time": "2019-03-14T14:12:46.629498Z"
    }
   },
   "outputs": [],
   "source": [
    "import getopt\n",
    "import logging\n",
    "import os\n",
    "import sys\n",
    "# import traceback\n",
    "import tweepy\n",
    "import pandas as pd \n",
    "import numpy as np\n",
    "import re\n",
    "import skimage.io as io  "
   ]
  },
  {
   "cell_type": "code",
   "execution_count": 73,
   "metadata": {
    "ExecuteTime": {
     "end_time": "2019-03-14T15:49:11.894127Z",
     "start_time": "2019-03-14T15:49:11.887164Z"
    }
   },
   "outputs": [],
   "source": [
    "# Generate your own at https://apps.twitter.com/app\n",
    "CONSUMER_KEY = 'q8svcQ1GKW2yknY8MCZLvcO7w'\n",
    "CONSUMER_SECRET = 'kk9eMhfIMVxoDEoKR63ddWooW87Ya7IgUt5oC31S0TpAXeiMdh'\n",
    "OAUTH_TOKEN = '917762487608659970-G1v4Nr01JQA9UKqO1HP4g4bPwKT7LAr'\n",
    "OAUTH_TOKEN_SECRET = 'p1Zp4ophwRbRvR5yET3ppXWWg7fEshIyWwby9vTBxR9CF'\n",
    "\n",
    "# connect to twitter\n",
    "auth = tweepy.OAuthHandler(CONSUMER_KEY, CONSUMER_SECRET)\n",
    "auth.set_access_token(OAUTH_TOKEN, OAUTH_TOKEN_SECRET)\n",
    "api = tweepy.API(auth)\n",
    "\n",
    "# batch size depends on Twitter limit, 100 at this time\n",
    "batch_size = 100"
   ]
  },
  {
   "cell_type": "code",
   "execution_count": 84,
   "metadata": {
    "ExecuteTime": {
     "end_time": "2019-03-14T15:57:04.604950Z",
     "start_time": "2019-03-14T15:57:02.477742Z"
    }
   },
   "outputs": [
    {
     "data": {
      "text/html": [
       "<div>\n",
       "<style scoped>\n",
       "    .dataframe tbody tr th:only-of-type {\n",
       "        vertical-align: middle;\n",
       "    }\n",
       "\n",
       "    .dataframe tbody tr th {\n",
       "        vertical-align: top;\n",
       "    }\n",
       "\n",
       "    .dataframe thead th {\n",
       "        text-align: right;\n",
       "    }\n",
       "</style>\n",
       "<table border=\"1\" class=\"dataframe\">\n",
       "  <thead>\n",
       "    <tr style=\"text-align: right;\">\n",
       "      <th></th>\n",
       "      <th>id</th>\n",
       "      <th>imgid</th>\n",
       "      <th>annotations</th>\n",
       "    </tr>\n",
       "  </thead>\n",
       "  <tbody>\n",
       "    <tr>\n",
       "      <th>0</th>\n",
       "      <td>744014442837454848</td>\n",
       "      <td>http://pbs.twimg.com/media/ClNFMNSWgAI7qq0.jpg</td>\n",
       "      <td>47,883</td>\n",
       "    </tr>\n",
       "    <tr>\n",
       "      <th>1</th>\n",
       "      <td>747888709375229952</td>\n",
       "      <td>http://pbs.twimg.com/media/CmEIe-_VYAADvg0.jpg</td>\n",
       "      <td>1108,1108</td>\n",
       "    </tr>\n",
       "    <tr>\n",
       "      <th>2</th>\n",
       "      <td>747199027649871872</td>\n",
       "      <td>http://pbs.twimg.com/media/Cl6UJF1XIAADDAJ.jpg</td>\n",
       "      <td>1466</td>\n",
       "    </tr>\n",
       "    <tr>\n",
       "      <th>3</th>\n",
       "      <td>743426787267338240</td>\n",
       "      <td>http://pbs.twimg.com/media/ClEupvHUYAA0lPF.jpg</td>\n",
       "      <td>1381</td>\n",
       "    </tr>\n",
       "    <tr>\n",
       "      <th>4</th>\n",
       "      <td>745081041631612928</td>\n",
       "      <td>http://pbs.twimg.com/media/ClaNsdLWkAAHti4.jpg</td>\n",
       "      <td>1380</td>\n",
       "    </tr>\n",
       "  </tbody>\n",
       "</table>\n",
       "</div>"
      ],
      "text/plain": [
       "                   id                                           imgid  \\\n",
       "0  744014442837454848  http://pbs.twimg.com/media/ClNFMNSWgAI7qq0.jpg   \n",
       "1  747888709375229952  http://pbs.twimg.com/media/CmEIe-_VYAADvg0.jpg   \n",
       "2  747199027649871872  http://pbs.twimg.com/media/Cl6UJF1XIAADDAJ.jpg   \n",
       "3  743426787267338240  http://pbs.twimg.com/media/ClEupvHUYAA0lPF.jpg   \n",
       "4  745081041631612928  http://pbs.twimg.com/media/ClaNsdLWkAAHti4.jpg   \n",
       "\n",
       "  annotations  \n",
       "0      47,883  \n",
       "1   1108,1108  \n",
       "2        1466  \n",
       "3        1381  \n",
       "4        1380  "
      ]
     },
     "execution_count": 84,
     "metadata": {},
     "output_type": "execute_result"
    }
   ],
   "source": [
    "file = 'cleaned_img_train_plaintext.txt'\n",
    "data = pd.read_csv(file, sep='\\t', encoding = 'utf8', engine='c', header = 0)\n",
    "data.head()"
   ]
  },
  {
   "cell_type": "code",
   "execution_count": 76,
   "metadata": {
    "ExecuteTime": {
     "end_time": "2019-03-14T15:49:30.334828Z",
     "start_time": "2019-03-14T15:49:30.326850Z"
    }
   },
   "outputs": [],
   "source": [
    "def get_tweets(twapi, data):\n",
    "    '''\n",
    "    Fetches content for tweet IDs in a file using bulk request method,\n",
    "    which vastly reduces number of HTTPS requests compared to above;\n",
    "    however, it does not warn about IDs that yield no tweet.\n",
    "\n",
    "    `twapi`: Initialized, authorized API object from Tweepy\n",
    "    '''    \n",
    "    tweet_ids = data.id.values.tolist()\n",
    "    emoji_labels = data.annotations.values.tolist()\n",
    "    \n",
    "    all_tweets = []\n",
    "    i = 0\n",
    "    # process remainder\n",
    "    while len(tweet_ids) > 0:\n",
    "        if len(tweet_ids) < batch_size:\n",
    "            tweets = twapi.statuses_lookup(id_ = tweet_ids, include_entities=False, trim_user=True)\n",
    "            tweet_ids = []\n",
    "        else:\n",
    "            tweets = twapi.statuses_lookup(id_ = tweet_ids[:batch_size], include_entities=False, trim_user=True)\n",
    "            tweet_ids = tweet_ids[batch_size:]\n",
    "        \n",
    "        for tweet in tweets:\n",
    "            text = re.sub(r'http\\S+', '', tweet.text).strip(' ')\n",
    "            \n",
    "            #put annotations here\n",
    "            all_tweets.append(np.array([text]))\n",
    "            \n",
    "        i += 1 \n",
    "        if i == 2:\n",
    "            break\n",
    "    return np.array(all_tweets)"
   ]
  },
  {
   "cell_type": "code",
   "execution_count": 77,
   "metadata": {
    "ExecuteTime": {
     "end_time": "2019-03-14T15:49:32.917491Z",
     "start_time": "2019-03-14T15:49:30.777295Z"
    }
   },
   "outputs": [
    {
     "data": {
      "text/plain": [
       "array([['@SnoopDogg said hip hop music changed in a interview with @50cent and #theunit 😐 right now.'],\n",
       "       [\"RT @el_kdoe: I'm single 😒\"],\n",
       "       ['RT @LilJDuggy: My boy Buddy all grown up now 💔'],\n",
       "       ['RT @EliasTheodorou: The one and only, @TheBigPygmy appearing on @ebaumsworld today. A man doing great things inside the cage &amp; out. 🙏'],\n",
       "       ['Not just for ladies 👌'],\n",
       "       ['RT @enews: Laila Ali takes the #BETAwards stage to pay tribute to her late father, Muhammad Ali. ❤️'],\n",
       "       ['#VeranoMTV2016 5 Seconds of summer \\n\\n💘 My baby 💘'],\n",
       "       ['Good night 🌙 #FRA'],\n",
       "       ['RT @Gh15_Yolanda: Summer love 💙'],\n",
       "       [\"Let's dive into the #weekend.\\n\\n 📷 @mauoscar2 \\n\\n#shangrilajkt #creatingbeautifulmoments #pool\"],\n",
       "       ['The actual state of politics at the minute 😩 Absolutely chaotic scenes'],\n",
       "       [\"RT @katieSchild: It's never too fucking late! \\n#MCE 👅👅👅\\n#DaddyFitz 💦💦💦\\nMy beautiful,adorable n too pretty for this world.. Bby 💘\"],\n",
       "       ['love my friends 💕'],\n",
       "       ['What the duck! 😹'],\n",
       "       ['RT @OS_801: #UtterlyAmazingSeohyun \\n#서현아생일축하해\\nPrincess 💜'],\n",
       "       [\"RT @13elieveSG: [HD PIC] 160618 After 'Mozart' Musical - Gorgeous Kyu in white shirt 😍 [2P] (Cr:@tinyyhae)\"],\n",
       "       [\"£10 returns over £100 with Dean's latest #Euro2016 acca!\\n\\nLive ▶️  \\n\\n#TipsFT ⚽️ 💷\"],\n",
       "       ['RT @SoDaLeeTh: ♥️\\n\\nIg Update @/yoonj.lee'],\n",
       "       ['RT @oridaganjazz: Backstage @120Diner getting ready to introduce the amazing @gabi_epstein as part of the @TorontoJazzFest! #TDmusic 🎶'],\n",
       "       ['Tomorrow is a good day... 😏 #iifym'],\n",
       "       ['With my brother @Uncle_De &amp; @PureYinkz  at my celebration party 👊'],\n",
       "       ['RT @realrelaxo2: #HighRise is about to start... 😊 finally in Germany!'],\n",
       "       ['After seeing @findingdory my son announced that Dory is my spirit animal! 🐠'],\n",
       "       ['RT @tarheelkrazie: @FetishVanessa #ExoticBeauty #Fetish #Fashionista one of kind #Seductive #Goddess #FetishDiva 😘'],\n",
       "       ['Great 📷  @Slash @DuffMcKagan Fedexfield \\n© @bethany_vegas Take a look at her photos.'],\n",
       "       ['\"In a changing world, God has called and empowered us to pursue a life that reaches out to others and honors Him.\" 💖'],\n",
       "       [\"Happy birthday @ellehazel !! Can't believe you're 18 😩 Have the best day love you xxx\"],\n",
       "       ['Floatin 🚣🏽'],\n",
       "       ['\"I just want to be the hand you hold when you cry. To give you flowers when you shine.\" #fashion #quote 🌸'],\n",
       "       [\"'Heavy Weight' short film screened last week at @Working_Title | Camera:@ARRIRental | Lighting:@PinewoodStudios 🎥\"],\n",
       "       ['RT @asSalafi: 📢 Overseas donators ‼️\\n\\nTake advantage of the weaker 🇬🇧 £ and this blessed month #Ramadan \\n\\n#Donate @MasjidSunnaAstn'],\n",
       "       [\"Happy Father's Day dad 💟\"],\n",
       "       ['Selena for Marie Claire (HQ) 😍'],\n",
       "       ['@thebuxtonblog daytime gear !! Follow @KiltAds 😉 F1,  BTCC and much more!'],\n",
       "       [\"Remember Zayn' loop plane story ...😂\\nJust look at Harry's face 😻\"],\n",
       "       ['RT @queerashart: my future wife 💖'],\n",
       "       ['Play video ▶ [  ] 👌'],\n",
       "       ['Only one @brsezer ❤️ love you so much my babe'],\n",
       "       ['RT @FatmaAr2014: White chocolate 🙈 ❤ ❤'],\n",
       "       ['For sale 🤑 DM me'],\n",
       "       ['@ShealaghOShea @jenniferbeals And we all have our unique purpose .... 😊'],\n",
       "       ['So my friend found this shirt and bought it for me, I love my friends!! 😁'],\n",
       "       ['RT @hmrhazmn: Room for rent!! Ladies only. Do contact Syarah at +60172374546 for inquiries 🌸'],\n",
       "       ['The real 🐐'],\n",
       "       ['RT @MuzHisham: 👍 #maybankislamic team shah &amp; munawwar representing @MyMaybank at #zakat in Perak and in #Bangi #islamicrelief do'],\n",
       "       ['RT @AlphaManMagUK: Immense display by @jameshaskell in the #AUSvENG 1st Test win! Find out how he builds size &amp; strength - for FREE! 🏉'],\n",
       "       [\"Aw it's one year since croke park 😢\"],\n",
       "       ['RT @garntgustin: he must be protected at all costs, such an angel. 🙈 BrazilLovesCorey'],\n",
       "       ['My baby girl 😏'],\n",
       "       [\"I'm so obsessed with u it's bullshit 💕\"],\n",
       "       [\"@CariVH  @_its_leelee_  my new fathers day look. My little girl wouldn't believe I'd tweet it...well...I did 😱\"],\n",
       "       ['RT @CookieMonstaDUB: THREE DAYS OF STRAIGHT MADNESS! 😍 @EDC_LasVegas'],\n",
       "       ['i love my friends 🙄'],\n",
       "       ['Oh yesss 😱'],\n",
       "       ['Matt and jack 😍'],\n",
       "       ['🖕🏻 sun damage'],\n",
       "       ['Happy birthday cousin hope you have a great day!! 💙 @_jjulissa09_'],\n",
       "       [\"RT @TheHeatherH: Hey @davemorrissey64 do you need anything? Thought I'd ask since I'm in Woodbury 😁\"],\n",
       "       ['🌀 Mutual Dreaming Saturday NYC 🌀\\n'],\n",
       "       ['RT @FLY_YenYen: 160625 #yuri #유리 kiss the radio preview part6 😘 goodbye...'],\n",
       "       ['Such a lucky teacher to call you mine 💛'],\n",
       "       [\"@natanemata happy birthday to the loml 💞 I love you w my whole heart and I'm so glad we're great friends. HBD 🎉🎊\"],\n",
       "       [\"That's my favourite view 😍\"],\n",
       "       [\"5SOS' post on IG #VeranoMTV2016 5 Seconds Of Summer- Laura 💖\"],\n",
       "       ['This is terrifying 😂'],\n",
       "       [\"RT @BasiaID: .@DjokerNole's new #Wimbledon bag with all falcons 😍 /@head_tennis/\"],\n",
       "       [\"RT @ohmonjoonie: One of my top favorite Namjoon selca's ❤️\"],\n",
       "       ['RT @magneticcas: My #TeenChoice for #ChoiceTVSceneStealer goes to @mishacollins ❤️'],\n",
       "       ['Give and take 😂\\nLet the hearts grow..'],\n",
       "       ['RT @ALDUBNation_MLA: Alden is live on Eat Bulaga FB page 😊\\n\\n-KM\\n\\n#ALDUBOverloadKilig'],\n",
       "       ['@hisdejavuskye This new Twitter app called Flamingo is clairvoyant. Look what background color it picked for you 👍'],\n",
       "       ['🔴 LIVE @flippinginja on #YouNow -'],\n",
       "       [\"RT @holly_dawson7: This scene absolutely broke my heart. I am so glad Bea has Allie to fall back on. 💔 Danielle's acting is phenomenal. htt…\"],\n",
       "       ['Kicking it at @arteryrcdings ✌️'],\n",
       "       ['Cut cut cut cut 😂'],\n",
       "       ['Go England 💪'],\n",
       "       ['(¯`💖´¯)✿💕HOT NEWS\\n.+`•.¸.•´❀ Open:Booking\\n.¸.•´¸.•´)¸.•*)🌼☎Contact:Person\\n(¸.•´(💖💕💖 :CekBio\\n🌷➖ @VIVIJKTBO 👇'],\n",
       "       ['160625 맘 편히 (Comfortable) currently #1 at Naver Music and #2 at MelOn 👏'],\n",
       "       ['RT @solarimpulse: How could you be part of this #amazing moment ? Share your pictures 📸 📹 #futureisclean'],\n",
       "       ['I try anything 😋'],\n",
       "       ['It came in, and another dollar is in @Oceana hands to save lives that are so critical to the balance of our world. 🌍'],\n",
       "       ['@feppi327 @raysguarin \\n\\non the lighter side..\\n💖\\n#ALDUBForTheLove \\n@zenkmm \\n@fleurs7754 \\n@xinempl \\n@mecampo09'],\n",
       "       ['@farhahhnurul sorry 😛'],\n",
       "       ['San Francisco sunsets 👌'],\n",
       "       ['I will miss chasing the sunsets here #OnlyOnGuam 🌅'],\n",
       "       ['RT @courtneyadele_: #Tbt New York City Loss Photos 🌚'],\n",
       "       ['⚠️ Severe Thunderstorm Warning including Alliance NE, Box Butte Dam NE, Hemingford NE until 7:00 PM MDT'],\n",
       "       [\"happy Father's day, daddy 😻\"],\n",
       "       ['Saw Richard III tonight. Fabulous show. @TellyProducer totally stole it for me 👏🏻'],\n",
       "       ['Tagged by @notdahyun \\n1. Blue 💙\\n2. 24 March\\n3. Math math math math math(?)\\n4. Drawing, Singing, Watching\\n5.You 💋💋💋'],\n",
       "       ['RT @HannahBrooks25: Any webcammers want some promo  apparel ready for launch please DM me 😃 Xxx'],\n",
       "       ['🔴 LIVE @OfficialOcean on #YouNow - 😂😂😂😂😂😂😂 come through'],\n",
       "       [\"RT @explodinghye: new icon to distract myself from the chaos of the night and for the new 'do ✨ also ram horns being a shithead aries\"],\n",
       "       ['RT @TeamSuperMIA: Lilly\\'s face lowkey be like \"this is the man i idolize right...?\" 😂'],\n",
       "       ['👉  @sportexercise Newcastle 🇬🇧  conference ISSSMC 2016  early bird rates until 30th June'],\n",
       "       ['because you are mine, i walk the line ❤️'],\n",
       "       ['What is this dress? What are those on arms? Could be better off without them. Sorry but disaster! 👎'],\n",
       "       ['RT @Powordful: 📢Wishing all @marshawright #ThinkBIGSundayWithMarsha family a fab week 🙏 👌'],\n",
       "       ['The Woman in Red 💋\\n\\n#AbigailBreslin #ScreamQueens #RedDress #Style @yoabbaabba'],\n",
       "       ['Not a great game so far but a VR campaign I worked on in AZ is on the billboards 😀 France V Romania. Euro 2016'],\n",
       "       ['It would be a 10/10 time if I won tickets to meet you at digi!\\n💓\\n#WestonKouryDigiTour \\n✨\\n@westonkoury1'],\n",
       "       ['Million Dollar $$ Smile 😃\\nFriends Like These 😊😍'],\n",
       "       ['And so worth it 👶🏽💕 #SingleMama #IGotThis #MeAndMyBaby 💯'],\n",
       "       [\"RT @wastedlocks: ✨\\nFifth harmony 'all in my head' lockscreen \\nRT if you want it \\nmbf so we can dm u \\n\\nchoose -h\"],\n",
       "       ['RT @TsJESSiCA_FOX: Thank you to all of my 50k fan club! I love you all ❤️'],\n",
       "       [\"Celebrating my birthday without my family 😪 but it's okay 😂😊\"],\n",
       "       [\"Got loyal niggas that be with me that's gone ride for me 💯\"],\n",
       "       ['RT @Giants: Summer vibes. #FirstDayOfSummer 🌞'],\n",
       "       ['#game .. @BluSMOOTH .. Happy 47th Birthday Peter Dinklage! 🎉'],\n",
       "       ['Early look at the next Y-3 Pure Boost ZG 👀 Thoughts?\\n#boostVIBES'],\n",
       "       ['Congratulations Sugod Bahay Winner, Mary Jane Nery! 😃\\n\\n(c) EB Page\\n#ALDUBKSReunion'],\n",
       "       ['Melanated Munchkin ☺️'],\n",
       "       ['RT @isolettechaves: Good. Night sweet dreams @DJZJCZ @jennifersterri1 @lcotton92264 @auraa10 @BernadetteClaxt @legokt @NikkiG26 😛'],\n",
       "       ['#WeWantAskKajal @MsKajalAggarwal chat session pls..😊 we all expecting hope u do soon 👍🏻 #KajalAggarwal'],\n",
       "       ['Emotional tour in the #aisnemarnecemetary 🇺🇸'],\n",
       "       [\"RT @kwillyumsin: HBD Hysell 🎉😜💕 love u so much!! Can't wait to visit you in RVA soon!! Live it up in the city 2day 🌆 @triplex_alexx\"],\n",
       "       ['Happy 3rd birthday to my beautiful daughter.Im so proud 2call u mine.u make me so happy 😍 love u princess #armyof3'],\n",
       "       ['RT @AshAlexiss: Got you feeling some type of way ♠️'],\n",
       "       ['the conjuring affected him differently 🤐'],\n",
       "       ['RT @JoinMeNik: This article should be saying \"Who is Taylor Swift? Meet Tom Hiddleston\\'s soon-to-be-ex\" 💀'],\n",
       "       ['going to miss these girls more than they know next year, I love you guys ❤️'],\n",
       "       ['Play video ▶ [  ] 😋'],\n",
       "       ['RT @ComedyPosts: this is so sad and scary at the same time 😕'],\n",
       "       ['new to twitter.. hello :) follow me on instagram @realvickisecret  💜'],\n",
       "       ['Another celebration in the books 👶🏼'],\n",
       "       ['#99cents #ghosts limited time!\\n🇺🇸 \\n🇬🇧 \\n'],\n",
       "       ['Sorry not sorry tho 😌'],\n",
       "       ['We made a cake for Mummy &amp; Daddy, we will show you it later xxx #FurryTails we have some technicle tasks ahead! 😨'],\n",
       "       ['Hotness overload! 🔥'],\n",
       "       [\"@LilyWulde it's fun! 🐴\"],\n",
       "       ['RT @LadyMercia: 🇬🇧 Our New Border Signs 🇬🇧\\nYou like 😜⁉️'],\n",
       "       ['RT @GomezSelUpdate: New Pictures Of The Meet &amp; Greet 💋 #RevivalTourOrlando'],\n",
       "       [\"It's a classy event, come looking the part 💅🏾\\n\\nGet your outfits from now!! #OAC2016\"],\n",
       "       ['RT @DaisyBearLo: It was a an enjoyable night ❤️'],\n",
       "       ['Hands down to the univ week and leap cencomms!! Ahhhh solid week so far 💚'],\n",
       "       ['RT @GoT_Cast: Rose Leslie 🍸'],\n",
       "       ['Hand sewn 26 inch Brazilian straight lace front wigs in champagne blonde. For $120, only 5 available. 😌'],\n",
       "       ['🇫🇷⭐️ #diplomegin in focus ⭐️🇫🇷\\n\\n🍊 Happy #WorldGinDay &amp; #NegroniWeek! 🍊\\n\\n#french #gin #negroni #cocktail #minimal'],\n",
       "       ['RT @HaitianBeauties: Haïtien Girls Are Made Up Of Sugar Spice &amp; Brown Rice ✨\\n#HaitianBeauties \\n@Goldenn_Bullets 🇭🇹'],\n",
       "       ['LittySquaaad 💕'],\n",
       "       ['3 Years Wedding Anniversary: Leather Wedding Anniversary 💍 I love you my Prince Charming ❤️ @lpc27'],\n",
       "       ['Just thought I\\'d mention how great my manager is 🤔 \"I\\'ll bend down so you look taller\" 😂']],\n",
       "      dtype='<U141')"
      ]
     },
     "execution_count": 77,
     "metadata": {},
     "output_type": "execute_result"
    }
   ],
   "source": [
    "all_tweets = get_tweets(api, data)\n",
    "all_tweets"
   ]
  },
  {
   "cell_type": "code",
   "execution_count": 83,
   "metadata": {
    "ExecuteTime": {
     "end_time": "2019-03-14T15:51:32.335705Z",
     "start_time": "2019-03-14T15:51:32.330722Z"
    }
   },
   "outputs": [
    {
     "data": {
      "text/plain": [
       "'😒'"
      ]
     },
     "execution_count": 83,
     "metadata": {},
     "output_type": "execute_result"
    }
   ],
   "source": [
    "all_tweets[1][-1][-1]"
   ]
  },
  {
   "cell_type": "markdown",
   "metadata": {},
   "source": [
    "# Important Todo:\n",
    "Filter all emojis"
   ]
  },
  {
   "cell_type": "code",
   "execution_count": null,
   "metadata": {},
   "outputs": [],
   "source": []
  }
 ],
 "metadata": {
  "hide_input": false,
  "kernelspec": {
   "display_name": "Python 3",
   "language": "python",
   "name": "python3"
  },
  "language_info": {
   "codemirror_mode": {
    "name": "ipython",
    "version": 3
   },
   "file_extension": ".py",
   "mimetype": "text/x-python",
   "name": "python",
   "nbconvert_exporter": "python",
   "pygments_lexer": "ipython3",
   "version": "3.7.1"
  },
  "toc": {
   "base_numbering": 1,
   "nav_menu": {},
   "number_sections": true,
   "sideBar": true,
   "skip_h1_title": false,
   "title_cell": "Table of Contents",
   "title_sidebar": "Contents",
   "toc_cell": false,
   "toc_position": {},
   "toc_section_display": true,
   "toc_window_display": false
  },
  "varInspector": {
   "cols": {
    "lenName": 16,
    "lenType": 16,
    "lenVar": 40
   },
   "kernels_config": {
    "python": {
     "delete_cmd_postfix": "",
     "delete_cmd_prefix": "del ",
     "library": "var_list.py",
     "varRefreshCmd": "print(var_dic_list())"
    },
    "r": {
     "delete_cmd_postfix": ") ",
     "delete_cmd_prefix": "rm(",
     "library": "var_list.r",
     "varRefreshCmd": "cat(var_dic_list()) "
    }
   },
   "position": {
    "height": "588.496px",
    "left": "2030px",
    "right": "20px",
    "top": "120px",
    "width": "350px"
   },
   "types_to_exclude": [
    "module",
    "function",
    "builtin_function_or_method",
    "instance",
    "_Feature"
   ],
   "window_display": true
  }
 },
 "nbformat": 4,
 "nbformat_minor": 2
}
