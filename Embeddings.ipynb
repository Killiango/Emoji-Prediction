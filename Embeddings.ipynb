{
 "cells": [
  {
   "cell_type": "code",
   "execution_count": null,
   "metadata": {},
   "outputs": [],
   "source": []
  },
  {
   "cell_type": "code",
   "execution_count": null,
   "metadata": {},
   "outputs": [],
   "source": []
  },
  {
   "cell_type": "code",
   "execution_count": null,
   "metadata": {},
   "outputs": [],
   "source": [
    "def get_embeddings(text_file):\n",
    "\n",
    "    \"\"\" \n",
    "    Read GloVe txt.-file, load pre-trained word embeddings into memory\n",
    "    and create a word_to_embedding dictionary, where keys are the discrete word strings\n",
    "    and values are the corresponding continuous word embeddings, retrieved from the GloVe txt.-file.\n",
    "    For unkown words, the representation is an empty vector (i.e., zeros matrix).\n",
    "    \"\"\"\n",
    "    embeddings_dict = {}\n",
    "\n",
    "    with open(text_file, encoding=\"utf8\") as file:\n",
    "\n",
    "        for line in file:\n",
    "            values = line.split()\n",
    "            word = values[0]\n",
    "            wordvec = np.array(values[1:], dtype = 'float32')\n",
    "            embeddings_dict[word] = list(wordvec)\n",
    "\n",
    "    return embeddings_dict\n",
    "\n",
    "\n",
    "def get_emojivecs(emoji_embeddings: dict, corpus: list, dims: int):\n",
    "\n",
    "    N = len(corpus)\n",
    "    M = dims\n",
    "    \n",
    "    emojivecs = []\n",
    "    \n",
    "    # document = tweet; corpus = all tweets\n",
    "    for emoji in corpus:\n",
    "        emoji_sequence = []\n",
    "\n",
    "        try:\n",
    "            emojivec = emoji_embeddings[emoji]\n",
    "            assert len(emojivec) == M\n",
    "            emoji_sequence.append(emojivec)\n",
    "        except KeyError:\n",
    "            emoji_sequence.append([0 for _ in range(M)])\n",
    "            print(\"This {} does not exist in the pre-trained emoji embeddings.\".format(emoji))\n",
    "\n",
    "        emojivecs.append(emoji_sequence)\n",
    "\n",
    "    assert len(emojivecs) == N\n",
    "    return np.array(emojivecs)\n",
    "\n",
    "def get_wordvecs(word_embeddings: dict, corpus: list, dims: int, zeros_padding = False):\n",
    "\n",
    "    \"\"\" \n",
    "    Return a concatenated word vector representation of each tweet.\n",
    "    The concatenated word vectors serve as the input data for the LSTM RNN.\n",
    "    Each word (embedding) denotes a time step. (Number of timesteps is equal to the length of the input sentence.)\n",
    "    \n",
    "    Check whether length of word vector is equal to the number of dimensions we pass to this function.\n",
    "    For unknown words (i.e., if key does not exist), the representation is an empty vector / zeros matrix of len dims.\n",
    "\n",
    "    Sequences can have variable length (i.e., number of time steps per batch).\n",
    "    However, in some cases you might want to zero pad the batch if a sequence < max length of sequences in the corpus.\n",
    "    By default this argument is set to False as Keras and Tensorflow except input sequences of variable length.\n",
    "    If set to True, zero padding is computed.\n",
    "    \"\"\"\n",
    "\n",
    "    N = len(corpus)\n",
    "    M = dims\n",
    "    global max_length\n",
    "    max_length = max([len(sequence) for sequence in corpus])\n",
    "    wordvecs_corpus = []\n",
    "    \n",
    "    # document = tweet; corpus = all tweets\n",
    "    for document in corpus:\n",
    "        wordvec_sequence = []\n",
    "        for word in document:\n",
    "            \n",
    "            try:\n",
    "                wordvec = word_embeddings[word]\n",
    "                assert len(wordvec) == M\n",
    "                wordvec_sequence.append(wordvec)\n",
    "            except KeyError:\n",
    "                wordvec_sequence.append([0 for _ in range(M)])\n",
    "                \n",
    "        # needs to be resolved (!)\n",
    "        if zeros_padding == True: \n",
    "            if len(document) < max_length:\n",
    "\n",
    "                for _ in range(len(document), max_length):\n",
    "                    wordvec_sequence.append([0 for _ in range(M)])\n",
    "\n",
    "                assert len(wordvec_sequence) == max_length\n",
    "        wordvecs_corpus.append(wordvec_sequence)\n",
    "\n",
    "    assert len(wordvecs_corpus) == N\n",
    "    return np.array(wordvecs_corpus)"
   ]
  },
  {
   "cell_type": "code",
   "execution_count": null,
   "metadata": {},
   "outputs": [],
   "source": []
  },
  {
   "cell_type": "code",
   "execution_count": null,
   "metadata": {},
   "outputs": [],
   "source": []
  },
  {
   "cell_type": "code",
   "execution_count": null,
   "metadata": {},
   "outputs": [],
   "source": []
  },
  {
   "cell_type": "code",
   "execution_count": null,
   "metadata": {},
   "outputs": [],
   "source": []
  },
  {
   "cell_type": "code",
   "execution_count": null,
   "metadata": {},
   "outputs": [],
   "source": []
  },
  {
   "cell_type": "code",
   "execution_count": null,
   "metadata": {},
   "outputs": [],
   "source": []
  },
  {
   "cell_type": "code",
   "execution_count": null,
   "metadata": {},
   "outputs": [],
   "source": []
  },
  {
   "cell_type": "code",
   "execution_count": null,
   "metadata": {},
   "outputs": [],
   "source": []
  },
  {
   "cell_type": "code",
   "execution_count": null,
   "metadata": {},
   "outputs": [],
   "source": []
  },
  {
   "cell_type": "code",
   "execution_count": null,
   "metadata": {},
   "outputs": [],
   "source": []
  },
  {
   "cell_type": "code",
   "execution_count": null,
   "metadata": {},
   "outputs": [],
   "source": []
  },
  {
   "cell_type": "code",
   "execution_count": null,
   "metadata": {},
   "outputs": [],
   "source": []
  },
  {
   "cell_type": "code",
   "execution_count": null,
   "metadata": {},
   "outputs": [],
   "source": []
  }
 ],
 "metadata": {
  "hide_input": false,
  "kernelspec": {
   "display_name": "Python 3",
   "language": "python",
   "name": "python3"
  },
  "language_info": {
   "codemirror_mode": {
    "name": "ipython",
    "version": 3
   },
   "file_extension": ".py",
   "mimetype": "text/x-python",
   "name": "python",
   "nbconvert_exporter": "python",
   "pygments_lexer": "ipython3",
   "version": "3.6.8"
  },
  "toc": {
   "base_numbering": 1,
   "nav_menu": {},
   "number_sections": true,
   "sideBar": true,
   "skip_h1_title": false,
   "title_cell": "Table of Contents",
   "title_sidebar": "Contents",
   "toc_cell": false,
   "toc_position": {},
   "toc_section_display": true,
   "toc_window_display": false
  },
  "varInspector": {
   "cols": {
    "lenName": 16,
    "lenType": 16,
    "lenVar": 40
   },
   "kernels_config": {
    "python": {
     "delete_cmd_postfix": "",
     "delete_cmd_prefix": "del ",
     "library": "var_list.py",
     "varRefreshCmd": "print(var_dic_list())"
    },
    "r": {
     "delete_cmd_postfix": ") ",
     "delete_cmd_prefix": "rm(",
     "library": "var_list.r",
     "varRefreshCmd": "cat(var_dic_list()) "
    }
   },
   "types_to_exclude": [
    "module",
    "function",
    "builtin_function_or_method",
    "instance",
    "_Feature"
   ],
   "window_display": false
  }
 },
 "nbformat": 4,
 "nbformat_minor": 2
}
