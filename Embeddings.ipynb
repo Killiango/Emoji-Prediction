{
 "cells": [
  {
   "cell_type": "code",
   "execution_count": 1,
   "metadata": {
    "ExecuteTime": {
     "end_time": "2019-07-01T16:13:53.164994Z",
     "start_time": "2019-07-01T16:13:42.650094Z"
    }
   },
   "outputs": [
    {
     "name": "stderr",
     "output_type": "stream",
     "text": [
      "Using TensorFlow backend.\n"
     ]
    }
   ],
   "source": [
    "import numpy as np\n",
    "import pandas as pd\n",
    "\n",
    "import getopt\n",
    "import logging\n",
    "import nltk\n",
    "import os\n",
    "import re\n",
    "import sys\n",
    "\n",
    "from nltk.corpus import stopwords\n",
    "from nltk.stem.lancaster import LancasterStemmer\n",
    "\n",
    "from sklearn.metrics import f1_score, accuracy_score, classification_report\n",
    "from sklearn.utils import shuffle\n",
    "from sklearn.feature_extraction.text import CountVectorizer, TfidfVectorizer\n",
    "from sklearn.svm import SVC\n",
    "from sklearn.preprocessing import MaxAbsScaler\n",
    "\n",
    "\n",
    "import keras\n",
    "from keras import layers\n",
    "from keras.models import Sequential\n",
    "from keras.callbacks import EarlyStopping, ModelCheckpoint\n",
    "from keras.models import load_model"
   ]
  },
  {
   "cell_type": "markdown",
   "metadata": {},
   "source": [
    "## Helpers for reading Embeddings from files"
   ]
  },
  {
   "cell_type": "code",
   "execution_count": 2,
   "metadata": {
    "ExecuteTime": {
     "end_time": "2019-07-01T16:13:57.161616Z",
     "start_time": "2019-07-01T16:13:57.133691Z"
    },
    "code_folding": [
     0,
     44,
     68
    ]
   },
   "outputs": [],
   "source": [
    "def get_embeddings(text_file):\n",
    "\n",
    "    \"\"\" \n",
    "    Read GloVe txt.-file, load pre-trained word embeddings into memory\n",
    "    and create a word_to_embedding dictionary, where keys are the discrete word strings\n",
    "    and values are the corresponding continuous word embeddings, retrieved from the GloVe txt.-file.\n",
    "    For unkown words, the representation is an empty vector (i.e., zeros matrix).\n",
    "    \"\"\"\n",
    "    embeddings_dict = {}\n",
    "\n",
    "    with open(text_file, encoding=\"utf8\") as file:\n",
    "\n",
    "        for line in file:\n",
    "            values = line.split()\n",
    "            word = values[0]\n",
    "            wordvec = np.array(values[1:], dtype = 'float32')\n",
    "            embeddings_dict[word] = list(wordvec)\n",
    "\n",
    "    return embeddings_dict\n",
    "\n",
    "def sent2idx(word2idx, documents):\n",
    "    idx_docs = list()    \n",
    "    for document in documents: \n",
    "        idx_doc = [word2idx[word] if word in word2idx else word2idx['UNK'] \n",
    "                   for word in document.split()]            \n",
    "        idx_docs.append(idx_doc)\n",
    "    return np.array(idx_docs)\n",
    "\n",
    "def embedding_matrix(word2idx, embeddings_dict, dim):\n",
    "    \n",
    "    embedding_mat = np.zeros((len(word2idx.keys()), dim))\n",
    "    \n",
    "    for word, idx in word2idx.items():\n",
    "        vec = embeddings_dict.get(word)\n",
    "        # if word is not found in embeddings dictionary, vector will be all zeros\n",
    "        if vec is not None:\n",
    "            embedding_mat[idx] = vec            \n",
    "    return embedding_mat\n",
    "\n",
    "def get_emojivecs(emoji_embeddings, corpus, dims):\n",
    "\n",
    "    N = len(corpus)\n",
    "    M = dims\n",
    "    \n",
    "    emojivecs = []\n",
    "    \n",
    "    # document = tweet; corpus = all tweets\n",
    "    for emoji in corpus:\n",
    "        emoji_sequence = []\n",
    "\n",
    "        try:\n",
    "            emojivec = emoji_embeddings[emoji]\n",
    "            assert len(emojivec) == M\n",
    "            emoji_sequence.append(emojivec)\n",
    "        except KeyError:\n",
    "            emoji_sequence.append([0 for _ in range(M)])\n",
    "            print(\"This {} does not exist in the pre-trained emoji embeddings.\".format(emoji))\n",
    "\n",
    "        emojivecs.append(emoji_sequence)\n",
    "\n",
    "    assert len(emojivecs) == N\n",
    "    return np.array(emojivecs)\n",
    "\n",
    "def get_wordvecs(word_embeddings, corpus, dims, zeros_padding = False):\n",
    "\n",
    "    \"\"\" \n",
    "    Return a concatenated word vector representation of each tweet.\n",
    "    The concatenated word vectors serve as the input data for the LSTM RNN.\n",
    "    Each word (embedding) denotes a time step. (Number of timesteps is equal to the length of the input sentence.)\n",
    "    \n",
    "    Check whether length of word vector is equal to the number of dimensions we pass to this function.\n",
    "    For unknown words (i.e., if key does not exist), the representation is an empty vector / zeros matrix of len dims.\n",
    "\n",
    "    Sequences can have variable length (i.e., number of time steps per batch).\n",
    "    However, in some cases you might want to zero pad the batch if a sequence < max length of sequences in the corpus.\n",
    "    By default this argument is set to False as Keras and Tensorflow except input sequences of variable length.\n",
    "    If set to True, zero padding is computed.\n",
    "    \"\"\"\n",
    "\n",
    "    N = len(corpus)\n",
    "    M = dims\n",
    "    global max_length\n",
    "    max_length = max([len(sequence) for sequence in corpus])\n",
    "    wordvecs_corpus = []\n",
    "    \n",
    "    # document = tweet; corpus = all tweets\n",
    "    for document in corpus:\n",
    "        wordvec_sequence = []\n",
    "        for word in document:\n",
    "            \n",
    "            try:\n",
    "                wordvec = word_embeddings[word]\n",
    "                assert len(wordvec) == M\n",
    "                wordvec_sequence.append(wordvec)\n",
    "            except KeyError:\n",
    "                wordvec_sequence.append([0 for _ in range(M)])\n",
    "                \n",
    "        # needs to be resolved (!)\n",
    "        if zeros_padding == True: \n",
    "            if len(document) < max_length:\n",
    "\n",
    "                for _ in range(len(document), max_length):\n",
    "                    wordvec_sequence.append([0 for _ in range(M)])\n",
    "\n",
    "                assert len(wordvec_sequence) == max_length\n",
    "        wordvecs_corpus.append(wordvec_sequence)\n",
    "\n",
    "    assert len(wordvecs_corpus) == N\n",
    "    return np.array(wordvecs_corpus)"
   ]
  },
  {
   "cell_type": "markdown",
   "metadata": {},
   "source": [
    "## Helpers for top10 emojis"
   ]
  },
  {
   "cell_type": "code",
   "execution_count": 3,
   "metadata": {
    "ExecuteTime": {
     "end_time": "2019-07-01T16:13:58.802195Z",
     "start_time": "2019-07-01T16:13:58.791224Z"
    },
    "code_folding": [
     0,
     21,
     36,
     44
    ]
   },
   "outputs": [],
   "source": [
    "def count_emojis(data, n = 10):\n",
    "    \"\"\"\n",
    "    Function that counts the number of emojis in the data set.\n",
    "    Display the n most frequent emojis.\n",
    "    \"\"\"\n",
    "    emoji_counts = {}\n",
    "    for index, row in data.iterrows():\n",
    "        emoji = row[1]\n",
    "        if emoji not in emoji_counts:\n",
    "            # compute simultaneous counting\n",
    "            emoji_counts[emoji] = data[data.label == emoji].count()[1]\n",
    "            \n",
    "    # sort emojis by freq in descending order (list of tuples will be returned)\n",
    "    sorted_emoji_counts = sorted(emoji_counts.items(), key= lambda kv: kv[1], reverse=True)\n",
    "        \n",
    "    return [emoji[0] for emoji in sorted_emoji_counts[:n]]\n",
    "\n",
    "\n",
    "def emoji_to_int(labels):\n",
    "    return [emoji_map[emoji] for emoji in labels]\n",
    "\n",
    "def to_cat_matrix(y):\n",
    "    \"\"\" \n",
    "    Binary one-hot encoding using an indicator matrix.\n",
    "    This function converts labels to a categorical matrix which is of size N x K.\n",
    "    Each row is a row vector with k-1 zeros and a single 1.\n",
    "    \"\"\"\n",
    "    N = len(y)\n",
    "    K = len(set(y))\n",
    "    ind_matrix = np.zeros((N,K), dtype = int)\n",
    "    \n",
    "    for i, cat in enumerate(y):\n",
    "        ind_matrix[i, int(cat)] = 1\n",
    "        \n",
    "    return ind_matrix\n",
    "\n",
    "def preds_to_labels(ypred):\n",
    "    \"\"\"\n",
    "    Firstly, extract the predicted label from a vector of probability distributions.\n",
    "    Secondly, retrieve index of highest value (i.e., highest probability).\n",
    "    \"\"\"\n",
    "    num_labels = [np.argmax(pred) for pred in ypred]\n",
    "    return np.array(num_labels)\n",
    "\n",
    "def keep_top_10(data, top_10): \n",
    "    \"\"\"\n",
    "    Function that checks, whether Tweet consists of one of the top ten emojis.\n",
    "    If, and only if, Tweet consists one of the most frequent emojis, \n",
    "    Tweet will be used for further analysis.\n",
    "    Else: Line will be dropped.\n",
    "    \"\"\"\n",
    "    idx_drop = []\n",
    "    for index, row in data.iterrows():\n",
    "        if row[1] not in top_10:\n",
    "            idx_drop.append(index)\n",
    "    return data.drop(data.index[idx_drop])"
   ]
  },
  {
   "cell_type": "markdown",
   "metadata": {},
   "source": [
    "## Read Data and reduce to top10"
   ]
  },
  {
   "cell_type": "code",
   "execution_count": 4,
   "metadata": {
    "ExecuteTime": {
     "end_time": "2019-07-01T16:14:00.553741Z",
     "start_time": "2019-07-01T16:13:59.946393Z"
    }
   },
   "outputs": [
    {
     "data": {
      "text/html": [
       "<div>\n",
       "<style scoped>\n",
       "    .dataframe tbody tr th:only-of-type {\n",
       "        vertical-align: middle;\n",
       "    }\n",
       "\n",
       "    .dataframe tbody tr th {\n",
       "        vertical-align: top;\n",
       "    }\n",
       "\n",
       "    .dataframe thead th {\n",
       "        text-align: right;\n",
       "    }\n",
       "</style>\n",
       "<table border=\"1\" class=\"dataframe\">\n",
       "  <thead>\n",
       "    <tr style=\"text-align: right;\">\n",
       "      <th></th>\n",
       "      <th>text</th>\n",
       "      <th>label</th>\n",
       "    </tr>\n",
       "  </thead>\n",
       "  <tbody>\n",
       "    <tr>\n",
       "      <th>0</th>\n",
       "      <td>Kicking it at @arteryrcdings</td>\n",
       "      <td>✌️</td>\n",
       "    </tr>\n",
       "    <tr>\n",
       "      <th>1</th>\n",
       "      <td>Go England</td>\n",
       "      <td>💪</td>\n",
       "    </tr>\n",
       "    <tr>\n",
       "      <th>2</th>\n",
       "      <td>I'm single</td>\n",
       "      <td>😒</td>\n",
       "    </tr>\n",
       "    <tr>\n",
       "      <th>3</th>\n",
       "      <td>My boy Buddy all grown up now</td>\n",
       "      <td>💔</td>\n",
       "    </tr>\n",
       "    <tr>\n",
       "      <th>4</th>\n",
       "      <td>The one and only, @TheBigPygmy appearing on @e...</td>\n",
       "      <td>🙏</td>\n",
       "    </tr>\n",
       "  </tbody>\n",
       "</table>\n",
       "</div>"
      ],
      "text/plain": [
       "                                                text label\n",
       "0                       Kicking it at @arteryrcdings    ✌️\n",
       "1                                         Go England     💪\n",
       "2                                         I'm single     😒\n",
       "3                      My boy Buddy all grown up now     💔\n",
       "4  The one and only, @TheBigPygmy appearing on @e...     🙏"
      ]
     },
     "execution_count": 4,
     "metadata": {},
     "output_type": "execute_result"
    }
   ],
   "source": [
    "train_file = 'Datasets/train_set_processed.csv'\n",
    "test_file = 'Datasets/test_set_processed.csv'\n",
    "val_file = 'Datasets/val_set_processed.csv'\n",
    "\n",
    "\n",
    "train_data = pd.read_csv(train_file, sep=',', encoding = 'utf8', engine='c', header = 0)\n",
    "test_data = pd.read_csv(test_file, sep=',', encoding = 'utf8', engine='c', header = 0)\n",
    "val_data = pd.read_csv(val_file, sep=',', encoding = 'utf8', engine='c', header = 0)\n",
    "\n",
    "train_data.head()"
   ]
  },
  {
   "cell_type": "code",
   "execution_count": 5,
   "metadata": {
    "ExecuteTime": {
     "end_time": "2019-07-01T16:14:05.084366Z",
     "start_time": "2019-07-01T16:14:01.101016Z"
    }
   },
   "outputs": [
    {
     "name": "stdout",
     "output_type": "stream",
     "text": [
      "['😍', '😂', '❤️', '💕', '😊', '😘', '😭', '💖', '😎', '✨']\n"
     ]
    }
   ],
   "source": [
    "top_10_test = count_emojis(test_data)\n",
    "print(top_10_test)\n",
    "\n",
    "emoji_map = {emoji: i for i, emoji in enumerate(top_10_test)}\n",
    "idx_emoji = {i: emoji for i, emoji in enumerate(top_10_test)}"
   ]
  },
  {
   "cell_type": "code",
   "execution_count": 6,
   "metadata": {
    "ExecuteTime": {
     "end_time": "2019-07-01T16:14:34.754152Z",
     "start_time": "2019-07-01T16:14:05.117314Z"
    }
   },
   "outputs": [
    {
     "name": "stdout",
     "output_type": "stream",
     "text": [
      "Number of Tweets in the train data set: 81236\n",
      "Number of Tweets in the test data set: 7646\n",
      "Number of Tweets in the validation data set: 7613\n"
     ]
    }
   ],
   "source": [
    "train_data = keep_top_10(train_data, top_10_test)\n",
    "print(\"Number of Tweets in the train data set: {}\".format(len(train_data)))\n",
    "\n",
    "test_data = keep_top_10(test_data, top_10_test)\n",
    "print(\"Number of Tweets in the test data set: {}\".format(len(test_data)))\n",
    "\n",
    "val_data = keep_top_10(val_data, top_10_test)\n",
    "print(\"Number of Tweets in the validation data set: {}\".format(len(val_data)))"
   ]
  },
  {
   "cell_type": "markdown",
   "metadata": {},
   "source": [
    "## Clean tweets and provide word2ind dictionaries"
   ]
  },
  {
   "cell_type": "code",
   "execution_count": 7,
   "metadata": {
    "ExecuteTime": {
     "end_time": "2019-07-01T16:14:34.811984Z",
     "start_time": "2019-07-01T16:14:34.788033Z"
    },
    "code_folding": [
     0,
     10,
     13,
     32,
     40,
     43,
     48,
     51,
     58,
     63,
     79,
     107
    ]
   },
   "outputs": [],
   "source": [
    "def tweets_cleaning(tweets, labels, use_stopwords = False, train = False, use_bigrams = False, \n",
    "                    lowercase = True, stemming = False, min_df = 2, embedding = True):\n",
    "    \"\"\"\n",
    "    Text cleaning function that performs all necessary text preprocessing steps.\n",
    "    Function only keeps characters, that are alphanumerical (non-alphanumerical values are discarded).\n",
    "    Digits are treated by regular expressions.\n",
    "    Lower-casing is performed to reduce noise and normalize the text (convert it into a uniform representation).\n",
    "    Stemming is performed to only keep the stem of each word token but not any other deviated form. \n",
    "    Stop words (i.e., words that occur more frequently than other words in a given corpus) are removed.\n",
    "    \"\"\"\n",
    "    if stemming:\n",
    "        # initialize Lancaster stemmer\n",
    "        st = LancasterStemmer()\n",
    "    if use_stopwords:\n",
    "        # create list of stopwords\n",
    "        stopwords = list(set(stopwords.words('english')))\n",
    "    cleaned_data = []\n",
    "    cleaned_labels = []\n",
    "    \n",
    "    all_bigrams = [] # serves as place-holder\n",
    "    bigrams_dict = dict()\n",
    "    vocab = dict()\n",
    "    \n",
    "    for tweet, label in zip(tweets, labels):\n",
    "        tweet = re.sub(r'&amp\\S+','', tweet)\n",
    "        tweet = re.sub(r' & ', ' and ', tweet)\n",
    "        tweet = re.sub(r'!+', ' ! ', tweet)\n",
    "        tweet = re.sub(r'[?]+', ' ? ', tweet)\n",
    "        tweet = re.sub('@.+', '@user', tweet)\n",
    "        tweet = re.sub('#', '# ', tweet)\n",
    "\n",
    "        # Create spaces instead of some punctuation marks, but not if it's part of an emoticon\n",
    "        tweet = ' '.join([word if re.search(r'(?:X|:|;|=)(?:-)?(?:\\)|\\(|O|D|P|S)+', word)\n",
    "            else re.sub('[,.;\\-_:/\\n\\t]+', ' ', word) for word in tweet.split()])\n",
    "        tweet = tweet.split(\" \")\n",
    "        \n",
    "        cleaned_tweet = []\n",
    "        for word in tweet:\n",
    "            \n",
    "            #if emoticon is in word, keep the emoticon\n",
    "            if re.search(r'(?:X|:|;|=)(?:-)?(?:\\)|\\(|O|D|P|S)+', word):\n",
    "                cleaned_word = word\n",
    "            # keep special characters which might carry important information\n",
    "            else:\n",
    "                cleaned_word = ''.join([char for char in word if re.search('[<>$#€£!?@=]', char) or\n",
    "                                        char.isalnum()])\n",
    "            \n",
    "            # perform lower-casing to normalize the text and reduce noise\n",
    "            if lowercase:\n",
    "                cleaned_word = cleaned_word.lower()\n",
    "                \n",
    "            if \"<3\" not in cleaned_word:\n",
    "                cleaned_word = re.sub('[0-9]', '0', cleaned_word)\n",
    "  \n",
    "            # removes each \\n (i.e., new line) or \\t (i.e., tab) -> pipe char denotes a disjunction\n",
    "            cleaned_word = re.sub(r'( \\n| \\t)+', '', cleaned_word)\n",
    "            \n",
    "            # perform stemming\n",
    "            if stemming:\n",
    "                cleaned_word = st.stem(cleaned_word)\n",
    "            \n",
    "            # Check if the word is a stopword, if so dont append it\n",
    "            # Also creates the dictionary{word:freq} of all words\n",
    "            if len(cleaned_word) > 0:\n",
    "                if not use_stopwords:\n",
    "                    cleaned_tweet.append(cleaned_word)\n",
    "                elif(cleaned_word not in stopwords):\n",
    "                    cleaned_tweet.append(cleaned_word)\n",
    "\n",
    "                if train:\n",
    "                    if cleaned_word in vocab:\n",
    "                        vocab[cleaned_word] += 1\n",
    "                    else:\n",
    "                        vocab[cleaned_word] = 1\n",
    "            \n",
    "        # only append tweets with more than 1 word per tweet\n",
    "        if len(cleaned_tweet) > 1:\n",
    "            \n",
    "            # Create bigrams\n",
    "            if train and use_bigrams:\n",
    "                \n",
    "                bigrams = [' '.join([cleaned_tweet[i-1], cleaned_tweet[i]]) \n",
    "                           for i, _ in enumerate(cleaned_tweet) if i > 0]\n",
    "                \n",
    "                for bigram in bigrams:\n",
    "                    \n",
    "                    if bigram in bigrams_dict:\n",
    "                        bigrams_dict[bigram] += 1\n",
    "                    else:\n",
    "                        bigrams_dict[bigram] = 1 \n",
    "\n",
    "            cleaned_tweet = ' '.join(cleaned_tweet)\n",
    "            cleaned_data.append(cleaned_tweet)\n",
    "            cleaned_labels.append(label)\n",
    "            \n",
    "    # Creates and returns a dict {word: index}\n",
    "    if train and embedding and not use_bigrams:\n",
    "        word2index = dict()\n",
    "        word2index[\"<PAD>\"] = 0\n",
    "        word2index[\"UNK\"] = 1\n",
    "        i = 2\n",
    "        for word in vocab.keys():\n",
    "            word2index[word] = i\n",
    "            i += 1        \n",
    "        assert len(cleaned_data) == len(cleaned_labels)\n",
    "        return cleaned_data, cleaned_labels, word2index\n",
    "                \n",
    "    if train:\n",
    "        vocab = [word for word, freq in vocab.items() if freq >= min_df]  \n",
    "        if use_bigrams:\n",
    "            all_bigrams = [bigram for bigram, freq in bigrams_dict.items() if freq >= min_df]\n",
    "            vocab.extend(all_bigrams)\n",
    "    \n",
    "    assert len(cleaned_data) == len(cleaned_labels)    \n",
    "    return cleaned_data, cleaned_labels, sorted(vocab), sorted(all_bigrams)"
   ]
  },
  {
   "cell_type": "code",
   "execution_count": 9,
   "metadata": {
    "ExecuteTime": {
     "end_time": "2019-07-01T16:17:17.383087Z",
     "start_time": "2019-07-01T16:17:10.093041Z"
    }
   },
   "outputs": [
    {
     "name": "stdout",
     "output_type": "stream",
     "text": [
      "Number of unique tokens in the vocabulary: 33332 \n",
      "\n",
      "Number of Tweets per data set after text cleaning was computed:\n",
      "Train: 68750\n",
      "Test: 6539\n",
      "Validation: 6505\n"
     ]
    }
   ],
   "source": [
    "cleaned_train_data, cleaned_train_labels, word2idx = tweets_cleaning(train_data.text, train_data.label, train = True)\n",
    "cleaned_test_data, cleaned_test_labels,_,_  = tweets_cleaning(test_data.text, test_data.label, train = False)\n",
    "cleaned_val_data, cleaned_val_labels,_,_  = tweets_cleaning(val_data.text, val_data.label, train = False)\n",
    "\n",
    "print(\"Number of unique tokens in the vocabulary: {} \\n\".format(len(word2idx.keys())))\n",
    "print(\"Number of Tweets per data set after text cleaning was computed:\")\n",
    "print(\"Train: {}\".format(len(cleaned_train_data)))\n",
    "print(\"Test: {}\".format(len(cleaned_test_data)))\n",
    "print(\"Validation: {}\".format(len(cleaned_val_data)))"
   ]
  },
  {
   "cell_type": "code",
   "execution_count": 10,
   "metadata": {
    "ExecuteTime": {
     "end_time": "2019-07-01T16:17:17.504762Z",
     "start_time": "2019-07-01T16:17:17.464868Z"
    }
   },
   "outputs": [],
   "source": [
    "y_train = emoji_to_int(cleaned_train_labels)\n",
    "y_test = emoji_to_int(cleaned_test_labels)\n",
    "y_val = emoji_to_int(cleaned_val_labels)\n",
    "\n",
    "y_train_cat = to_cat_matrix(y_train)\n",
    "y_test_cat = to_cat_matrix(y_test)\n",
    "y_val_cat = to_cat_matrix(y_val)"
   ]
  },
  {
   "cell_type": "code",
   "execution_count": 11,
   "metadata": {
    "ExecuteTime": {
     "end_time": "2019-07-01T16:17:17.914735Z",
     "start_time": "2019-07-01T16:17:17.596516Z"
    }
   },
   "outputs": [
    {
     "name": "stdout",
     "output_type": "stream",
     "text": [
      "[2, 3, 4, 5, 6, 7, 8, 9, 10, 11, 9, 12, 13, 14, 15, 3]\n"
     ]
    }
   ],
   "source": [
    "X_train = sent2idx(word2idx, cleaned_train_data)\n",
    "X_val = sent2idx(word2idx, cleaned_val_data)\n",
    "X_test = sent2idx(word2idx, cleaned_test_data)\n",
    "print(X_train[0])"
   ]
  },
  {
   "cell_type": "markdown",
   "metadata": {},
   "source": [
    "## Load pre-trained embeddings and create look-up matrix"
   ]
  },
  {
   "cell_type": "code",
   "execution_count": 28,
   "metadata": {
    "ExecuteTime": {
     "end_time": "2019-07-01T16:54:01.754089Z",
     "start_time": "2019-07-01T16:53:17.571674Z"
    }
   },
   "outputs": [],
   "source": [
    "word_embeddings = get_embeddings('glove.6B.200d.txt')"
   ]
  },
  {
   "cell_type": "code",
   "execution_count": 29,
   "metadata": {
    "ExecuteTime": {
     "end_time": "2019-07-01T16:54:43.258973Z",
     "start_time": "2019-07-01T16:54:43.231606Z"
    }
   },
   "outputs": [],
   "source": [
    "embedding_dim = 200\n",
    "maxlen = 124\n",
    "vocab_size = len(word2idx)"
   ]
  },
  {
   "cell_type": "code",
   "execution_count": 30,
   "metadata": {
    "ExecuteTime": {
     "end_time": "2019-07-01T16:55:23.888576Z",
     "start_time": "2019-07-01T16:55:22.722656Z"
    }
   },
   "outputs": [],
   "source": [
    "embedding_mat  = embedding_matrix(word2idx, word_embeddings, embedding_dim)"
   ]
  },
  {
   "cell_type": "code",
   "execution_count": 31,
   "metadata": {
    "ExecuteTime": {
     "end_time": "2019-07-01T16:56:05.232059Z",
     "start_time": "2019-07-01T16:56:04.823176Z"
    }
   },
   "outputs": [],
   "source": [
    "X_train = keras.preprocessing.sequence.pad_sequences(X_train, value=word2idx[\"<PAD>\"], padding='post', maxlen=maxlen)\n",
    "X_test = keras.preprocessing.sequence.pad_sequences(X_test, value=word2idx[\"<PAD>\"], padding='post', maxlen=maxlen)\n",
    "X_val = keras.preprocessing.sequence.pad_sequences(X_val, value=word2idx[\"<PAD>\"], padding='post', maxlen=maxlen)"
   ]
  },
  {
   "cell_type": "markdown",
   "metadata": {},
   "source": [
    "## Keras model"
   ]
  },
  {
   "cell_type": "code",
   "execution_count": 32,
   "metadata": {
    "ExecuteTime": {
     "end_time": "2019-07-01T16:56:48.385998Z",
     "start_time": "2019-07-01T16:56:44.396625Z"
    },
    "scrolled": false
   },
   "outputs": [
    {
     "name": "stdout",
     "output_type": "stream",
     "text": [
      "_________________________________________________________________\n",
      "Layer (type)                 Output Shape              Param #   \n",
      "=================================================================\n",
      "embedding_4 (Embedding)      (None, 124, 200)          6666400   \n",
      "_________________________________________________________________\n",
      "bidirectional_6 (Bidirection (None, 124, 256)          336896    \n",
      "_________________________________________________________________\n",
      "bidirectional_7 (Bidirection (None, 256)               394240    \n",
      "_________________________________________________________________\n",
      "dense_7 (Dense)              (None, 32)                8224      \n",
      "_________________________________________________________________\n",
      "dense_8 (Dense)              (None, 10)                330       \n",
      "=================================================================\n",
      "Total params: 7,406,090\n",
      "Trainable params: 739,690\n",
      "Non-trainable params: 6,666,400\n",
      "_________________________________________________________________\n"
     ]
    }
   ],
   "source": [
    "model = keras.Sequential([\n",
    "    #layers.Embedding(vocab_size, embedding_dim, input_length=maxlen),\n",
    "    layers.Embedding(vocab_size, embedding_dim, input_length=maxlen, weights = [embedding_mat], trainable = False, mask_zero = True),\n",
    "    layers.Bidirectional(layers.LSTM(128, return_sequences = True)),\n",
    "    layers.Bidirectional(layers.LSTM(128, return_sequences = False)),\n",
    "    layers.Dense(32, activation='relu'),\n",
    "    layers.Dense(10, activation='softmax')\n",
    "])\n",
    "model.summary()"
   ]
  },
  {
   "cell_type": "code",
   "execution_count": 33,
   "metadata": {
    "ExecuteTime": {
     "end_time": "2019-07-01T16:57:30.514294Z",
     "start_time": "2019-07-01T16:57:30.336736Z"
    }
   },
   "outputs": [],
   "source": [
    "model.compile(loss='categorical_crossentropy',\n",
    "              optimizer='adam',\n",
    "              metrics=['accuracy'])\n",
    "es = keras.callbacks.EarlyStopping(monitor = 'val_loss', mode='min', verbose=1)\n",
    "mc = keras.callbacks.ModelCheckpoint('best.h5', monitor='val_loss',mode='min', verbose=1, save_best_only= True)"
   ]
  },
  {
   "cell_type": "code",
   "execution_count": 35,
   "metadata": {
    "ExecuteTime": {
     "end_time": "2019-07-01T19:11:34.945463Z",
     "start_time": "2019-07-01T18:20:26.106449Z"
    },
    "scrolled": false
   },
   "outputs": [
    {
     "name": "stdout",
     "output_type": "stream",
     "text": [
      "Train on 68750 samples, validate on 6505 samples\n",
      "Epoch 1/10\n",
      "68750/68750 [==============================] - 379s 6ms/step - loss: 1.8241 - acc: 0.3744 - val_loss: 1.8350 - val_acc: 0.3693\n",
      "Epoch 2/10\n",
      "68750/68750 [==============================] - 359s 5ms/step - loss: 1.7862 - acc: 0.3860 - val_loss: 1.8196 - val_acc: 0.3762\n",
      "Epoch 3/10\n",
      "68750/68750 [==============================] - 414s 6ms/step - loss: 1.7425 - acc: 0.4018 - val_loss: 1.8143 - val_acc: 0.3737\n",
      "Epoch 4/10\n",
      "68750/68750 [==============================] - 406s 6ms/step - loss: 1.7007 - acc: 0.4162 - val_loss: 1.7964 - val_acc: 0.3834\n",
      "Epoch 5/10\n",
      "68750/68750 [==============================] - 350s 5ms/step - loss: 1.6478 - acc: 0.4338 - val_loss: 1.7939 - val_acc: 0.3885\n",
      "Epoch 6/10\n",
      "68750/68750 [==============================] - 232s 3ms/step - loss: 1.5882 - acc: 0.4518 - val_loss: 1.8072 - val_acc: 0.3825\n",
      "Epoch 7/10\n",
      "68750/68750 [==============================] - 233s 3ms/step - loss: 1.5183 - acc: 0.4748 - val_loss: 1.8212 - val_acc: 0.3877\n",
      "Epoch 8/10\n",
      "68750/68750 [==============================] - 232s 3ms/step - loss: 1.4348 - acc: 0.5040 - val_loss: 1.8429 - val_acc: 0.3957\n",
      "Epoch 9/10\n",
      "68750/68750 [==============================] - 232s 3ms/step - loss: 1.3451 - acc: 0.5366 - val_loss: 1.8813 - val_acc: 0.3917\n",
      "Epoch 10/10\n",
      "68750/68750 [==============================] - 232s 3ms/step - loss: 1.2468 - acc: 0.5705 - val_loss: 1.9312 - val_acc: 0.3988\n"
     ]
    }
   ],
   "source": [
    "history = model.fit(\n",
    "    X_train,\n",
    "    y_train_cat,\n",
    "    epochs=10,\n",
    "    batch_size=512,\n",
    "    validation_data=(X_val, y_val_cat))"
   ]
  },
  {
   "cell_type": "code",
   "execution_count": null,
   "metadata": {
    "ExecuteTime": {
     "end_time": "2019-07-01T17:12:04.086888Z",
     "start_time": "2019-07-01T16:53:20.091Z"
    }
   },
   "outputs": [],
   "source": [
    "# get predictions\n",
    "y_pred_test = model.predict(X_test)\n",
    "\n",
    "# convert predictions to labels\n",
    "y_pred_labels = preds_to_labels(y_pred_test)"
   ]
  },
  {
   "cell_type": "code",
   "execution_count": null,
   "metadata": {
    "ExecuteTime": {
     "end_time": "2019-07-01T17:12:04.090140Z",
     "start_time": "2019-07-01T16:53:22.298Z"
    }
   },
   "outputs": [],
   "source": [
    "accuracy_score(y_test, y_pred_labels)"
   ]
  },
  {
   "cell_type": "markdown",
   "metadata": {},
   "source": [
    "from gensim.models.keyedvectors import KeyedVectors\n",
    "\n",
    "model = KeyedVectors.load_word2vec_format('GoogleNews-vectors-negative300.bin', binary=True)\n",
    "model.save_word2vec_format('word2vec.txt', binary=False)"
   ]
  },
  {
   "cell_type": "markdown",
   "metadata": {},
   "source": [
    "word_embeddings = get_embeddings(\"word2vec.txt\")"
   ]
  }
 ],
 "metadata": {
  "hide_input": false,
  "kernelspec": {
   "display_name": "Python 3",
   "language": "python",
   "name": "python3"
  },
  "language_info": {
   "codemirror_mode": {
    "name": "ipython",
    "version": 3
   },
   "file_extension": ".py",
   "mimetype": "text/x-python",
   "name": "python",
   "nbconvert_exporter": "python",
   "pygments_lexer": "ipython3",
   "version": "3.6.8"
  },
  "toc": {
   "base_numbering": 1,
   "nav_menu": {},
   "number_sections": true,
   "sideBar": true,
   "skip_h1_title": false,
   "title_cell": "Table of Contents",
   "title_sidebar": "Contents",
   "toc_cell": false,
   "toc_position": {},
   "toc_section_display": true,
   "toc_window_display": true
  },
  "varInspector": {
   "cols": {
    "lenName": 16,
    "lenType": 16,
    "lenVar": 40
   },
   "kernels_config": {
    "python": {
     "delete_cmd_postfix": "",
     "delete_cmd_prefix": "del ",
     "library": "var_list.py",
     "varRefreshCmd": "print(var_dic_list())"
    },
    "r": {
     "delete_cmd_postfix": ") ",
     "delete_cmd_prefix": "rm(",
     "library": "var_list.r",
     "varRefreshCmd": "cat(var_dic_list()) "
    }
   },
   "types_to_exclude": [
    "module",
    "function",
    "builtin_function_or_method",
    "instance",
    "_Feature"
   ],
   "window_display": false
  }
 },
 "nbformat": 4,
 "nbformat_minor": 2
}
