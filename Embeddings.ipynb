{
 "cells": [
  {
   "cell_type": "code",
   "execution_count": 80,
   "metadata": {
    "ExecuteTime": {
     "end_time": "2019-07-01T13:17:38.491898Z",
     "start_time": "2019-07-01T13:17:38.485912Z"
    }
   },
   "outputs": [],
   "source": [
    "import numpy as np\n",
    "import pandas as pd\n",
    "\n",
    "import getopt\n",
    "import logging\n",
    "import nltk\n",
    "import os\n",
    "import re\n",
    "import sys\n",
    "\n",
    "from nltk.corpus import stopwords\n",
    "from nltk.stem.lancaster import LancasterStemmer\n",
    "\n",
    "from sklearn.metrics import f1_score, accuracy_score, classification_report\n",
    "from sklearn.utils import shuffle\n",
    "from sklearn.feature_extraction.text import CountVectorizer, TfidfVectorizer\n",
    "from sklearn.svm import SVC\n",
    "from sklearn.preprocessing import MaxAbsScaler\n",
    "\n",
    "\n",
    "import keras\n",
    "from keras import layers\n",
    "from keras.models import Sequential\n",
    "from keras.callbacks import EarlyStopping, ModelCheckpoint\n",
    "from keras.models import load_model"
   ]
  },
  {
   "cell_type": "markdown",
   "metadata": {},
   "source": [
    "## Helpers for reading Embeddings from files"
   ]
  },
  {
   "cell_type": "code",
   "execution_count": 68,
   "metadata": {
    "ExecuteTime": {
     "end_time": "2019-07-01T13:10:46.932631Z",
     "start_time": "2019-07-01T13:10:46.903554Z"
    },
    "code_folding": [
     0,
     44,
     68
    ]
   },
   "outputs": [],
   "source": [
    "def get_embeddings(text_file):\n",
    "\n",
    "    \"\"\" \n",
    "    Read GloVe txt.-file, load pre-trained word embeddings into memory\n",
    "    and create a word_to_embedding dictionary, where keys are the discrete word strings\n",
    "    and values are the corresponding continuous word embeddings, retrieved from the GloVe txt.-file.\n",
    "    For unkown words, the representation is an empty vector (i.e., zeros matrix).\n",
    "    \"\"\"\n",
    "    embeddings_dict = {}\n",
    "\n",
    "    with open(text_file, encoding=\"utf8\") as file:\n",
    "\n",
    "        for line in file:\n",
    "            values = line.split()\n",
    "            word = values[0]\n",
    "            wordvec = np.array(values[1:], dtype = 'float32')\n",
    "            embeddings_dict[word] = list(wordvec)\n",
    "\n",
    "    return embeddings_dict\n",
    "\n",
    "def sent2idx(word2idx, documents):\n",
    "    idx_docs = list()    \n",
    "    for document in documents: \n",
    "        idx_doc = [word2idx[word] if word in word2idx else word2idx['UNK'] \n",
    "                   for word in document.split()]            \n",
    "        idx_docs.append(idx_doc)\n",
    "    return np.array(idx_docs)\n",
    "\n",
    "def embedding_matrix(word2idx, embeddings_dict, dim):\n",
    "    \n",
    "    embedding_mat = np.zeros((len(word2idx.keys()), dim))\n",
    "    \n",
    "    for word, idx in word2idx.items():\n",
    "        vec = embeddings_dict.get(word)\n",
    "        # if word is not found in embeddings dictionary, vector will be all zeros\n",
    "        if vec is not None:\n",
    "            embedding_mat[idx] = vec            \n",
    "    return embedding_mat\n",
    "\n",
    "def get_emojivecs(emoji_embeddings, corpus, dims):\n",
    "\n",
    "    N = len(corpus)\n",
    "    M = dims\n",
    "    \n",
    "    emojivecs = []\n",
    "    \n",
    "    # document = tweet; corpus = all tweets\n",
    "    for emoji in corpus:\n",
    "        emoji_sequence = []\n",
    "\n",
    "        try:\n",
    "            emojivec = emoji_embeddings[emoji]\n",
    "            assert len(emojivec) == M\n",
    "            emoji_sequence.append(emojivec)\n",
    "        except KeyError:\n",
    "            emoji_sequence.append([0 for _ in range(M)])\n",
    "            print(\"This {} does not exist in the pre-trained emoji embeddings.\".format(emoji))\n",
    "\n",
    "        emojivecs.append(emoji_sequence)\n",
    "\n",
    "    assert len(emojivecs) == N\n",
    "    return np.array(emojivecs)\n",
    "\n",
    "def get_wordvecs(word_embeddings, corpus, dims, zeros_padding = False):\n",
    "\n",
    "    \"\"\" \n",
    "    Return a concatenated word vector representation of each tweet.\n",
    "    The concatenated word vectors serve as the input data for the LSTM RNN.\n",
    "    Each word (embedding) denotes a time step. (Number of timesteps is equal to the length of the input sentence.)\n",
    "    \n",
    "    Check whether length of word vector is equal to the number of dimensions we pass to this function.\n",
    "    For unknown words (i.e., if key does not exist), the representation is an empty vector / zeros matrix of len dims.\n",
    "\n",
    "    Sequences can have variable length (i.e., number of time steps per batch).\n",
    "    However, in some cases you might want to zero pad the batch if a sequence < max length of sequences in the corpus.\n",
    "    By default this argument is set to False as Keras and Tensorflow except input sequences of variable length.\n",
    "    If set to True, zero padding is computed.\n",
    "    \"\"\"\n",
    "\n",
    "    N = len(corpus)\n",
    "    M = dims\n",
    "    global max_length\n",
    "    max_length = max([len(sequence) for sequence in corpus])\n",
    "    wordvecs_corpus = []\n",
    "    \n",
    "    # document = tweet; corpus = all tweets\n",
    "    for document in corpus:\n",
    "        wordvec_sequence = []\n",
    "        for word in document:\n",
    "            \n",
    "            try:\n",
    "                wordvec = word_embeddings[word]\n",
    "                assert len(wordvec) == M\n",
    "                wordvec_sequence.append(wordvec)\n",
    "            except KeyError:\n",
    "                wordvec_sequence.append([0 for _ in range(M)])\n",
    "                \n",
    "        # needs to be resolved (!)\n",
    "        if zeros_padding == True: \n",
    "            if len(document) < max_length:\n",
    "\n",
    "                for _ in range(len(document), max_length):\n",
    "                    wordvec_sequence.append([0 for _ in range(M)])\n",
    "\n",
    "                assert len(wordvec_sequence) == max_length\n",
    "        wordvecs_corpus.append(wordvec_sequence)\n",
    "\n",
    "    assert len(wordvecs_corpus) == N\n",
    "    return np.array(wordvecs_corpus)"
   ]
  },
  {
   "cell_type": "markdown",
   "metadata": {},
   "source": [
    "## Helpers for top10 emojis"
   ]
  },
  {
   "cell_type": "code",
   "execution_count": 100,
   "metadata": {
    "ExecuteTime": {
     "end_time": "2019-07-01T13:40:35.495650Z",
     "start_time": "2019-07-01T13:40:35.470716Z"
    },
    "code_folding": [
     0,
     21,
     36,
     44
    ]
   },
   "outputs": [],
   "source": [
    "def count_emojis(data, n = 10):\n",
    "    \"\"\"\n",
    "    Function that counts the number of emojis in the data set.\n",
    "    Display the n most frequent emojis.\n",
    "    \"\"\"\n",
    "    emoji_counts = {}\n",
    "    for index, row in data.iterrows():\n",
    "        emoji = row[1]\n",
    "        if emoji not in emoji_counts:\n",
    "            # compute simultaneous counting\n",
    "            emoji_counts[emoji] = data[data.label == emoji].count()[1]\n",
    "            \n",
    "    # sort emojis by freq in descending order (list of tuples will be returned)\n",
    "    sorted_emoji_counts = sorted(emoji_counts.items(), key= lambda kv: kv[1], reverse=True)\n",
    "        \n",
    "    return [emoji[0] for emoji in sorted_emoji_counts[:n]]\n",
    "\n",
    "\n",
    "def emoji_to_int(labels):\n",
    "    return [emoji_map[emoji] for emoji in labels]\n",
    "\n",
    "def to_cat_matrix(y):\n",
    "    \"\"\" \n",
    "    Binary one-hot encoding using an indicator matrix.\n",
    "    This function converts labels to a categorical matrix which is of size N x K.\n",
    "    Each row is a row vector with k-1 zeros and a single 1.\n",
    "    \"\"\"\n",
    "    N = len(y)\n",
    "    K = len(set(y))\n",
    "    ind_matrix = np.zeros((N,K), dtype = int)\n",
    "    \n",
    "    for i, cat in enumerate(y):\n",
    "        ind_matrix[i, int(cat)] = 1\n",
    "        \n",
    "    return ind_matrix\n",
    "\n",
    "def preds_to_labels(ypred):\n",
    "    \"\"\"\n",
    "    Firstly, extract the predicted label from a vector of probability distributions.\n",
    "    Secondly, retrieve index of highest value (i.e., highest probability).\n",
    "    \"\"\"\n",
    "    num_labels = [np.argmax(pred) for pred in ypred]\n",
    "    return np.array(num_labels)\n",
    "\n",
    "def keep_top_10(data, top_10): \n",
    "    \"\"\"\n",
    "    Function that checks, whether Tweet consists of one of the top ten emojis.\n",
    "    If, and only if, Tweet consists one of the most frequent emojis, \n",
    "    Tweet will be used for further analysis.\n",
    "    Else: Line will be dropped.\n",
    "    \"\"\"\n",
    "    idx_drop = []\n",
    "    for index, row in data.iterrows():\n",
    "        if row[1] not in top_10:\n",
    "            idx_drop.append(index)\n",
    "    return data.drop(data.index[idx_drop])"
   ]
  },
  {
   "cell_type": "markdown",
   "metadata": {},
   "source": [
    "## Read Data and reduce to top10"
   ]
  },
  {
   "cell_type": "code",
   "execution_count": 17,
   "metadata": {
    "ExecuteTime": {
     "end_time": "2019-07-01T12:25:51.647220Z",
     "start_time": "2019-07-01T12:25:51.249285Z"
    }
   },
   "outputs": [
    {
     "data": {
      "text/html": [
       "<div>\n",
       "<style scoped>\n",
       "    .dataframe tbody tr th:only-of-type {\n",
       "        vertical-align: middle;\n",
       "    }\n",
       "\n",
       "    .dataframe tbody tr th {\n",
       "        vertical-align: top;\n",
       "    }\n",
       "\n",
       "    .dataframe thead th {\n",
       "        text-align: right;\n",
       "    }\n",
       "</style>\n",
       "<table border=\"1\" class=\"dataframe\">\n",
       "  <thead>\n",
       "    <tr style=\"text-align: right;\">\n",
       "      <th></th>\n",
       "      <th>text</th>\n",
       "      <th>label</th>\n",
       "    </tr>\n",
       "  </thead>\n",
       "  <tbody>\n",
       "    <tr>\n",
       "      <th>0</th>\n",
       "      <td>Kicking it at @arteryrcdings</td>\n",
       "      <td>✌️</td>\n",
       "    </tr>\n",
       "    <tr>\n",
       "      <th>1</th>\n",
       "      <td>Go England</td>\n",
       "      <td>💪</td>\n",
       "    </tr>\n",
       "    <tr>\n",
       "      <th>2</th>\n",
       "      <td>I'm single</td>\n",
       "      <td>😒</td>\n",
       "    </tr>\n",
       "    <tr>\n",
       "      <th>3</th>\n",
       "      <td>My boy Buddy all grown up now</td>\n",
       "      <td>💔</td>\n",
       "    </tr>\n",
       "    <tr>\n",
       "      <th>4</th>\n",
       "      <td>The one and only, @TheBigPygmy appearing on @e...</td>\n",
       "      <td>🙏</td>\n",
       "    </tr>\n",
       "  </tbody>\n",
       "</table>\n",
       "</div>"
      ],
      "text/plain": [
       "                                                text label\n",
       "0                       Kicking it at @arteryrcdings    ✌️\n",
       "1                                         Go England     💪\n",
       "2                                         I'm single     😒\n",
       "3                      My boy Buddy all grown up now     💔\n",
       "4  The one and only, @TheBigPygmy appearing on @e...     🙏"
      ]
     },
     "execution_count": 17,
     "metadata": {},
     "output_type": "execute_result"
    }
   ],
   "source": [
    "train_file = 'Datasets/train_set_processed.csv'\n",
    "test_file = 'Datasets/test_set_processed.csv'\n",
    "val_file = 'Datasets/val_set_processed.csv'\n",
    "\n",
    "\n",
    "train_data = pd.read_csv(train_file, sep=',', encoding = 'utf8', engine='c', header = 0)\n",
    "test_data = pd.read_csv(test_file, sep=',', encoding = 'utf8', engine='c', header = 0)\n",
    "val_data = pd.read_csv(val_file, sep=',', encoding = 'utf8', engine='c', header = 0)\n",
    "\n",
    "train_data.head()"
   ]
  },
  {
   "cell_type": "code",
   "execution_count": 18,
   "metadata": {
    "ExecuteTime": {
     "end_time": "2019-07-01T12:25:58.318328Z",
     "start_time": "2019-07-01T12:25:54.435726Z"
    }
   },
   "outputs": [
    {
     "name": "stdout",
     "output_type": "stream",
     "text": [
      "['😍', '😂', '❤️', '💕', '😊', '😘', '😭', '💖', '😎', '✨']\n"
     ]
    }
   ],
   "source": [
    "top_10_test = count_emojis(test_data)\n",
    "print(top_10_test)\n",
    "\n",
    "emoji_map = {emoji: i for i, emoji in enumerate(top_10_test)}\n",
    "idx_emoji = {i: emoji for i, emoji in enumerate(top_10_test)}"
   ]
  },
  {
   "cell_type": "code",
   "execution_count": 19,
   "metadata": {
    "ExecuteTime": {
     "end_time": "2019-07-01T12:26:28.172794Z",
     "start_time": "2019-07-01T12:25:58.382146Z"
    }
   },
   "outputs": [
    {
     "name": "stdout",
     "output_type": "stream",
     "text": [
      "Number of Tweets in the train data set: 81236\n",
      "Number of Tweets in the test data set: 7646\n",
      "Number of Tweets in the validation data set: 7613\n"
     ]
    }
   ],
   "source": [
    "train_data = keep_top_10(train_data, top_10_test)\n",
    "print(\"Number of Tweets in the train data set: {}\".format(len(train_data)))\n",
    "\n",
    "test_data = keep_top_10(test_data, top_10_test)\n",
    "print(\"Number of Tweets in the test data set: {}\".format(len(test_data)))\n",
    "\n",
    "val_data = keep_top_10(val_data, top_10_test)\n",
    "print(\"Number of Tweets in the validation data set: {}\".format(len(val_data)))"
   ]
  },
  {
   "cell_type": "markdown",
   "metadata": {},
   "source": [
    "## Clean tweets and provide word2ind dictionaries"
   ]
  },
  {
   "cell_type": "code",
   "execution_count": 133,
   "metadata": {
    "ExecuteTime": {
     "end_time": "2019-07-01T15:11:33.784181Z",
     "start_time": "2019-07-01T15:11:33.747245Z"
    },
    "code_folding": [
     0,
     10,
     13,
     32,
     40,
     43,
     48,
     51,
     58,
     63,
     79,
     107
    ]
   },
   "outputs": [],
   "source": [
    "def tweets_cleaning(tweets, labels, use_stopwords = False, train = False, use_bigrams = False, \n",
    "                    lowercase = True, stemming = False, min_df = 2, embedding = True):\n",
    "    \"\"\"\n",
    "    Text cleaning function that performs all necessary text preprocessing steps.\n",
    "    Function only keeps characters, that are alphanumerical (non-alphanumerical values are discarded).\n",
    "    Digits are treated by regular expressions.\n",
    "    Lower-casing is performed to reduce noise and normalize the text (convert it into a uniform representation).\n",
    "    Stemming is performed to only keep the stem of each word token but not any other deviated form. \n",
    "    Stop words (i.e., words that occur more frequently than other words in a given corpus) are removed.\n",
    "    \"\"\"\n",
    "    if stemming:\n",
    "        # initialize Lancaster stemmer\n",
    "        st = LancasterStemmer()\n",
    "    if use_stopwords:\n",
    "        # create list of stopwords\n",
    "        stopwords = list(set(stopwords.words('english')))\n",
    "    cleaned_data = []\n",
    "    cleaned_labels = []\n",
    "    \n",
    "    all_bigrams = [] # serves as place-holder\n",
    "    bigrams_dict = dict()\n",
    "    vocab = dict()\n",
    "    \n",
    "    for tweet, label in zip(tweets, labels):\n",
    "        tweet = re.sub(r'&amp\\S+','', tweet)\n",
    "        tweet = re.sub(r' & ', ' and ', tweet)\n",
    "        tweet = re.sub(r'!+', ' ! ', tweet)\n",
    "        tweet = re.sub(r'[?]+', ' ? ', tweet)\n",
    "        tweet = re.sub('@.+', '@user', tweet)\n",
    "        tweet = re.sub('#', '# ', tweet)\n",
    "\n",
    "        # Create spaces instead of some punctuation marks, but not if it's part of an emoticon\n",
    "        tweet = ' '.join([word if re.search(r'(?:X|:|;|=)(?:-)?(?:\\)|\\(|O|D|P|S)+', word)\n",
    "            else re.sub('[,.;\\-_:/\\n\\t]+', ' ', word) for word in tweet.split()])\n",
    "        tweet = tweet.split(\" \")\n",
    "        \n",
    "        cleaned_tweet = []\n",
    "        for word in tweet:\n",
    "            \n",
    "            #if emoticon is in word, keep the emoticon\n",
    "            if re.search(r'(?:X|:|;|=)(?:-)?(?:\\)|\\(|O|D|P|S)+', word):\n",
    "                cleaned_word = word\n",
    "            # keep special characters which might carry important information\n",
    "            else:\n",
    "                cleaned_word = ''.join([char for char in word if re.search('[<>$#€£!?@=]', char) or\n",
    "                                        char.isalnum()])\n",
    "            \n",
    "            # perform lower-casing to normalize the text and reduce noise\n",
    "            if lowercase:\n",
    "                cleaned_word = cleaned_word.lower()\n",
    "                \n",
    "            if \"<3\" not in cleaned_word:\n",
    "                cleaned_word = re.sub('[0-9]', '0', cleaned_word)\n",
    "  \n",
    "            # removes each \\n (i.e., new line) or \\t (i.e., tab) -> pipe char denotes a disjunction\n",
    "            cleaned_word = re.sub(r'( \\n| \\t)+', '', cleaned_word)\n",
    "            \n",
    "            # perform stemming\n",
    "            if stemming:\n",
    "                cleaned_word = st.stem(cleaned_word)\n",
    "            \n",
    "            # Check if the word is a stopword, if so dont append it\n",
    "            # Also creates the dictionary{word:freq} of all words\n",
    "            if len(cleaned_word) > 0:\n",
    "                if not use_stopwords:\n",
    "                    cleaned_tweet.append(cleaned_word)\n",
    "                elif(cleaned_word not in stopwords):\n",
    "                    cleaned_tweet.append(cleaned_word)\n",
    "\n",
    "                if train:\n",
    "                    if cleaned_word in vocab:\n",
    "                        vocab[cleaned_word] += 1\n",
    "                    else:\n",
    "                        vocab[cleaned_word] = 1\n",
    "            \n",
    "        # only append tweets with more than 1 word per tweet\n",
    "        if len(cleaned_tweet) > 1:\n",
    "            \n",
    "            # Create bigrams\n",
    "            if train and use_bigrams:\n",
    "                \n",
    "                bigrams = [' '.join([cleaned_tweet[i-1], cleaned_tweet[i]]) \n",
    "                           for i, _ in enumerate(cleaned_tweet) if i > 0]\n",
    "                \n",
    "                for bigram in bigrams:\n",
    "                    \n",
    "                    if bigram in bigrams_dict:\n",
    "                        bigrams_dict[bigram] += 1\n",
    "                    else:\n",
    "                        bigrams_dict[bigram] = 1 \n",
    "\n",
    "            cleaned_tweet = ' '.join(cleaned_tweet)\n",
    "            cleaned_data.append(cleaned_tweet)\n",
    "            cleaned_labels.append(label)\n",
    "            \n",
    "    # Creates and returns a dict {word: index}\n",
    "    if train and embedding and not use_bigrams:\n",
    "        word2index = dict()\n",
    "        word2index[\"<PAD>\"] = 0\n",
    "        word2index[\"UNK\"] = 1\n",
    "        i = 2\n",
    "        for word in vocab.keys():\n",
    "            word2index[word] = i\n",
    "            i += 1        \n",
    "        assert len(cleaned_data) == len(cleaned_labels)\n",
    "        return cleaned_data, cleaned_labels, word2index\n",
    "                \n",
    "    if train:\n",
    "        vocab = [word for word, freq in vocab.items() if freq >= min_df]  \n",
    "        if use_bigrams:\n",
    "            all_bigrams = [bigram for bigram, freq in bigrams_dict.items() if freq >= min_df]\n",
    "            vocab.extend(all_bigrams)\n",
    "    \n",
    "    assert len(cleaned_data) == len(cleaned_labels)    \n",
    "    return cleaned_data, cleaned_labels, sorted(vocab), sorted(all_bigrams)"
   ]
  },
  {
   "cell_type": "code",
   "execution_count": 134,
   "metadata": {
    "ExecuteTime": {
     "end_time": "2019-07-01T15:11:59.950117Z",
     "start_time": "2019-07-01T15:11:52.373456Z"
    }
   },
   "outputs": [
    {
     "name": "stdout",
     "output_type": "stream",
     "text": [
      "Number of unique tokens in the vocabulary: 33331 \n",
      "\n",
      "Number of Tweets per data set after text cleaning was computed:\n",
      "Train: 68750\n",
      "Test: 6539\n",
      "Validation: 6505\n"
     ]
    }
   ],
   "source": [
    "cleaned_train_data, cleaned_train_labels, word2idx = tweets_cleaning(train_data.text, train_data.label, train = True)\n",
    "cleaned_test_data, cleaned_test_labels,_,_  = tweets_cleaning(test_data.text, test_data.label, train = False)\n",
    "cleaned_val_data, cleaned_val_labels,_,_  = tweets_cleaning(val_data.text, val_data.label, train = False)\n",
    "\n",
    "print(\"Number of unique tokens in the vocabulary: {} \\n\".format(len(word2ind.keys())))\n",
    "print(\"Number of Tweets per data set after text cleaning was computed:\")\n",
    "print(\"Train: {}\".format(len(cleaned_train_data)))\n",
    "print(\"Test: {}\".format(len(cleaned_test_data)))\n",
    "print(\"Validation: {}\".format(len(cleaned_val_data)))"
   ]
  },
  {
   "cell_type": "code",
   "execution_count": 144,
   "metadata": {
    "ExecuteTime": {
     "end_time": "2019-07-01T15:16:20.474899Z",
     "start_time": "2019-07-01T15:16:20.434008Z"
    }
   },
   "outputs": [],
   "source": [
    "y_train = emoji_to_int(cleaned_train_labels)\n",
    "y_test = emoji_to_int(cleaned_test_labels)\n",
    "y_val = emoji_to_int(cleaned_val_labels)\n",
    "\n",
    "y_train_cat = to_cat_matrix(y_train)\n",
    "y_test_cat = to_cat_matrix(y_test)\n",
    "y_val_cat = to_cat_matrix(y_val)"
   ]
  },
  {
   "cell_type": "code",
   "execution_count": 146,
   "metadata": {
    "ExecuteTime": {
     "end_time": "2019-07-01T15:16:58.186068Z",
     "start_time": "2019-07-01T15:16:57.931748Z"
    }
   },
   "outputs": [
    {
     "name": "stdout",
     "output_type": "stream",
     "text": [
      "[2, 3, 4, 5, 6, 7, 8, 9, 10, 11, 9, 12, 13, 14, 15, 3]\n"
     ]
    }
   ],
   "source": [
    "X_train = sent2idx(word2idx, cleaned_train_data)\n",
    "X_val = sent2idx(word2idx, cleaned_val_data)\n",
    "X_test = sent2idx(word2idx, cleaned_test_data)\n",
    "print(X_train[0])"
   ]
  },
  {
   "cell_type": "markdown",
   "metadata": {},
   "source": [
    "## Load pre-trained embeddings and create look-up matrix"
   ]
  },
  {
   "cell_type": "code",
   "execution_count": 147,
   "metadata": {
    "ExecuteTime": {
     "end_time": "2019-07-01T15:17:27.531643Z",
     "start_time": "2019-07-01T15:17:16.450233Z"
    }
   },
   "outputs": [],
   "source": [
    "word_embeddings = get_embeddings('glove.6B.50d.txt')"
   ]
  },
  {
   "cell_type": "code",
   "execution_count": 154,
   "metadata": {
    "ExecuteTime": {
     "end_time": "2019-07-01T15:20:05.403151Z",
     "start_time": "2019-07-01T15:20:05.399190Z"
    }
   },
   "outputs": [],
   "source": [
    "embedding_dim = 50\n",
    "maxlen = 124\n",
    "vocab_size = len(word2idx)"
   ]
  },
  {
   "cell_type": "code",
   "execution_count": 155,
   "metadata": {
    "ExecuteTime": {
     "end_time": "2019-07-01T15:20:23.849830Z",
     "start_time": "2019-07-01T15:20:23.709205Z"
    }
   },
   "outputs": [],
   "source": [
    "embedding_mat  = embedding_matrix(word2idx, word_embeddings, embedding_dim)"
   ]
  },
  {
   "cell_type": "code",
   "execution_count": 150,
   "metadata": {
    "ExecuteTime": {
     "end_time": "2019-07-01T15:18:24.133305Z",
     "start_time": "2019-07-01T15:18:23.763251Z"
    }
   },
   "outputs": [],
   "source": [
    "X_train = keras.preprocessing.sequence.pad_sequences(X_train, value=word2idx[\"<PAD>\"], padding='post', maxlen=maxlen)\n",
    "X_test = keras.preprocessing.sequence.pad_sequences(X_test, value=word2idx[\"<PAD>\"], padding='post', maxlen=maxlen)\n",
    "X_val = keras.preprocessing.sequence.pad_sequences(X_val, value=word2idx[\"<PAD>\"], padding='post', maxlen=maxlen)"
   ]
  },
  {
   "cell_type": "markdown",
   "metadata": {},
   "source": [
    "## Keras model"
   ]
  },
  {
   "cell_type": "code",
   "execution_count": 175,
   "metadata": {
    "ExecuteTime": {
     "end_time": "2019-07-01T16:02:27.182336Z",
     "start_time": "2019-07-01T16:02:24.617816Z"
    },
    "scrolled": true
   },
   "outputs": [
    {
     "name": "stdout",
     "output_type": "stream",
     "text": [
      "_________________________________________________________________\n",
      "Layer (type)                 Output Shape              Param #   \n",
      "=================================================================\n",
      "embedding_21 (Embedding)     (None, 124, 50)           1666600   \n",
      "_________________________________________________________________\n",
      "bidirectional_2 (Bidirection (None, 256)               183296    \n",
      "_________________________________________________________________\n",
      "dense_27 (Dense)             (None, 32)                8224      \n",
      "_________________________________________________________________\n",
      "dense_28 (Dense)             (None, 10)                330       \n",
      "=================================================================\n",
      "Total params: 1,858,450\n",
      "Trainable params: 191,850\n",
      "Non-trainable params: 1,666,600\n",
      "_________________________________________________________________\n"
     ]
    }
   ],
   "source": [
    "model = keras.Sequential([\n",
    "    #layers.Embedding(vocab_size, embedding_dim, input_length=maxlen),\n",
    "    layers.Embedding(vocab_size, embedding_dim, input_length=maxlen, weights = [embedding_mat], trainable = False, mask_zero = True),\n",
    "    layers.Bidirectional(layers.LSTM(128, return_sequences = False)),\n",
    "    layers.Dense(32, activation='relu'),\n",
    "    layers.Dense(10, activation='softmax')\n",
    "])\n",
    "model.summary()"
   ]
  },
  {
   "cell_type": "code",
   "execution_count": 176,
   "metadata": {
    "ExecuteTime": {
     "end_time": "2019-07-01T16:02:46.663637Z",
     "start_time": "2019-07-01T16:02:46.603796Z"
    }
   },
   "outputs": [],
   "source": [
    "model.compile(loss='categorical_crossentropy',\n",
    "              optimizer='adam',\n",
    "              metrics=['accuracy'])\n",
    "es = keras.callbacks.EarlyStopping(monitor = 'val_loss', mode='min', verbose=1)\n",
    "mc = keras.callbacks.ModelCheckpoint('best.h5', monitor='val_loss',mode='min', verbose=1, save_best_only= True)"
   ]
  },
  {
   "cell_type": "code",
   "execution_count": 177,
   "metadata": {
    "ExecuteTime": {
     "end_time": "2019-07-01T16:11:08.136015Z",
     "start_time": "2019-07-01T16:03:04.544825Z"
    },
    "scrolled": false
   },
   "outputs": [
    {
     "name": "stdout",
     "output_type": "stream",
     "text": [
      "Train on 68750 samples, validate on 6505 samples\n",
      "Epoch 1/10\n",
      "44032/68750 [==================>...........] - ETA: 4:26 - loss: 2.0498 - acc: 0.2854"
     ]
    },
    {
     "ename": "KeyboardInterrupt",
     "evalue": "",
     "output_type": "error",
     "traceback": [
      "\u001b[1;31m---------------------------------------------------------------------------\u001b[0m",
      "\u001b[1;31mKeyboardInterrupt\u001b[0m                         Traceback (most recent call last)",
      "\u001b[1;32m<ipython-input-177-48cc576fc634>\u001b[0m in \u001b[0;36m<module>\u001b[1;34m\u001b[0m\n\u001b[0;32m      4\u001b[0m     \u001b[0mepochs\u001b[0m\u001b[1;33m=\u001b[0m\u001b[1;36m10\u001b[0m\u001b[1;33m,\u001b[0m\u001b[1;33m\u001b[0m\u001b[1;33m\u001b[0m\u001b[0m\n\u001b[0;32m      5\u001b[0m     \u001b[0mbatch_size\u001b[0m\u001b[1;33m=\u001b[0m\u001b[1;36m512\u001b[0m\u001b[1;33m,\u001b[0m\u001b[1;33m\u001b[0m\u001b[1;33m\u001b[0m\u001b[0m\n\u001b[1;32m----> 6\u001b[1;33m     validation_data=(X_val, y_val_cat))\n\u001b[0m",
      "\u001b[1;32m~\\Anaconda3\\envs\\tensorflow_env\\lib\\site-packages\\keras\\engine\\training.py\u001b[0m in \u001b[0;36mfit\u001b[1;34m(self, x, y, batch_size, epochs, verbose, callbacks, validation_split, validation_data, shuffle, class_weight, sample_weight, initial_epoch, steps_per_epoch, validation_steps, **kwargs)\u001b[0m\n\u001b[0;32m   1037\u001b[0m                                         \u001b[0minitial_epoch\u001b[0m\u001b[1;33m=\u001b[0m\u001b[0minitial_epoch\u001b[0m\u001b[1;33m,\u001b[0m\u001b[1;33m\u001b[0m\u001b[1;33m\u001b[0m\u001b[0m\n\u001b[0;32m   1038\u001b[0m                                         \u001b[0msteps_per_epoch\u001b[0m\u001b[1;33m=\u001b[0m\u001b[0msteps_per_epoch\u001b[0m\u001b[1;33m,\u001b[0m\u001b[1;33m\u001b[0m\u001b[1;33m\u001b[0m\u001b[0m\n\u001b[1;32m-> 1039\u001b[1;33m                                         validation_steps=validation_steps)\n\u001b[0m\u001b[0;32m   1040\u001b[0m \u001b[1;33m\u001b[0m\u001b[0m\n\u001b[0;32m   1041\u001b[0m     def evaluate(self, x=None, y=None,\n",
      "\u001b[1;32m~\\Anaconda3\\envs\\tensorflow_env\\lib\\site-packages\\keras\\engine\\training_arrays.py\u001b[0m in \u001b[0;36mfit_loop\u001b[1;34m(model, f, ins, out_labels, batch_size, epochs, verbose, callbacks, val_f, val_ins, shuffle, callback_metrics, initial_epoch, steps_per_epoch, validation_steps)\u001b[0m\n\u001b[0;32m    197\u001b[0m                     \u001b[0mins_batch\u001b[0m\u001b[1;33m[\u001b[0m\u001b[0mi\u001b[0m\u001b[1;33m]\u001b[0m \u001b[1;33m=\u001b[0m \u001b[0mins_batch\u001b[0m\u001b[1;33m[\u001b[0m\u001b[0mi\u001b[0m\u001b[1;33m]\u001b[0m\u001b[1;33m.\u001b[0m\u001b[0mtoarray\u001b[0m\u001b[1;33m(\u001b[0m\u001b[1;33m)\u001b[0m\u001b[1;33m\u001b[0m\u001b[1;33m\u001b[0m\u001b[0m\n\u001b[0;32m    198\u001b[0m \u001b[1;33m\u001b[0m\u001b[0m\n\u001b[1;32m--> 199\u001b[1;33m                 \u001b[0mouts\u001b[0m \u001b[1;33m=\u001b[0m \u001b[0mf\u001b[0m\u001b[1;33m(\u001b[0m\u001b[0mins_batch\u001b[0m\u001b[1;33m)\u001b[0m\u001b[1;33m\u001b[0m\u001b[1;33m\u001b[0m\u001b[0m\n\u001b[0m\u001b[0;32m    200\u001b[0m                 \u001b[0mouts\u001b[0m \u001b[1;33m=\u001b[0m \u001b[0mto_list\u001b[0m\u001b[1;33m(\u001b[0m\u001b[0mouts\u001b[0m\u001b[1;33m)\u001b[0m\u001b[1;33m\u001b[0m\u001b[1;33m\u001b[0m\u001b[0m\n\u001b[0;32m    201\u001b[0m                 \u001b[1;32mfor\u001b[0m \u001b[0ml\u001b[0m\u001b[1;33m,\u001b[0m \u001b[0mo\u001b[0m \u001b[1;32min\u001b[0m \u001b[0mzip\u001b[0m\u001b[1;33m(\u001b[0m\u001b[0mout_labels\u001b[0m\u001b[1;33m,\u001b[0m \u001b[0mouts\u001b[0m\u001b[1;33m)\u001b[0m\u001b[1;33m:\u001b[0m\u001b[1;33m\u001b[0m\u001b[1;33m\u001b[0m\u001b[0m\n",
      "\u001b[1;32m~\\Anaconda3\\envs\\tensorflow_env\\lib\\site-packages\\keras\\backend\\tensorflow_backend.py\u001b[0m in \u001b[0;36m__call__\u001b[1;34m(self, inputs)\u001b[0m\n\u001b[0;32m   2713\u001b[0m                 \u001b[1;32mreturn\u001b[0m \u001b[0mself\u001b[0m\u001b[1;33m.\u001b[0m\u001b[0m_legacy_call\u001b[0m\u001b[1;33m(\u001b[0m\u001b[0minputs\u001b[0m\u001b[1;33m)\u001b[0m\u001b[1;33m\u001b[0m\u001b[1;33m\u001b[0m\u001b[0m\n\u001b[0;32m   2714\u001b[0m \u001b[1;33m\u001b[0m\u001b[0m\n\u001b[1;32m-> 2715\u001b[1;33m             \u001b[1;32mreturn\u001b[0m \u001b[0mself\u001b[0m\u001b[1;33m.\u001b[0m\u001b[0m_call\u001b[0m\u001b[1;33m(\u001b[0m\u001b[0minputs\u001b[0m\u001b[1;33m)\u001b[0m\u001b[1;33m\u001b[0m\u001b[1;33m\u001b[0m\u001b[0m\n\u001b[0m\u001b[0;32m   2716\u001b[0m         \u001b[1;32melse\u001b[0m\u001b[1;33m:\u001b[0m\u001b[1;33m\u001b[0m\u001b[1;33m\u001b[0m\u001b[0m\n\u001b[0;32m   2717\u001b[0m             \u001b[1;32mif\u001b[0m \u001b[0mpy_any\u001b[0m\u001b[1;33m(\u001b[0m\u001b[0mis_tensor\u001b[0m\u001b[1;33m(\u001b[0m\u001b[0mx\u001b[0m\u001b[1;33m)\u001b[0m \u001b[1;32mfor\u001b[0m \u001b[0mx\u001b[0m \u001b[1;32min\u001b[0m \u001b[0minputs\u001b[0m\u001b[1;33m)\u001b[0m\u001b[1;33m:\u001b[0m\u001b[1;33m\u001b[0m\u001b[1;33m\u001b[0m\u001b[0m\n",
      "\u001b[1;32m~\\Anaconda3\\envs\\tensorflow_env\\lib\\site-packages\\keras\\backend\\tensorflow_backend.py\u001b[0m in \u001b[0;36m_call\u001b[1;34m(self, inputs)\u001b[0m\n\u001b[0;32m   2673\u001b[0m             \u001b[0mfetched\u001b[0m \u001b[1;33m=\u001b[0m \u001b[0mself\u001b[0m\u001b[1;33m.\u001b[0m\u001b[0m_callable_fn\u001b[0m\u001b[1;33m(\u001b[0m\u001b[1;33m*\u001b[0m\u001b[0marray_vals\u001b[0m\u001b[1;33m,\u001b[0m \u001b[0mrun_metadata\u001b[0m\u001b[1;33m=\u001b[0m\u001b[0mself\u001b[0m\u001b[1;33m.\u001b[0m\u001b[0mrun_metadata\u001b[0m\u001b[1;33m)\u001b[0m\u001b[1;33m\u001b[0m\u001b[1;33m\u001b[0m\u001b[0m\n\u001b[0;32m   2674\u001b[0m         \u001b[1;32melse\u001b[0m\u001b[1;33m:\u001b[0m\u001b[1;33m\u001b[0m\u001b[1;33m\u001b[0m\u001b[0m\n\u001b[1;32m-> 2675\u001b[1;33m             \u001b[0mfetched\u001b[0m \u001b[1;33m=\u001b[0m \u001b[0mself\u001b[0m\u001b[1;33m.\u001b[0m\u001b[0m_callable_fn\u001b[0m\u001b[1;33m(\u001b[0m\u001b[1;33m*\u001b[0m\u001b[0marray_vals\u001b[0m\u001b[1;33m)\u001b[0m\u001b[1;33m\u001b[0m\u001b[1;33m\u001b[0m\u001b[0m\n\u001b[0m\u001b[0;32m   2676\u001b[0m         \u001b[1;32mreturn\u001b[0m \u001b[0mfetched\u001b[0m\u001b[1;33m[\u001b[0m\u001b[1;33m:\u001b[0m\u001b[0mlen\u001b[0m\u001b[1;33m(\u001b[0m\u001b[0mself\u001b[0m\u001b[1;33m.\u001b[0m\u001b[0moutputs\u001b[0m\u001b[1;33m)\u001b[0m\u001b[1;33m]\u001b[0m\u001b[1;33m\u001b[0m\u001b[1;33m\u001b[0m\u001b[0m\n\u001b[0;32m   2677\u001b[0m \u001b[1;33m\u001b[0m\u001b[0m\n",
      "\u001b[1;32m~\\Anaconda3\\envs\\tensorflow_env\\lib\\site-packages\\tensorflow\\python\\client\\session.py\u001b[0m in \u001b[0;36m__call__\u001b[1;34m(self, *args, **kwargs)\u001b[0m\n\u001b[0;32m   1437\u001b[0m           ret = tf_session.TF_SessionRunCallable(\n\u001b[0;32m   1438\u001b[0m               \u001b[0mself\u001b[0m\u001b[1;33m.\u001b[0m\u001b[0m_session\u001b[0m\u001b[1;33m.\u001b[0m\u001b[0m_session\u001b[0m\u001b[1;33m,\u001b[0m \u001b[0mself\u001b[0m\u001b[1;33m.\u001b[0m\u001b[0m_handle\u001b[0m\u001b[1;33m,\u001b[0m \u001b[0margs\u001b[0m\u001b[1;33m,\u001b[0m \u001b[0mstatus\u001b[0m\u001b[1;33m,\u001b[0m\u001b[1;33m\u001b[0m\u001b[1;33m\u001b[0m\u001b[0m\n\u001b[1;32m-> 1439\u001b[1;33m               run_metadata_ptr)\n\u001b[0m\u001b[0;32m   1440\u001b[0m         \u001b[1;32mif\u001b[0m \u001b[0mrun_metadata\u001b[0m\u001b[1;33m:\u001b[0m\u001b[1;33m\u001b[0m\u001b[1;33m\u001b[0m\u001b[0m\n\u001b[0;32m   1441\u001b[0m           \u001b[0mproto_data\u001b[0m \u001b[1;33m=\u001b[0m \u001b[0mtf_session\u001b[0m\u001b[1;33m.\u001b[0m\u001b[0mTF_GetBuffer\u001b[0m\u001b[1;33m(\u001b[0m\u001b[0mrun_metadata_ptr\u001b[0m\u001b[1;33m)\u001b[0m\u001b[1;33m\u001b[0m\u001b[1;33m\u001b[0m\u001b[0m\n",
      "\u001b[1;31mKeyboardInterrupt\u001b[0m: "
     ]
    }
   ],
   "source": [
    "history = model.fit(\n",
    "    X_train,\n",
    "    y_train_cat,\n",
    "    epochs=10,\n",
    "    batch_size=512,\n",
    "    validation_data=(X_val, y_val_cat))"
   ]
  },
  {
   "cell_type": "code",
   "execution_count": null,
   "metadata": {},
   "outputs": [],
   "source": [
    "# get predictions\n",
    "y_pred_test = LSTM_NN.predict(X_test)\n",
    "\n",
    "# convert predictions to labels\n",
    "y_pred_labels = preds_to_labels(y_pred_test)"
   ]
  },
  {
   "cell_type": "code",
   "execution_count": 124,
   "metadata": {
    "ExecuteTime": {
     "end_time": "2019-07-01T14:39:43.182110Z",
     "start_time": "2019-07-01T14:39:43.171139Z"
    }
   },
   "outputs": [],
   "source": [
    "e=model.layers[0]\n",
    "weights=e.get_weights()[0]"
   ]
  },
  {
   "cell_type": "code",
   "execution_count": 125,
   "metadata": {
    "ExecuteTime": {
     "end_time": "2019-07-01T14:40:01.605837Z",
     "start_time": "2019-07-01T14:40:01.600833Z"
    }
   },
   "outputs": [
    {
     "data": {
      "text/plain": [
       "(33332, 50)"
      ]
     },
     "execution_count": 125,
     "metadata": {},
     "output_type": "execute_result"
    }
   ],
   "source": [
    "weights.shape"
   ]
  },
  {
   "cell_type": "code",
   "execution_count": 127,
   "metadata": {
    "ExecuteTime": {
     "end_time": "2019-07-01T14:40:46.738987Z",
     "start_time": "2019-07-01T14:40:46.717047Z"
    },
    "scrolled": true
   },
   "outputs": [
    {
     "name": "stdout",
     "output_type": "stream",
     "text": [
      "[0. 0. 0. 0. 0. 0. 0. 0. 0. 0. 0. 0. 0. 0. 0. 0. 0. 0. 0. 0. 0. 0. 0. 0.\n",
      " 0. 0. 0. 0. 0. 0. 0. 0. 0. 0. 0. 0. 0. 0. 0. 0. 0. 0. 0. 0. 0. 0. 0. 0.\n",
      " 0. 0.]\n",
      "[0. 0. 0. 0. 0. 0. 0. 0. 0. 0. 0. 0. 0. 0. 0. 0. 0. 0. 0. 0. 0. 0. 0. 0.\n",
      " 0. 0. 0. 0. 0. 0. 0. 0. 0. 0. 0. 0. 0. 0. 0. 0. 0. 0. 0. 0. 0. 0. 0. 0.\n",
      " 0. 0.]\n",
      "[-0.68299    0.27462   -0.2732     0.54286    0.95837    0.0090092\n",
      "  1.0215     1.2661     0.41593   -0.29762    1.3199     0.43845\n",
      "  0.3015     0.65039    0.25206    0.86528   -0.22561   -0.35633\n",
      "  0.27808    0.83154    0.21959    0.14906    0.74198    0.44884\n",
      "  0.41123   -0.05005   -0.019114  -0.54883   -0.089123   0.69677\n",
      " -0.56414    0.50696    0.9373     0.9918     0.014562   0.10403\n",
      "  0.49551   -0.015929  -0.4475     0.69031    0.29362    1.0473\n",
      " -0.62219   -0.7281     0.69611   -1.0678    -0.47681   -0.73951\n",
      " -0.39837    0.54024  ]\n",
      "[-0.71587   0.7874    0.71305  -0.089955  1.366    -1.3149    0.7309\n",
      "  0.79725   0.47211   0.53347   0.37542  -0.10256  -1.0003   -0.31226\n",
      "  0.26217   0.92426   0.43014  -0.015593  0.4149    0.88286   0.10869\n",
      "  0.95213   1.1807    0.06445  -0.05814  -1.797    -0.18432  -0.41754\n",
      " -0.73625   1.1607    1.5932   -0.70268  -0.61621   0.47118   0.95046\n",
      "  0.35206   0.6072    0.59339  -0.47091   1.4916    0.27146   1.8252\n",
      " -1.2073   -0.80058   0.52558  -0.33346  -1.4102   -0.21514   0.12945\n",
      " -0.69603 ]\n",
      "[ 0.40764   0.69637  -0.2658    0.10773   0.62059   0.3041    0.16664\n",
      "  0.23153   0.3625    0.03024  -0.22907   0.1699   -0.32282   0.20944\n",
      "  0.62377   0.16307   0.37951   0.15222  -0.31896  -0.37402   0.09893\n",
      "  0.22025  -0.28298   0.38815   0.71643  -1.529    -0.1453    0.027285\n",
      "  0.33133  -0.1031    2.7048    0.35688  -0.73862   0.024327 -0.052603\n",
      " -0.028238 -0.13771   0.23706   0.12676  -0.77487   0.14763   0.28921\n",
      " -0.27724  -0.3029   -0.024717  0.14648   0.8303   -0.40827   0.38581\n",
      "  0.53271 ]\n",
      "[ 4.1800e-01  2.4968e-01 -4.1242e-01  1.2170e-01  3.4527e-01 -4.4457e-02\n",
      " -4.9688e-01 -1.7862e-01 -6.6023e-04 -6.5660e-01  2.7843e-01 -1.4767e-01\n",
      " -5.5677e-01  1.4658e-01 -9.5095e-03  1.1658e-02  1.0204e-01 -1.2792e-01\n",
      " -8.4430e-01 -1.2181e-01 -1.6801e-02 -3.3279e-01 -1.5520e-01 -2.3131e-01\n",
      " -1.9181e-01 -1.8823e+00 -7.6746e-01  9.9051e-02 -4.2125e-01 -1.9526e-01\n",
      "  4.0071e+00 -1.8594e-01 -5.2287e-01 -3.1681e-01  5.9213e-04  7.4449e-03\n",
      "  1.7778e-01 -1.5897e-01  1.2041e-02 -5.4223e-02 -2.9871e-01 -1.5749e-01\n",
      " -3.4758e-01 -4.5637e-02 -4.4251e-01  1.8785e-01  2.7849e-03 -1.8411e-01\n",
      " -1.1514e-01 -7.8581e-01]\n",
      "[-1.5925e+00  7.5569e-01  1.4947e+00  1.1055e-01 -5.2440e-02  5.1893e-01\n",
      " -6.1283e-01 -3.3189e-01  1.5330e-01 -1.7681e-01 -3.4256e-01  1.0057e-03\n",
      " -6.7281e-01  3.2264e-01  4.0330e-01 -1.1830e+00 -4.4742e-01  2.5633e-01\n",
      " -1.6399e+00  3.3532e-01  1.1250e-01 -3.9391e-01  1.1817e+00  9.0325e-01\n",
      " -8.8998e-02  4.9876e-02 -1.2684e+00 -8.3517e-01  3.5747e-01 -1.7869e-01\n",
      "  1.9297e+00 -6.8884e-01  2.6064e-01  4.6655e-03  6.4509e-01 -2.3729e-01\n",
      "  8.8325e-01 -9.5139e-01 -3.1632e-02 -1.2398e+00  9.0161e-02 -1.2927e+00\n",
      "  1.8976e-01 -1.1884e+00 -1.0836e+00  1.3852e+00  3.1768e-01 -8.4084e-01\n",
      "  4.9488e-01  3.4052e-01]\n",
      "[0. 0. 0. 0. 0. 0. 0. 0. 0. 0. 0. 0. 0. 0. 0. 0. 0. 0. 0. 0. 0. 0. 0. 0.\n",
      " 0. 0. 0. 0. 0. 0. 0. 0. 0. 0. 0. 0. 0. 0. 0. 0. 0. 0. 0. 0. 0. 0. 0. 0.\n",
      " 0. 0.]\n",
      "[ 0.93153   0.59561  -0.65776  -0.13004  -0.45251   0.46964  -0.071465\n",
      "  0.34625  -0.22717   0.54609  -0.10635  -0.97996  -0.75192   0.68514\n",
      "  0.33248  -0.14243   0.59339  -0.15631  -1.08     -0.65955   0.28352\n",
      "  0.30635  -0.26054   0.27325   0.30497  -0.76758  -0.51226  -0.040254\n",
      " -0.66753   0.014134  3.0171    0.39004  -0.67486  -0.27266   0.24882\n",
      " -0.063204  0.59138   0.76953  -0.64037  -0.69238  -0.2943   -0.078855\n",
      " -0.41919  -0.59256   0.24875  -0.14058   0.92176  -0.94811  -0.33936\n",
      " -0.032759]\n",
      "[ 0.68047  -0.039263  0.30186  -0.17792   0.42962   0.032246 -0.41376\n",
      "  0.13228  -0.29847  -0.085253  0.17118   0.22419  -0.10046  -0.43653\n",
      "  0.33418   0.67846   0.057204 -0.34448  -0.42785  -0.43275   0.55963\n",
      "  0.10032   0.18677  -0.26854   0.037334 -2.0932    0.22171  -0.39868\n",
      "  0.20912  -0.55725   3.8826    0.47466  -0.95658  -0.37788   0.20869\n",
      " -0.32752   0.12751   0.088359  0.16351  -0.21634  -0.094375  0.018324\n",
      "  0.21048  -0.03088  -0.19722   0.082279 -0.09434  -0.073297 -0.064699\n",
      " -0.26044 ]\n",
      "[ 0.6349    0.55423   0.93537  -0.47755   0.24893   0.041865 -0.44163\n",
      "  0.13965  -0.022809  0.3646   -0.37085   0.45834   0.47128  -0.81395\n",
      "  1.3447    0.195    -0.010509  0.18817   0.50108  -0.84425   0.94812\n",
      " -0.28801  -0.55769  -0.42945  -0.6754   -1.7482    0.079139 -0.63952\n",
      "  0.10042  -0.12015   3.2252    1.3926   -0.10828   0.89462   0.13426\n",
      " -0.36772   0.17566  -0.34872   0.78589  -0.73659  -0.14789   0.48232\n",
      "  0.61961   0.83252  -0.74995  -0.84324  -0.95983   0.68332  -0.34566\n",
      "  0.54462 ]\n",
      "[-0.10753    1.5178    -0.58848   -0.3005     0.23487    0.0050341\n",
      " -0.73805    0.41913   -0.21133    0.62513   -0.4199     0.40428\n",
      "  0.072256  -0.12075    0.75693   -0.77359   -0.2063    -0.075456\n",
      " -0.07446   -0.40298   -0.038721   0.66084   -0.42799   -0.89542\n",
      "  0.4568    -0.56926   -1.2915    -0.29695   -0.28979    0.0090872\n",
      "  1.7133     0.28519   -0.23045    0.27511   -0.11145    0.47344\n",
      "  0.84634   -0.52896   -0.8248    -0.43952    0.20548    0.35905\n",
      " -1.1046    -0.89961    0.13289    0.12032   -0.93016   -0.47668\n",
      " -1.0991    -0.028488 ]\n",
      "[ 0.13403   0.89178  -0.76761  -0.64184   0.86204   1.3122   -0.64018\n",
      "  0.82067   0.32783   0.021457 -0.095194  0.40825  -0.63602  -0.018275\n",
      "  0.69708  -0.29531  -1.1912   -0.23897   0.34341  -0.33196   0.23702\n",
      "  1.8364    0.12295  -0.18624   0.86503  -2.636    -0.7791    0.203\n",
      "  0.18985  -0.79897   2.9882    0.44336  -0.28367  -0.19588   0.061875\n",
      "  0.38558  -0.027622  0.71847   0.17156  -1.2168    0.081636  0.17293\n",
      " -0.31718  -0.37039   0.18977  -0.89175   0.18492  -1.6251    0.039134\n",
      " -0.10279 ]\n",
      "[ 0.21994  -0.014414 -0.24502  -0.31895  -0.32942  -0.48162  -1.5818\n",
      "  0.27079  -1.3613    0.05855  -0.10478  -0.44319  -0.40213   0.05586\n",
      "  0.81842   0.30685  -1.0009   -0.8302   -1.2259    0.54736   0.60423\n",
      "  0.33345   0.02349  -0.58298   0.068311 -1.4961    0.12819  -0.18686\n",
      " -0.17151   0.90003   3.1905   -0.59917  -0.097557 -0.021908  0.54973\n",
      " -0.14088   0.18978   0.34743  -0.061865 -0.067381 -0.5258    0.55705\n",
      " -0.5649   -0.42131   0.24299   0.1408   -0.074287 -0.41503  -0.17553\n",
      " -0.62826 ]\n",
      "[ 0.095496   0.70418   -0.40777   -0.80844    1.256      0.77071\n",
      " -1.0695     0.76847   -0.87813   -0.0080954  0.43884    1.0476\n",
      " -0.45071   -0.58931    0.83246   -0.038442  -0.73533    0.26389\n",
      "  0.12617    0.57623   -0.23866    1.0922    -0.3367     0.081537\n",
      "  0.84798   -2.4795    -0.40351   -0.84087    0.12034    0.29074\n",
      "  1.9711    -0.50886   -0.45977   -0.13617    0.55613    0.22924\n",
      " -0.18947    0.43544    0.65151    0.043537  -0.1162     0.72196\n",
      " -0.66163   -0.17272    0.27367   -0.28169   -0.82025   -1.5089\n",
      "  0.052787  -0.035579 ]\n",
      "[-0.67871  -0.26579   0.30626  -0.16838   1.8063   -0.99244   0.080843\n",
      " -0.64545   0.38927   0.30379  -0.11685   0.31918  -0.88666  -1.3031\n",
      "  0.81268   0.61329  -0.29115  -0.98119   0.018489  1.3005   -0.24907\n",
      "  0.46252   1.083     0.084079  0.26604  -1.7642   -0.99934  -1.1843\n",
      " -0.48332   0.34085   0.66775  -0.54746  -0.70399  -0.20225   0.8461\n",
      "  0.54343   0.49927   0.2733   -0.96458   1.4699    0.1969    1.5294\n",
      " -1.5508    0.67306   0.55239  -0.22988  -0.63772  -0.78805   0.47766\n",
      " -1.024   ]\n",
      "[-0.13886    1.1401    -0.85212   -0.29212    0.75534    0.82762\n",
      " -0.3181     0.0072204 -0.34762    1.0731    -0.24665    0.97765\n",
      " -0.55835   -0.090318   0.83182   -0.33317    0.22648    0.30913\n",
      "  0.026929  -0.086739  -0.14703    1.3543     0.53695    0.43735\n",
      "  1.2749    -1.4382    -1.2815    -0.15196    1.0506    -0.93644\n",
      "  2.7561     0.58967   -0.29473    0.27574   -0.32928   -0.201\n",
      " -0.28547   -0.45987   -0.14603   -0.69372    0.070761  -0.19326\n",
      " -0.1855    -0.16095    0.24268    0.20784    0.030924  -1.3711\n",
      " -0.28606    0.2898   ]\n",
      "[-0.27279    0.77515   -0.10181   -0.9166     0.90477   -0.070501\n",
      " -0.47569    0.44608    0.1697     0.072352  -0.16306    0.86852\n",
      " -0.76634   -0.016103   0.78492    0.2952    -0.74859    0.2099\n",
      "  0.65537   -0.62334   -0.43711    1.1854     0.47519    0.0093866\n",
      "  1.1377    -2.4394    -1.5619     0.49001    1.0985    -0.97371\n",
      "  3.4628     1.0408    -0.65138    0.57189   -0.12523    0.26705\n",
      "  0.16373    0.41105    0.7509    -0.77923    0.03638   -0.28609\n",
      " -0.72365    0.63511    0.089441  -0.30133    0.36518   -0.73367\n",
      "  0.040383   0.26657  ]\n",
      "[ 0.56447    0.99891   -0.10346   -0.62079    0.84667    0.13505\n",
      " -1.4362     0.49886   -0.6645    -0.099902  -0.54387    0.50594\n",
      "  0.0085205 -0.041121   0.74228   -0.19403   -0.077764   0.21345\n",
      "  0.4045    -0.41583    0.30789    1.4237     0.41258    0.80008\n",
      "  0.66945   -1.4126    -0.49322   -0.49813    0.073899  -0.86317\n",
      "  2.3199     0.85326   -0.21638   -0.52742   -0.098297   0.15082\n",
      " -0.53369   -0.22511   -0.061727  -0.31506   -0.040504   0.17529\n",
      " -0.33621    0.36171    0.84428   -0.30826   -0.73907   -0.91513\n",
      " -0.48072    0.22964  ]\n",
      "[0. 0. 0. 0. 0. 0. 0. 0. 0. 0. 0. 0. 0. 0. 0. 0. 0. 0. 0. 0. 0. 0. 0. 0.\n",
      " 0. 0. 0. 0. 0. 0. 0. 0. 0. 0. 0. 0. 0. 0. 0. 0. 0. 0. 0. 0. 0. 0. 0. 0.\n",
      " 0. 0.]\n"
     ]
    }
   ],
   "source": [
    "for weight in weights[:20]:\n",
    "    print(weight)"
   ]
  },
  {
   "cell_type": "markdown",
   "metadata": {},
   "source": [
    "from gensim.models.keyedvectors import KeyedVectors\n",
    "\n",
    "model = KeyedVectors.load_word2vec_format('GoogleNews-vectors-negative300.bin', binary=True)\n",
    "model.save_word2vec_format('word2vec.txt', binary=False)"
   ]
  },
  {
   "cell_type": "markdown",
   "metadata": {},
   "source": [
    "word_embeddings = get_embeddings(\"word2vec.txt\")"
   ]
  }
 ],
 "metadata": {
  "hide_input": false,
  "kernelspec": {
   "display_name": "Python 3",
   "language": "python",
   "name": "python3"
  },
  "language_info": {
   "codemirror_mode": {
    "name": "ipython",
    "version": 3
   },
   "file_extension": ".py",
   "mimetype": "text/x-python",
   "name": "python",
   "nbconvert_exporter": "python",
   "pygments_lexer": "ipython3",
   "version": "3.6.8"
  },
  "toc": {
   "base_numbering": 1,
   "nav_menu": {},
   "number_sections": true,
   "sideBar": true,
   "skip_h1_title": false,
   "title_cell": "Table of Contents",
   "title_sidebar": "Contents",
   "toc_cell": false,
   "toc_position": {},
   "toc_section_display": true,
   "toc_window_display": true
  },
  "varInspector": {
   "cols": {
    "lenName": 16,
    "lenType": 16,
    "lenVar": 40
   },
   "kernels_config": {
    "python": {
     "delete_cmd_postfix": "",
     "delete_cmd_prefix": "del ",
     "library": "var_list.py",
     "varRefreshCmd": "print(var_dic_list())"
    },
    "r": {
     "delete_cmd_postfix": ") ",
     "delete_cmd_prefix": "rm(",
     "library": "var_list.r",
     "varRefreshCmd": "cat(var_dic_list()) "
    }
   },
   "types_to_exclude": [
    "module",
    "function",
    "builtin_function_or_method",
    "instance",
    "_Feature"
   ],
   "window_display": false
  }
 },
 "nbformat": 4,
 "nbformat_minor": 2
}
