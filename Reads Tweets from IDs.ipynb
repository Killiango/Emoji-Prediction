{
 "cells": [
  {
   "cell_type": "code",
   "execution_count": 5,
   "metadata": {
    "ExecuteTime": {
     "end_time": "2019-03-21T14:28:14.861725Z",
     "start_time": "2019-03-21T14:28:14.850903Z"
    }
   },
   "outputs": [],
   "source": [
    "import getopt\n",
    "import logging\n",
    "import os\n",
    "import sys\n",
    "# import traceback\n",
    "import tweepy\n",
    "import pandas as pd \n",
    "import numpy as np\n",
    "import re\n",
    "#import skimage.io as io  "
   ]
  },
  {
   "cell_type": "code",
   "execution_count": 114,
   "metadata": {
    "ExecuteTime": {
     "end_time": "2019-03-21T15:59:10.789306Z",
     "start_time": "2019-03-21T15:59:10.783310Z"
    }
   },
   "outputs": [],
   "source": [
    "# Generate your own at https://apps.twitter.com/app\n",
    "CONSUMER_KEY = 'q8svcQ1GKW2yknY8MCZLvcO7w'\n",
    "CONSUMER_SECRET = 'kk9eMhfIMVxoDEoKR63ddWooW87Ya7IgUt5oC31S0TpAXeiMdh'\n",
    "OAUTH_TOKEN = '917762487608659970-G1v4Nr01JQA9UKqO1HP4g4bPwKT7LAr'\n",
    "OAUTH_TOKEN_SECRET = 'p1Zp4ophwRbRvR5yET3ppXWWg7fEshIyWwby9vTBxR9CF'\n",
    "\n",
    "# connect to twitter\n",
    "auth = tweepy.OAuthHandler(CONSUMER_KEY, CONSUMER_SECRET)\n",
    "auth.set_access_token(OAUTH_TOKEN, OAUTH_TOKEN_SECRET)\n",
    "api = tweepy.API(auth)\n",
    "\n",
    "# batch size depends on Twitter limit, 100 at this time\n",
    "batch_size = 100\n",
    "\n",
    "#Some emojis have character length of more than 1\n",
    "emoji_threshold = 3  "
   ]
  },
  {
   "cell_type": "code",
   "execution_count": 115,
   "metadata": {
    "ExecuteTime": {
     "end_time": "2019-03-21T15:59:22.423780Z",
     "start_time": "2019-03-21T15:59:11.362808Z"
    },
    "scrolled": true
   },
   "outputs": [
    {
     "data": {
      "text/html": [
       "<div>\n",
       "<style scoped>\n",
       "    .dataframe tbody tr th:only-of-type {\n",
       "        vertical-align: middle;\n",
       "    }\n",
       "\n",
       "    .dataframe tbody tr th {\n",
       "        vertical-align: top;\n",
       "    }\n",
       "\n",
       "    .dataframe thead th {\n",
       "        text-align: right;\n",
       "    }\n",
       "</style>\n",
       "<table border=\"1\" class=\"dataframe\">\n",
       "  <thead>\n",
       "    <tr style=\"text-align: right;\">\n",
       "      <th></th>\n",
       "      <th>id</th>\n",
       "      <th>imgid</th>\n",
       "      <th>annotations</th>\n",
       "    </tr>\n",
       "  </thead>\n",
       "  <tbody>\n",
       "    <tr>\n",
       "      <th>0</th>\n",
       "      <td>742240402288345088</td>\n",
       "      <td>http://pbs.twimg.com/media/CkzuE33WsAA2cUB.jpg</td>\n",
       "      <td>229</td>\n",
       "    </tr>\n",
       "    <tr>\n",
       "      <th>1</th>\n",
       "      <td>742427564535353349</td>\n",
       "      <td>http://pbs.twimg.com/media/Ck2h7lzXIAA0Aqw.jpg</td>\n",
       "      <td>658</td>\n",
       "    </tr>\n",
       "    <tr>\n",
       "      <th>2</th>\n",
       "      <td>747199027649871872</td>\n",
       "      <td>http://pbs.twimg.com/media/Cl6UJF1XIAADDAJ.jpg</td>\n",
       "      <td>1466</td>\n",
       "    </tr>\n",
       "    <tr>\n",
       "      <th>3</th>\n",
       "      <td>743426787267338240</td>\n",
       "      <td>http://pbs.twimg.com/media/ClEupvHUYAA0lPF.jpg</td>\n",
       "      <td>1381</td>\n",
       "    </tr>\n",
       "    <tr>\n",
       "      <th>4</th>\n",
       "      <td>745081041631612928</td>\n",
       "      <td>http://pbs.twimg.com/media/ClaNsdLWkAAHti4.jpg</td>\n",
       "      <td>1380</td>\n",
       "    </tr>\n",
       "  </tbody>\n",
       "</table>\n",
       "</div>"
      ],
      "text/plain": [
       "                   id                                           imgid  \\\n",
       "0  742240402288345088  http://pbs.twimg.com/media/CkzuE33WsAA2cUB.jpg   \n",
       "1  742427564535353349  http://pbs.twimg.com/media/Ck2h7lzXIAA0Aqw.jpg   \n",
       "2  747199027649871872  http://pbs.twimg.com/media/Cl6UJF1XIAADDAJ.jpg   \n",
       "3  743426787267338240  http://pbs.twimg.com/media/ClEupvHUYAA0lPF.jpg   \n",
       "4  745081041631612928  http://pbs.twimg.com/media/ClaNsdLWkAAHti4.jpg   \n",
       "\n",
       "  annotations  \n",
       "0         229  \n",
       "1         658  \n",
       "2        1466  \n",
       "3        1381  \n",
       "4        1380  "
      ]
     },
     "execution_count": 115,
     "metadata": {},
     "output_type": "execute_result"
    }
   ],
   "source": [
    "file = 'cleaned_img_train_plaintext.txt'\n",
    "#file = 'img_train_plaintext.txt'\n",
    "data = pd.read_csv(file, sep='\\t', encoding = 'utf8', engine='c', header = 0)\n",
    "\n",
    "#data = pd.DataFrame([j for i,j in enumerate(data.values) if len(data.iloc[i, 2].split(',')) == 1], columns=['id','imgid','annotations'])\n",
    "\n",
    "data.head()"
   ]
  },
  {
   "cell_type": "code",
   "execution_count": 116,
   "metadata": {
    "ExecuteTime": {
     "end_time": "2019-03-21T15:59:22.917396Z",
     "start_time": "2019-03-21T15:59:22.913310Z"
    }
   },
   "outputs": [],
   "source": [
    "def locate_emoji(emoji_pattern, text: str):\n",
    "    emoji = ''.join(emoji_pattern.findall(text))\n",
    "    try:\n",
    "        index = text.index(emoji)\n",
    "    except:\n",
    "        index = -emoji_threshold\n",
    "    return emoji, index"
   ]
  },
  {
   "cell_type": "code",
   "execution_count": 182,
   "metadata": {
    "ExecuteTime": {
     "end_time": "2019-03-21T16:41:38.678969Z",
     "start_time": "2019-03-21T16:41:38.667949Z"
    }
   },
   "outputs": [],
   "source": [
    "def get_tweets(twapi, data):\n",
    "    '''\n",
    "    Fetches content for tweet IDs in a file using bulk request method,\n",
    "    which vastly reduces number of HTTPS requests compared to above;\n",
    "    however, it does not warn about IDs that yield no tweet.\n",
    "    `twapi`: Initialized, authorized API object from Tweepy\n",
    "    '''\n",
    "    emoji_pattern = re.compile(\n",
    "        \"[\"\n",
    "        u\"\\U0001F600-\\U0001F64F\"  # emoticons\n",
    "        u\"\\U0001F300-\\U0001F5FF\"  # symbols & pictographs\n",
    "        u\"\\U0001F680-\\U0001F6FF\"  # transport & map symbols\n",
    "        u\"\\U0001F1E0-\\U0001F1FF\"  # flags (iOS)\n",
    "        u\"\\U00002702-\\U000027B0\"\n",
    "        u\"\\U000024C2-\\U0001F251\"\n",
    "        u\"\\U0001f926-\\U0001f937\"\n",
    "        u'\\U00010000-\\U0010ffff'\n",
    "        u\"\\u200d\"\n",
    "        u\"\\u2640-\\u2642\"\n",
    "        u\"\\u2600-\\u2B55\"\n",
    "        u\"\\u23cf\"\n",
    "        u\"\\u23e9\"\n",
    "        u\"\\u231a\"\n",
    "        u\"\\u3030\"\n",
    "        u\"\\ufe0f\"\n",
    "        \"]+\",\n",
    "        flags=re.UNICODE)\n",
    "\n",
    "    tweet_ids = data.id.values.tolist()\n",
    "    emoji_labels = data.annotations.values.tolist()\n",
    "\n",
    "    all_tweets = []\n",
    "    labels = []\n",
    "    i = 0  #for debug\n",
    "    # process list of ids until it's empty\n",
    "    while len(tweet_ids) > 0:\n",
    "        if len(tweet_ids) < batch_size:\n",
    "            tweets = twapi.statuses_lookup(\n",
    "                id_=tweet_ids, include_entities=False, trim_user=True)\n",
    "            tweet_ids = []\n",
    "        else:\n",
    "            tweets = twapi.statuses_lookup(\n",
    "                id_=tweet_ids[:batch_size],\n",
    "                include_entities=False,\n",
    "                trim_user=True)\n",
    "            tweet_ids = tweet_ids[batch_size:]\n",
    "\n",
    "        for tweet in tweets:\n",
    "            \n",
    "            #removes the link of the tweet\n",
    "            text = re.sub(r'http\\S+', '', tweet.text).strip(' ')            \n",
    "            text = re.sub(r'\\ART @\\S+','', text).strip(' ')\n",
    "            \n",
    "            #Remove tweets where emoji is not at the end\n",
    "            emoji, index = locate_emoji(emoji_pattern, text)\n",
    "            \n",
    "            if index >= len(text) - emoji_threshold:\n",
    "                #removes the emojis from the text\n",
    "                text = emoji_pattern.sub(r'', text).strip(' ')\n",
    "\n",
    "                #then appends the tweet and emoji to our final dataset\n",
    "                all_tweets.append(np.array([text]))\n",
    "                labels.append(emoji)\n",
    "\n",
    "        i += 1\n",
    "        if i == 2:\n",
    "            break\n",
    "            \n",
    "            \n",
    "    features = np.array(all_tweets)\n",
    "    labels = np.array(labels)\n",
    "    return features, labels"
   ]
  },
  {
   "cell_type": "code",
   "execution_count": 183,
   "metadata": {
    "ExecuteTime": {
     "end_time": "2019-03-21T16:41:40.589782Z",
     "start_time": "2019-03-21T16:41:39.249371Z"
    },
    "scrolled": true
   },
   "outputs": [],
   "source": [
    "X, y = get_tweets(api, data)"
   ]
  },
  {
   "cell_type": "code",
   "execution_count": 184,
   "metadata": {
    "ExecuteTime": {
     "end_time": "2019-03-21T16:41:41.124206Z",
     "start_time": "2019-03-21T16:41:41.118222Z"
    }
   },
   "outputs": [
    {
     "data": {
      "text/plain": [
       "array([['Kicking it at @arteryrcdings'],\n",
       "       ['Go England'],\n",
       "       [\"I'm single\"],\n",
       "       ['My boy Buddy all grown up now'],\n",
       "       ['The one and only, @TheBigPygmy appearing on @ebaumsworld today. A man doing great things inside the cage &amp; out.'],\n",
       "       ['Not just for ladies'],\n",
       "       ['Laila Ali takes the #BETAwards stage to pay tribute to her late father, Muhammad Ali.'],\n",
       "       ['I try anything'],\n",
       "       ['It came in, and another dollar is in @Oceana hands to save lives that are so critical to the balance of our world.'],\n",
       "       ['Summer love'],\n",
       "       ['San Francisco sunsets'],\n",
       "       ['I will miss chasing the sunsets here #OnlyOnGuam'],\n",
       "       ['love my friends'],\n",
       "       ['#Tbt New York City Loss Photos'],\n",
       "       ['What the duck!'],\n",
       "       ['Backstage @120Diner getting ready to introduce the amazing @gabi_epstein as part of the @TorontoJazzFest! #TDmusic'],\n",
       "       ['@FetishVanessa #ExoticBeauty #Fetish #Fashionista one of kind #Seductive #Goddess #FetishDiva'],\n",
       "       ['because you are mine, i walk the line'],\n",
       "       ['\"In a changing world, God has called and empowered us to pursue a life that reaches out to others and honors Him.\"'],\n",
       "       [\"'Heavy Weight' short film screened last week at @Working_Title | Camera:@ARRIRental | Lighting:@PinewoodStudios\"],\n",
       "       [\"Happy Father's Day dad\"],\n",
       "       ['my future wife'],\n",
       "       ['@ShealaghOShea @jenniferbeals And we all have our unique purpose ....'],\n",
       "       ['So my friend found this shirt and bought it for me, I love my friends!!'],\n",
       "       ['Room for rent!! Ladies only. Do contact Syarah at +60172374546 for inquiries'],\n",
       "       ['The real'],\n",
       "       ['Immense display by @jameshaskell in the #AUSvENG 1st Test win! Find out how he builds size &amp; strength - for FREE!'],\n",
       "       [\"Aw it's one year since croke park\"],\n",
       "       ['My baby girl'],\n",
       "       [\"I'm so obsessed with u it's bullshit\"],\n",
       "       [\"@CariVH  @_its_leelee_  my new fathers day look. My little girl wouldn't believe I'd tweet it...well...I did\"],\n",
       "       ['Good. Night sweet dreams @DJZJCZ @jennifersterri1 @lcotton92264 @auraa10 @BernadetteClaxt @legokt @NikkiG26'],\n",
       "       ['i love my friends'],\n",
       "       ['Oh yesss'],\n",
       "       ['Got you feeling some type of way'],\n",
       "       ['This article should be saying \"Who is Taylor Swift? Meet Tom Hiddleston\\'s soon-to-be-ex\"'],\n",
       "       ['Matt and jack'],\n",
       "       ['this is so sad and scary at the same time'],\n",
       "       [\"Hey @davemorrissey64 do you need anything? Thought I'd ask since I'm in Woodbury\"],\n",
       "       ['new to twitter.. hello :) follow me on instagram @realvickisecret'],\n",
       "       ['Such a lucky teacher to call you mine'],\n",
       "       ['Sorry not sorry tho'],\n",
       "       ['Hotness overload!'],\n",
       "       [\"@LilyWulde it's fun!\"],\n",
       "       [\"That's my favourite view\"],\n",
       "       ['It was a an enjoyable night'],\n",
       "       ['This is terrifying'],\n",
       "       ['Hands down to the univ week and leap cencomms!! Ahhhh solid week so far'],\n",
       "       ['Rose Leslie'],\n",
       "       [\"One of my top favorite Namjoon selca's\"],\n",
       "       ['LittySquaaad'],\n",
       "       ['My #TeenChoice for #ChoiceTVSceneStealer goes to @mishacollins'],\n",
       "       ['@hisdejavuskye This new Twitter app called Flamingo is clairvoyant. Look what background color it picked for you'],\n",
       "       ['Cut cut cut cut'],\n",
       "       ['When you and your bff some baddies'],\n",
       "       ['Food trip.'],\n",
       "       ['Pears'],\n",
       "       ['@CollinsKey @LucasCruikshank done Collins'],\n",
       "       ['Ending this nite very happy'],\n",
       "       ['Moving towards that which is in front of me.'],\n",
       "       ['Too faced recently came out with the \"born this way\" concealer'],\n",
       "       ['@farhahhnurul sorry'],\n",
       "       ['@cahit_kayaoglu sup man'],\n",
       "       ['This is the recycling / rubbish / donations aftermath, all from one storage area'],\n",
       "       ['Happy 56th Independence Congo'],\n",
       "       ['We straight'],\n",
       "       ['@3xscreen Thanks for the follow.\\n\\nFrom the entire #EternalTaal team'],\n",
       "       [\"Happy Father's Day Dad !\"],\n",
       "       ['A soft reminder to my LGBTQ friends and family: Practice self care as you process and grieve. I love you.'],\n",
       "       ['Lilly\\'s face lowkey be like \"this is the man i idolize right...?\"'],\n",
       "       ['Want $12 in FREE time to chat with hot girls? Set up a quick free profile here:'],\n",
       "       ['My sis shining'],\n",
       "       ['Time for a nap'],\n",
       "       [\"I'm done with him\"],\n",
       "       ['•late nights, doing what we wanna do.'],\n",
       "       ['Thank you to all of my 50k fan club! I love you all'],\n",
       "       ['#game .. @BluSMOOTH .. Happy 47th Birthday Peter Dinklage!'],\n",
       "       ['Capture some sick perspectives with the GOBUDi pole! #GoPro check em out'],\n",
       "       ['Had a good day with these little ones'],\n",
       "       ['Are you try to seduce me with your tongue?'],\n",
       "       ['We won the ship'],\n",
       "       [\"GOOD LUCK to #Norwich @NorwichSSP at our #grff event tmo at #EatonPark - we can't wait to see you!\"],\n",
       "       ['Osas n hubby though.... Too beautiful!'],\n",
       "       ['Melanated Munchkin'],\n",
       "       [\"We love these after dinner mint cupcakes by @PmintCupcakery Kent's finest Bakery\"],\n",
       "       ['Why I love Prius cars! 99.9 miles per gallon!'],\n",
       "       ['Emotional tour in the #aisnemarnecemetary'],\n",
       "       [\"Can't thank the fans enough who were able to support him during the trial\"],\n",
       "       ['the conjuring affected him differently'],\n",
       "       ['She ran up the stairs to see me'],\n",
       "       ['This song is just somethin'],\n",
       "       ['@darcyconnor_ DW iLL DRAG JK TO YOU'],\n",
       "       ['Snails falling in #love this morning it was like watching a @Disney movie'],\n",
       "       ['Plenty of delicious #vegan options at a local Chinese restaurant on holiday in Tenerife'],\n",
       "       ['Wearing my jb shirt again'],\n",
       "       ['Oil Painting of Lady Gaga by @carlosgzz03 !!'],\n",
       "       ['Being tagged in this is not only annoying, but it hurts'],\n",
       "       [\"angel looking up at heaven like he already isn't up there\"]],\n",
       "      dtype='<U117')"
      ]
     },
     "execution_count": 184,
     "metadata": {},
     "output_type": "execute_result"
    }
   ],
   "source": [
    "X"
   ]
  },
  {
   "cell_type": "code",
   "execution_count": null,
   "metadata": {},
   "outputs": [],
   "source": []
  }
 ],
 "metadata": {
  "hide_input": false,
  "kernelspec": {
   "display_name": "Python 3",
   "language": "python",
   "name": "python3"
  },
  "language_info": {
   "codemirror_mode": {
    "name": "ipython",
    "version": 3
   },
   "file_extension": ".py",
   "mimetype": "text/x-python",
   "name": "python",
   "nbconvert_exporter": "python",
   "pygments_lexer": "ipython3",
   "version": "3.7.1"
  },
  "toc": {
   "base_numbering": 1,
   "nav_menu": {},
   "number_sections": true,
   "sideBar": true,
   "skip_h1_title": false,
   "title_cell": "Table of Contents",
   "title_sidebar": "Contents",
   "toc_cell": false,
   "toc_position": {},
   "toc_section_display": true,
   "toc_window_display": false
  },
  "varInspector": {
   "cols": {
    "lenName": 16,
    "lenType": 16,
    "lenVar": 40
   },
   "kernels_config": {
    "python": {
     "delete_cmd_postfix": "",
     "delete_cmd_prefix": "del ",
     "library": "var_list.py",
     "varRefreshCmd": "print(var_dic_list())"
    },
    "r": {
     "delete_cmd_postfix": ") ",
     "delete_cmd_prefix": "rm(",
     "library": "var_list.r",
     "varRefreshCmd": "cat(var_dic_list()) "
    }
   },
   "position": {
    "height": "588.496px",
    "left": "2030px",
    "right": "20px",
    "top": "120px",
    "width": "350px"
   },
   "types_to_exclude": [
    "module",
    "function",
    "builtin_function_or_method",
    "instance",
    "_Feature"
   ],
   "window_display": true
  }
 },
 "nbformat": 4,
 "nbformat_minor": 2
}
