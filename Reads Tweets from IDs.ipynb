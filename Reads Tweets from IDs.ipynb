{
 "cells": [
  {
   "cell_type": "code",
   "execution_count": 3,
   "metadata": {
    "ExecuteTime": {
     "end_time": "2019-03-08T15:05:46.180904Z",
     "start_time": "2019-03-08T15:05:46.146136Z"
    }
   },
   "outputs": [
    {
     "ename": "ImportError",
     "evalue": "cannot import name '_validate_lengths' from 'numpy.lib.arraypad' (C:\\Users\\Lukas\\AppData\\Roaming\\Python\\Python37\\site-packages\\numpy\\lib\\arraypad.py)",
     "output_type": "error",
     "traceback": [
      "\u001b[1;31m---------------------------------------------------------------------------\u001b[0m",
      "\u001b[1;31mImportError\u001b[0m                               Traceback (most recent call last)",
      "\u001b[1;32m<ipython-input-3-7b6925b1f904>\u001b[0m in \u001b[0;36m<module>\u001b[1;34m\u001b[0m\n\u001b[0;32m      9\u001b[0m \u001b[1;32mimport\u001b[0m \u001b[0mnumpy\u001b[0m \u001b[1;32mas\u001b[0m \u001b[0mnp\u001b[0m\u001b[1;33m\u001b[0m\u001b[1;33m\u001b[0m\u001b[0m\n\u001b[0;32m     10\u001b[0m \u001b[1;32mimport\u001b[0m \u001b[0mre\u001b[0m\u001b[1;33m\u001b[0m\u001b[1;33m\u001b[0m\u001b[0m\n\u001b[1;32m---> 11\u001b[1;33m \u001b[1;32mimport\u001b[0m \u001b[0mskimage\u001b[0m\u001b[1;33m.\u001b[0m\u001b[0mio\u001b[0m \u001b[1;32mas\u001b[0m \u001b[0mio\u001b[0m\u001b[1;33m\u001b[0m\u001b[1;33m\u001b[0m\u001b[0m\n\u001b[0m",
      "\u001b[1;32m~\\AppData\\Local\\Continuum\\anaconda3\\lib\\site-packages\\skimage\\__init__.py\u001b[0m in \u001b[0;36m<module>\u001b[1;34m\u001b[0m\n\u001b[0;32m    174\u001b[0m                              dtype_limits)\n\u001b[0;32m    175\u001b[0m \u001b[1;33m\u001b[0m\u001b[0m\n\u001b[1;32m--> 176\u001b[1;33m     \u001b[1;32mfrom\u001b[0m \u001b[1;33m.\u001b[0m\u001b[0mutil\u001b[0m\u001b[1;33m.\u001b[0m\u001b[0mlookfor\u001b[0m \u001b[1;32mimport\u001b[0m \u001b[0mlookfor\u001b[0m\u001b[1;33m\u001b[0m\u001b[1;33m\u001b[0m\u001b[0m\n\u001b[0m\u001b[0;32m    177\u001b[0m     \u001b[1;32mfrom\u001b[0m \u001b[1;33m.\u001b[0m\u001b[0mdata\u001b[0m \u001b[1;32mimport\u001b[0m \u001b[0mdata_dir\u001b[0m\u001b[1;33m\u001b[0m\u001b[1;33m\u001b[0m\u001b[0m\n\u001b[0;32m    178\u001b[0m \u001b[1;33m\u001b[0m\u001b[0m\n",
      "\u001b[1;32m~\\AppData\\Local\\Continuum\\anaconda3\\lib\\site-packages\\skimage\\util\\__init__.py\u001b[0m in \u001b[0;36m<module>\u001b[1;34m\u001b[0m\n\u001b[0;32m      6\u001b[0m \u001b[1;32mfrom\u001b[0m \u001b[1;33m.\u001b[0m\u001b[0mapply_parallel\u001b[0m \u001b[1;32mimport\u001b[0m \u001b[0mapply_parallel\u001b[0m\u001b[1;33m\u001b[0m\u001b[1;33m\u001b[0m\u001b[0m\n\u001b[0;32m      7\u001b[0m \u001b[1;33m\u001b[0m\u001b[0m\n\u001b[1;32m----> 8\u001b[1;33m \u001b[1;32mfrom\u001b[0m \u001b[1;33m.\u001b[0m\u001b[0marraycrop\u001b[0m \u001b[1;32mimport\u001b[0m \u001b[0mcrop\u001b[0m\u001b[1;33m\u001b[0m\u001b[1;33m\u001b[0m\u001b[0m\n\u001b[0m\u001b[0;32m      9\u001b[0m \u001b[1;32mfrom\u001b[0m \u001b[1;33m.\u001b[0m\u001b[0m_regular_grid\u001b[0m \u001b[1;32mimport\u001b[0m \u001b[0mregular_grid\u001b[0m\u001b[1;33m,\u001b[0m \u001b[0mregular_seeds\u001b[0m\u001b[1;33m\u001b[0m\u001b[1;33m\u001b[0m\u001b[0m\n\u001b[0;32m     10\u001b[0m \u001b[1;32mfrom\u001b[0m \u001b[1;33m.\u001b[0m\u001b[0munique\u001b[0m \u001b[1;32mimport\u001b[0m \u001b[0munique_rows\u001b[0m\u001b[1;33m\u001b[0m\u001b[1;33m\u001b[0m\u001b[0m\n",
      "\u001b[1;32m~\\AppData\\Local\\Continuum\\anaconda3\\lib\\site-packages\\skimage\\util\\arraycrop.py\u001b[0m in \u001b[0;36m<module>\u001b[1;34m\u001b[0m\n\u001b[0;32m      6\u001b[0m \u001b[1;33m\u001b[0m\u001b[0m\n\u001b[0;32m      7\u001b[0m \u001b[1;32mimport\u001b[0m \u001b[0mnumpy\u001b[0m \u001b[1;32mas\u001b[0m \u001b[0mnp\u001b[0m\u001b[1;33m\u001b[0m\u001b[1;33m\u001b[0m\u001b[0m\n\u001b[1;32m----> 8\u001b[1;33m \u001b[1;32mfrom\u001b[0m \u001b[0mnumpy\u001b[0m\u001b[1;33m.\u001b[0m\u001b[0mlib\u001b[0m\u001b[1;33m.\u001b[0m\u001b[0marraypad\u001b[0m \u001b[1;32mimport\u001b[0m \u001b[0m_validate_lengths\u001b[0m\u001b[1;33m\u001b[0m\u001b[1;33m\u001b[0m\u001b[0m\n\u001b[0m\u001b[0;32m      9\u001b[0m \u001b[1;33m\u001b[0m\u001b[0m\n\u001b[0;32m     10\u001b[0m \u001b[1;33m\u001b[0m\u001b[0m\n",
      "\u001b[1;31mImportError\u001b[0m: cannot import name '_validate_lengths' from 'numpy.lib.arraypad' (C:\\Users\\Lukas\\AppData\\Roaming\\Python\\Python37\\site-packages\\numpy\\lib\\arraypad.py)"
     ]
    }
   ],
   "source": [
    "from __future__ import print_function\n",
    "import pandas as pd \n",
    "import numpy as np\n",
    "import getopt\n",
    "import logging\n",
    "import os\n",
    "import sys\n",
    "import re\n",
    "# import traceback\n",
    "import tweepy\n",
    "import pandas as pd \n",
    "import numpy as np\n",
    "import re\n",
    "import skimage.io as io  "
   ]
  },
  {
   "cell_type": "code",
   "execution_count": 76,
   "metadata": {
    "ExecuteTime": {
     "end_time": "2019-03-07T16:17:37.583755Z",
     "start_time": "2019-03-07T16:17:35.108022Z"
    }
   },
   "outputs": [
    {
     "data": {
      "text/html": [
       "<div>\n",
       "<style scoped>\n",
       "    .dataframe tbody tr th:only-of-type {\n",
       "        vertical-align: middle;\n",
       "    }\n",
       "\n",
       "    .dataframe tbody tr th {\n",
       "        vertical-align: top;\n",
       "    }\n",
       "\n",
       "    .dataframe thead th {\n",
       "        text-align: right;\n",
       "    }\n",
       "</style>\n",
       "<table border=\"1\" class=\"dataframe\">\n",
       "  <thead>\n",
       "    <tr style=\"text-align: right;\">\n",
       "      <th></th>\n",
       "      <th>id</th>\n",
       "      <th>imgid</th>\n",
       "      <th>annotations</th>\n",
       "    </tr>\n",
       "  </thead>\n",
       "  <tbody>\n",
       "    <tr>\n",
       "      <th>0</th>\n",
       "      <td>744014442837454848</td>\n",
       "      <td>http://pbs.twimg.com/media/ClNFMNSWgAI7qq0.jpg</td>\n",
       "      <td>47,883</td>\n",
       "    </tr>\n",
       "    <tr>\n",
       "      <th>1</th>\n",
       "      <td>742240402288345088</td>\n",
       "      <td>http://pbs.twimg.com/media/CkzuE33WsAA2cUB.jpg</td>\n",
       "      <td>229</td>\n",
       "    </tr>\n",
       "    <tr>\n",
       "      <th>2</th>\n",
       "      <td>742427564535353349</td>\n",
       "      <td>http://pbs.twimg.com/media/Ck2h7lzXIAA0Aqw.jpg</td>\n",
       "      <td>658</td>\n",
       "    </tr>\n",
       "    <tr>\n",
       "      <th>3</th>\n",
       "      <td>747888709375229952</td>\n",
       "      <td>http://pbs.twimg.com/media/CmEIe-_VYAADvg0.jpg</td>\n",
       "      <td>1108,1108</td>\n",
       "    </tr>\n",
       "    <tr>\n",
       "      <th>4</th>\n",
       "      <td>747199027649871872</td>\n",
       "      <td>http://pbs.twimg.com/media/Cl6UJF1XIAADDAJ.jpg</td>\n",
       "      <td>1466</td>\n",
       "    </tr>\n",
       "    <tr>\n",
       "      <th>5</th>\n",
       "      <td>743426787267338240</td>\n",
       "      <td>http://pbs.twimg.com/media/ClEupvHUYAA0lPF.jpg</td>\n",
       "      <td>1381</td>\n",
       "    </tr>\n",
       "    <tr>\n",
       "      <th>6</th>\n",
       "      <td>745081041631612928</td>\n",
       "      <td>http://pbs.twimg.com/media/ClaNsdLWkAAHti4.jpg</td>\n",
       "      <td>1380</td>\n",
       "    </tr>\n",
       "    <tr>\n",
       "      <th>7</th>\n",
       "      <td>747711432809136129</td>\n",
       "      <td>http://pbs.twimg.com/media/CmBnjarWEAAlC1r.jpg</td>\n",
       "      <td>1110,1110</td>\n",
       "    </tr>\n",
       "    <tr>\n",
       "      <th>8</th>\n",
       "      <td>746274479383449600</td>\n",
       "      <td>http://pbs.twimg.com/media/CltMra7WkAAdRYK.jpg</td>\n",
       "      <td>1392</td>\n",
       "    </tr>\n",
       "    <tr>\n",
       "      <th>9</th>\n",
       "      <td>745005132618805248</td>\n",
       "      <td>http://pbs.twimg.com/media/ClbKGZfWEAAOdAs.jpg</td>\n",
       "      <td>1388</td>\n",
       "    </tr>\n",
       "  </tbody>\n",
       "</table>\n",
       "</div>"
      ],
      "text/plain": [
       "                   id                                           imgid  \\\n",
       "0  744014442837454848  http://pbs.twimg.com/media/ClNFMNSWgAI7qq0.jpg   \n",
       "1  742240402288345088  http://pbs.twimg.com/media/CkzuE33WsAA2cUB.jpg   \n",
       "2  742427564535353349  http://pbs.twimg.com/media/Ck2h7lzXIAA0Aqw.jpg   \n",
       "3  747888709375229952  http://pbs.twimg.com/media/CmEIe-_VYAADvg0.jpg   \n",
       "4  747199027649871872  http://pbs.twimg.com/media/Cl6UJF1XIAADDAJ.jpg   \n",
       "5  743426787267338240  http://pbs.twimg.com/media/ClEupvHUYAA0lPF.jpg   \n",
       "6  745081041631612928  http://pbs.twimg.com/media/ClaNsdLWkAAHti4.jpg   \n",
       "7  747711432809136129  http://pbs.twimg.com/media/CmBnjarWEAAlC1r.jpg   \n",
       "8  746274479383449600  http://pbs.twimg.com/media/CltMra7WkAAdRYK.jpg   \n",
       "9  745005132618805248  http://pbs.twimg.com/media/ClbKGZfWEAAOdAs.jpg   \n",
       "\n",
       "  annotations  \n",
       "0      47,883  \n",
       "1         229  \n",
       "2         658  \n",
       "3   1108,1108  \n",
       "4        1466  \n",
       "5        1381  \n",
       "6        1380  \n",
       "7   1110,1110  \n",
       "8        1392  \n",
       "9        1388  "
      ]
     },
     "execution_count": 76,
     "metadata": {},
     "output_type": "execute_result"
    }
   ],
   "source": [
    "# Generate your own at https://apps.twitter.com/app\n",
    "CONSUMER_KEY = 'q8svcQ1GKW2yknY8MCZLvcO7w'\n",
    "CONSUMER_SECRET = 'kk9eMhfIMVxoDEoKR63ddWooW87Ya7IgUt5oC31S0TpAXeiMdh'\n",
    "OAUTH_TOKEN = '917762487608659970-G1v4Nr01JQA9UKqO1HP4g4bPwKT7LAr'\n",
    "OAUTH_TOKEN_SECRET = 'p1Zp4ophwRbRvR5yET3ppXWWg7fEshIyWwby9vTBxR9CF'\n",
    "\n",
    "# batch size depends on Twitter limit, 100 at this time\n",
    "batch_size = 100"
   ]
  },
  {
   "cell_type": "code",
   "execution_count": 6,
   "metadata": {
    "ExecuteTime": {
     "end_time": "2019-03-07T14:47:04.335180Z",
     "start_time": "2019-03-07T14:47:02.858252Z"
    }
   },
   "outputs": [
    {
     "data": {
      "text/html": [
       "<div>\n",
       "<style scoped>\n",
       "    .dataframe tbody tr th:only-of-type {\n",
       "        vertical-align: middle;\n",
       "    }\n",
       "\n",
       "    .dataframe tbody tr th {\n",
       "        vertical-align: top;\n",
       "    }\n",
       "\n",
       "    .dataframe thead th {\n",
       "        text-align: right;\n",
       "    }\n",
       "</style>\n",
       "<table border=\"1\" class=\"dataframe\">\n",
       "  <thead>\n",
       "    <tr style=\"text-align: right;\">\n",
       "      <th></th>\n",
       "      <th>id</th>\n",
       "      <th>imgid</th>\n",
       "      <th>annotations</th>\n",
       "    </tr>\n",
       "  </thead>\n",
       "  <tbody>\n",
       "    <tr>\n",
       "      <th>0</th>\n",
       "      <td>744014442837454848</td>\n",
       "      <td>http://pbs.twimg.com/media/ClNFMNSWgAI7qq0.jpg</td>\n",
       "      <td>47,883</td>\n",
       "    </tr>\n",
       "    <tr>\n",
       "      <th>1</th>\n",
       "      <td>742240402288345088</td>\n",
       "      <td>http://pbs.twimg.com/media/CkzuE33WsAA2cUB.jpg</td>\n",
       "      <td>229</td>\n",
       "    </tr>\n",
       "  </tbody>\n",
       "</table>\n",
       "</div>"
      ],
      "text/plain": [
       "                   id                                           imgid  \\\n",
       "0  744014442837454848  http://pbs.twimg.com/media/ClNFMNSWgAI7qq0.jpg   \n",
       "1  742240402288345088  http://pbs.twimg.com/media/CkzuE33WsAA2cUB.jpg   \n",
       "\n",
       "  annotations  \n",
       "0      47,883  \n",
       "1         229  "
      ]
     },
     "execution_count": 6,
     "metadata": {},
     "output_type": "execute_result"
    }
   ],
   "source": [
    "file = 'img_train_plaintext.txt'\n",
    "data = pd.read_csv(file, sep='\\t', encoding = 'utf8', engine='c', header = 0)\n",
    "data.head(2)"
   ]
  },
  {
   "cell_type": "code",
   "execution_count": 5,
   "metadata": {
    "ExecuteTime": {
     "end_time": "2019-03-08T15:28:27.067627Z",
     "start_time": "2019-03-08T15:28:27.056319Z"
    }
   },
   "outputs": [],
   "source": [
    "def get_image(url):\n",
    "    # downloads images as rgb images\n",
    "    try:\n",
    "        image = io.imread(url)\n",
    "        return image\n",
    "    except:\n",
    "        return None\n",
    "    \n",
    "def filter_tweets(data):\n",
    "    rows_to_drop = []\n",
    "    \n",
    "    for i, tweet in data.iterrows():\n",
    "        image = get_image(data.iloc[i, 1])\n",
    "        if image == None:\n",
    "            rows_to_drop.append(i)\n",
    "        else:\n",
    "            io.imsave(image = data.iloc[i, 0] + '.jpg')\n",
    "            \n",
    "    data = data.drop(data.index[rows_to_drop])\n",
    "    return data\n",
    "            "
   "execution_count": 60,
   "metadata": {
    "ExecuteTime": {
     "end_time": "2019-03-07T15:48:52.130458Z",
     "start_time": "2019-03-07T15:48:52.121097Z"
    },
    "code_folding": []
   },
   "outputs": [],
   "source": [
    "# Generate your own at https://apps.twitter.com/app\n",
    "CONSUMER_KEY = 'q8svcQ1GKW2yknY8MCZLvcO7w'\n",
    "CONSUMER_SECRET = 'kk9eMhfIMVxoDEoKR63ddWooW87Ya7IgUt5oC31S0TpAXeiMdh'\n",
    "OAUTH_TOKEN = '917762487608659970-G1v4Nr01JQA9UKqO1HP4g4bPwKT7LAr'\n",
    "OAUTH_TOKEN_SECRET = 'p1Zp4ophwRbRvR5yET3ppXWWg7fEshIyWwby9vTBxR9CF'\n",
    "\n",
    "# batch size depends on Twitter limit, 100 at this time\n",
    "batch_size=100"
   ]
  },
  {
   "cell_type": "code",
   "execution_count": 125,
   "metadata": {
    "ExecuteTime": {
     "end_time": "2019-03-07T16:47:08.763294Z",
     "start_time": "2019-03-07T16:47:08.754308Z"
    }
   },
   "outputs": [],
   "source": [
    "#TODO\n",
    "\n",
    "def get_tweets(twapi, data):\n",
    "    '''\n",
    "    Fetches content for tweet IDs in a file using bulk request method,\n",
    "    which vastly reduces number of HTTPS requests compared to above;\n",
    "    however, it does not warn about IDs that yield no tweet.\n",
    "\n",
    "    `twapi`: Initialized, authorized API object from Tweepy\n",
    "    '''\n",
    "    tweet_ids = list(data.id)\n",
    "    all_tweets = []\n",
    "    i = 0\n",
    "    while len(tweet_ids) > 0:\n",
    "        if len(tweet_ids) < batch_size:\n",
    "            tweets = twapi.statuses_lookup(\n",
    "                id_=tweet_ids, include_entities=False, trim_user=True)\n",
    "            tweets_ids = []\n",
    "        else:\n",
    "            #Look up first 100 tweets\n",
    "            tweets = twapi.statuses_lookup(\n",
    "                id_=tweet_ids[:batch_size],\n",
    "                include_entities=False,\n",
    "                trim_user=True)\n",
    "            #Remove the ids we just handled\n",
    "            tweet_ids = tweet_ids[batch_size:]\n",
    "\n",
    "        for tweet in tweets:\n",
    "            if tweet.coordinates != None:\n",
    "                coordinates = tweet.coordinates['coordinates']\n",
    "                text = re.sub(r'http\\S+', '', tweet.text).strip(' ')\n",
    "                all_tweets.append(np.array([text, tuple(coordinates)]))\n",
    "            \n",
    "        i += 1 \n",
    "        if i == 20:\n",
    "            break\n",
    "    return np.array(all_tweets)"
   ]
  },
  {
   "cell_type": "code",
   "execution_count": 112,
   "metadata": {
    "ExecuteTime": {
     "end_time": "2019-03-07T16:45:25.267853Z",
     "start_time": "2019-03-07T16:45:23.262295Z"
    }
   },
   "outputs": [
    {
     "data": {
      "text/plain": [
       "array([['⚠️ Severe Thunderstorm Warning including Alliance NE, Box Butte Dam NE, Hemingford NE until 7:00 PM MDT',\n",
       "        '-103.04589153', '42.17673257']], dtype='<U103')"
      ]
     },
     "execution_count": 112,
     "metadata": {},
     "output_type": "execute_result"
    }
   ],
   "source": [
    "auth = tweepy.OAuthHandler(CONSUMER_KEY, CONSUMER_SECRET)\n",
    "auth.set_access_token(OAUTH_TOKEN, OAUTH_TOKEN_SECRET)\n",
    "api = tweepy.API(auth)\n",
    "\n",
    "# hydrate tweet IDs\n",
    "all_tweets = get_tweets(api, data)"
   ]
  },
  {
   "cell_type": "code",
   "execution_count": 127,
   "metadata": {
    "ExecuteTime": {
     "end_time": "2019-03-07T16:48:07.289586Z",
     "start_time": "2019-03-07T16:48:07.285617Z"
    }
   },
   "outputs": [
    {
     "data": {
      "text/plain": [
       "array([['⚠️ Severe Thunderstorm Warning including Alliance NE, Box Butte Dam NE, Hemingford NE until 7:00 PM MDT',\n",
       "        (-103.04589153, 42.17673257)],\n",
       "       ['Woke up @ 8, finally installed Spotify... where did 6h dissappear? When am I? 😞',\n",
       "        (20.45933301, 44.80418954)],\n",
       "       ['⚠️ Severe Thunderstorm Warning including Sauk Centre MN, Glenwood MN, Brooten MN until 6:15 PM CDT',\n",
       "        (-95.15013405, 45.6796762)],\n",
       "       ['Working solo at 12th and D SW today hope to see you soon 😅',\n",
       "        (-77.02814218, 38.88430851)],\n",
       "       ['⚠️ Severe Thunderstorm Warning including Flagler CO until 7:45 PM MDT',\n",
       "        (-103.00328199, 39.25625525)],\n",
       "       ['⚠️ Severe Thunderstorm Warning including Kossuth IN, Mckinley IN, Plattsburg IN until 4:00 PM EDT',\n",
       "        (-86.19914686, 38.6670144)]], dtype=object)"
      ]
     },
     "execution_count": 127,
     "metadata": {},
     "output_type": "execute_result"
    }
   },
   "source": [
    "all_tweets"
    "# Possible cool classifier ideas:\n",
    "\n",
    "## Predict USER ID (based on text + emoji)\n",
    "## Predict "
   ]
  },
  {
   "cell_type": "code",
   "execution_count": null,
   "metadata": {},
   "outputs": [],
   "source": []
  }
 ],
 "metadata": {
  "hide_input": false,
  "kernelspec": {
   "display_name": "Python 3",
   "language": "python",
   "name": "python3"
  },
  "language_info": {
   "codemirror_mode": {
    "name": "ipython",
    "version": 3
   },
   "file_extension": ".py",
   "mimetype": "text/x-python",
   "name": "python",
   "nbconvert_exporter": "python",
   "pygments_lexer": "ipython3",
   "version": "3.7.1"
  },
  "toc": {
   "base_numbering": 1,
   "nav_menu": {},
   "number_sections": false,
   "sideBar": true,
   "skip_h1_title": false,
   "title_cell": "Table of Contents",
   "title_sidebar": "Contents",
   "toc_cell": false,
   "toc_position": {},
   "toc_section_display": true,
   "toc_window_display": true
  },
  "varInspector": {
   "cols": {
    "lenName": 16,
    "lenType": 16,
    "lenVar": 40
   },
   "kernels_config": {
    "python": {
     "delete_cmd_postfix": "",
     "delete_cmd_prefix": "del ",
     "library": "var_list.py",
     "varRefreshCmd": "print(var_dic_list())"
    },
    "r": {
     "delete_cmd_postfix": ") ",
     "delete_cmd_prefix": "rm(",
     "library": "var_list.r",
     "varRefreshCmd": "cat(var_dic_list()) "
    }
   },
   "position": {
    "height": "750.488px",
    "left": "2030px",
    "right": "20px",
    "top": "120px",
    "width": "350px"
   },
   "types_to_exclude": [
    "module",
    "function",
    "builtin_function_or_method",
    "instance",
    "_Feature"
   ],
   "window_display": true
  }
 },
 "nbformat": 4,
 "nbformat_minor": 2
}
