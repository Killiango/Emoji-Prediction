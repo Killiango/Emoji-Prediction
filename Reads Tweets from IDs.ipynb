{
 "cells": [
  {
   "cell_type": "code",
   "execution_count": 2,
   "metadata": {
    "ExecuteTime": {
     "end_time": "2019-03-07T14:36:16.754071Z",
     "start_time": "2019-03-07T14:36:16.514607Z"
    }
   },
   "outputs": [],
   "source": [
    "from __future__ import print_function\n",
    "import getopt\n",
    "import logging\n",
    "import os\n",
    "import sys\n",
    "# import traceback\n",
    "import tweepy"
   ]
  },
  {
   "cell_type": "code",
   "execution_count": null,
   "metadata": {},
   "outputs": [],
   "source": [
    "file = 'img_train_plaintext.txt'\n",
    "data = pd.read_csv(file, sep='\\t', encoding = 'utf8', engine='c', header = 0)\n",
    "data"
   ]
  },
  {
   "cell_type": "code",
   "execution_count": null,
   "metadata": {},
   "outputs": [],
   "source": [
    "# global logger level is configured in main()\n",
    "Logger = None\n",
    "\n",
    "# Generate your own at https://apps.twitter.com/app\n",
    "CONSUMER_KEY = 'q8svcQ1GKW2yknY8MCZLvcO7w'\n",
    "CONSUMER_SECRET = 'kk9eMhfIMVxoDEoKR63ddWooW87Ya7IgUt5oC31S0TpAXeiMdh'\n",
    "OAUTH_TOKEN = '917762487608659970-G1v4Nr01JQA9UKqO1HP4g4bPwKT7LAr'\n",
    "OAUTH_TOKEN_SECRET = 'p1Zp4ophwRbRvR5yET3ppXWWg7fEshIyWwby9vTBxR9CF'\n",
    "\n",
    "# batch size depends on Twitter limit, 100 at this time\n",
    "batch_size=100"
   ]
  },
  {
   "cell_type": "code",
   "execution_count": null,
   "metadata": {},
   "outputs": [],
   "source": [
    "#TODO\n",
    "\n",
    "def get_tweets_bulk(twapi, idfilepath):\n",
    "    '''\n",
    "    Fetches content for tweet IDs in a file using bulk request method,\n",
    "    which vastly reduces number of HTTPS requests compared to above;\n",
    "    however, it does not warn about IDs that yield no tweet.\n",
    "\n",
    "    `twapi`: Initialized, authorized API object from Tweepy\n",
    "    `idfilepath`: Path to file containing IDs\n",
    "    '''    \n",
    "    # process IDs from the file\n",
    "    tweet_ids = list()\n",
    "    with open(idfilepath, 'rb') as idfile:\n",
    "        for line in idfile:\n",
    "            tweet_id = get_tweet_id(line)\n",
    "            Logger.debug('Enqueing tweet ID %s', tweet_id)\n",
    "            tweet_ids.append(tweet_id)\n",
    "            # API limits batch size\n",
    "            if len(tweet_ids) == batch_size:\n",
    "                Logger.debug('get_tweets_bulk: fetching batch of size %d', batch_size)\n",
    "                get_tweet_list(twapi, tweet_ids)\n",
    "                tweet_ids = list()\n",
    "    # process remainder\n",
    "    if len(tweet_ids) > 0:\n",
    "        Logger.debug('get_tweets_bulk: fetching last batch of size %d', len(tweet_ids))\n",
    "        get_tweet_list(twapi, tweet_ids)"
   ]
  },
  {
   "cell_type": "code",
   "execution_count": null,
   "metadata": {},
   "outputs": [],
   "source": [
    "#TODO\n",
    "\n",
    "def main(args):\n",
    "    \n",
    "    idfile = args[0]\n",
    "    if not os.path.isfile(idfile):\n",
    "        print('Not found or not a file: %s' % idfile, file=sys.stderr)\n",
    "        usage()\n",
    "\n",
    "    # connect to twitter\n",
    "    auth = tweepy.OAuthHandler(CONSUMER_KEY, CONSUMER_SECRET)\n",
    "    auth.set_access_token(OAUTH_TOKEN, OAUTH_TOKEN_SECRET)\n",
    "    api = tweepy.API(auth)\n",
    "\n",
    "    # hydrate tweet IDs\n",
    "    get_tweets_bulk(api, idfile)"
   ]
  },
  {
   "cell_type": "markdown",
   "metadata": {},
   "source": [
    "# Ignore the stuff below here"
   ]
  },
  {
   "cell_type": "code",
   "execution_count": 3,
   "metadata": {
    "ExecuteTime": {
     "end_time": "2019-03-07T14:39:00.242257Z",
     "start_time": "2019-03-07T14:39:00.219318Z"
    },
    "code_folding": []
   },
   "outputs": [
    {
     "name": "stdout",
     "output_type": "stream",
     "text": [
      "Usage: get_tweets_by_id.py [options] file\n",
      "    -s (single) makes one HTTPS request per tweet ID\n",
      "    -v (verbose) enables detailed logging\n"
     ]
    },
    {
     "ename": "SystemExit",
     "evalue": "",
     "output_type": "error",
     "traceback": [
      "An exception has occurred, use %tb to see the full traceback.\n",
      "\u001b[1;31mSystemExit\u001b[0m\n"
     ]
    },
    {
     "name": "stderr",
     "output_type": "stream",
     "text": [
      "C:\\Users\\User\\Anaconda3\\lib\\site-packages\\IPython\\core\\interactiveshell.py:3275: UserWarning: To exit: use 'exit', 'quit', or Ctrl-D.\n",
      "  warn(\"To exit: use 'exit', 'quit', or Ctrl-D.\", stacklevel=1)\n"
     ]
    }
   ],
   "source": [
    "# global logger level is configured in main()\n",
    "Logger = None\n",
    "\n",
    "# Generate your own at https://apps.twitter.com/app\n",
    "CONSUMER_KEY = 'q8svcQ1GKW2yknY8MCZLvcO7w'\n",
    "CONSUMER_SECRET = 'kk9eMhfIMVxoDEoKR63ddWooW87Ya7IgUt5oC31S0TpAXeiMdh'\n",
    "OAUTH_TOKEN = '917762487608659970-G1v4Nr01JQA9UKqO1HP4g4bPwKT7LAr'\n",
    "OAUTH_TOKEN_SECRET = 'p1Zp4ophwRbRvR5yET3ppXWWg7fEshIyWwby9vTBxR9CF '\n",
    "\n",
    "# batch size depends on Twitter limit, 100 at this time\n",
    "batch_size=100\n",
    "\n",
    "def get_tweet_id(line):\n",
    "    '''\n",
    "    Extracts and returns tweet ID from a line in the input.\n",
    "    '''\n",
    "    (tagid,_timestamp,_sandyflag) = line.split('\\t')\n",
    "    (_tag, _search, tweet_id) = tagid.split(':')\n",
    "    return tweet_id\n",
    "\n",
    "def get_tweets_single(twapi, idfilepath):\n",
    "    '''\n",
    "    Fetches content for tweet IDs in a file one at a time,\n",
    "    which means a ton of HTTPS requests, so NOT recommended.\n",
    "\n",
    "    `twapi`: Initialized, authorized API object from Tweepy\n",
    "    `idfilepath`: Path to file containing IDs\n",
    "    '''\n",
    "    # process IDs from the file\n",
    "    with open(idfilepath, 'rb') as idfile:\n",
    "        for line in idfile:\n",
    "            tweet_id = get_tweet_id(line)\n",
    "            Logger.debug('get_tweets_single: fetching tweet for ID %s', tweet_id)\n",
    "            try:\n",
    "                tweet = twapi.get_status(tweet_id)\n",
    "                print('%s,%s' % (tweet_id, tweet.text.encode('UTF-8')))\n",
    "            except tweepy.TweepError as te:\n",
    "                Logger.warn('get_tweets_single: failed to get tweet ID %s: %s', tweet_id, te.message)\n",
    "                # traceback.print_exc(file=sys.stderr)\n",
    "        # for\n",
    "    # with\n",
    "\n",
    "def get_tweet_list(twapi, idlist):\n",
    "    '''\n",
    "    Invokes bulk lookup method.\n",
    "    Raises an exception if rate limit is exceeded.\n",
    "    '''\n",
    "    # fetch as little metadata as possible\n",
    "    tweets = twapi.statuses_lookup(id_=idlist, include_entities=False, trim_user=True)\n",
    "    if len(idlist) != len(tweets):\n",
    "        Logger.warn('get_tweet_list: unexpected response size %d, expected %d', len(tweets), len(idlist))\n",
    "    for tweet in tweets:\n",
    "        print('%s,%s' % (tweet.id, tweet.text.encode('UTF-8')))\n",
    "\n",
    "def get_tweets_bulk(twapi, idfilepath):\n",
    "    '''\n",
    "    Fetches content for tweet IDs in a file using bulk request method,\n",
    "    which vastly reduces number of HTTPS requests compared to above;\n",
    "    however, it does not warn about IDs that yield no tweet.\n",
    "\n",
    "    `twapi`: Initialized, authorized API object from Tweepy\n",
    "    `idfilepath`: Path to file containing IDs\n",
    "    '''    \n",
    "    # process IDs from the file\n",
    "    tweet_ids = list()\n",
    "    with open(idfilepath, 'rb') as idfile:\n",
    "        for line in idfile:\n",
    "            tweet_id = get_tweet_id(line)\n",
    "            Logger.debug('Enqueing tweet ID %s', tweet_id)\n",
    "            tweet_ids.append(tweet_id)\n",
    "            # API limits batch size\n",
    "            if len(tweet_ids) == batch_size:\n",
    "                Logger.debug('get_tweets_bulk: fetching batch of size %d', batch_size)\n",
    "                get_tweet_list(twapi, tweet_ids)\n",
    "                tweet_ids = list()\n",
    "    # process remainder\n",
    "    if len(tweet_ids) > 0:\n",
    "        Logger.debug('get_tweets_bulk: fetching last batch of size %d', len(tweet_ids))\n",
    "        get_tweet_list(twapi, tweet_ids)\n",
    "\n",
    "def usage():\n",
    "    print('Usage: get_tweets_by_id.py [options] file')\n",
    "    print('    -s (single) makes one HTTPS request per tweet ID')\n",
    "    print('    -v (verbose) enables detailed logging')\n",
    "    sys.exit()\n",
    "\n",
    "def main(args):\n",
    "    logging.basicConfig(level=logging.WARN)\n",
    "    global Logger\n",
    "    Logger = logging.getLogger('get_tweets_by_id')\n",
    "    bulk = True\n",
    "    try:\n",
    "        opts, args = getopt.getopt(args, 'sv')\n",
    "    except getopt.GetoptError:\n",
    "        usage()\n",
    "    for opt, _optarg in opts:\n",
    "        if opt in ('-s'):\n",
    "            bulk = False\n",
    "        elif opt in ('-v'):\n",
    "            Logger.setLevel(logging.DEBUG)\n",
    "            Logger.debug(\"main: verbose mode on\")\n",
    "        else:\n",
    "            usage()\n",
    "    if len(args) != 1:\n",
    "        usage()\n",
    "    idfile = args[0]\n",
    "    if not os.path.isfile(idfile):\n",
    "        print('Not found or not a file: %s' % idfile, file=sys.stderr)\n",
    "        usage()\n",
    "\n",
    "    # connect to twitter\n",
    "    auth = tweepy.OAuthHandler(CONSUMER_KEY, CONSUMER_SECRET)\n",
    "    auth.set_access_token(OAUTH_TOKEN, OAUTH_TOKEN_SECRET)\n",
    "    api = tweepy.API(auth)\n",
    "\n",
    "    # hydrate tweet IDs\n",
    "    if bulk:\n",
    "        get_tweets_bulk(api, idfile)\n",
    "    else:\n",
    "        get_tweets_single(api, idfile)\n",
    "\n",
    "if __name__ == '__main__':\n",
    "    main(sys.argv[1:])"
   ]
  },
  {
   "cell_type": "code",
   "execution_count": null,
   "metadata": {},
   "outputs": [],
   "source": []
  }
 ],
 "metadata": {
  "hide_input": false,
  "kernelspec": {
   "display_name": "Python 3",
   "language": "python",
   "name": "python3"
  },
  "language_info": {
   "codemirror_mode": {
    "name": "ipython",
    "version": 3
   },
   "file_extension": ".py",
   "mimetype": "text/x-python",
   "name": "python",
   "nbconvert_exporter": "python",
   "pygments_lexer": "ipython3",
   "version": "3.7.1"
  },
  "toc": {
   "base_numbering": 1,
   "nav_menu": {},
   "number_sections": true,
   "sideBar": true,
   "skip_h1_title": false,
   "title_cell": "Table of Contents",
   "title_sidebar": "Contents",
   "toc_cell": false,
   "toc_position": {},
   "toc_section_display": true,
   "toc_window_display": false
  },
  "varInspector": {
   "cols": {
    "lenName": 16,
    "lenType": 16,
    "lenVar": 40
   },
   "kernels_config": {
    "python": {
     "delete_cmd_postfix": "",
     "delete_cmd_prefix": "del ",
     "library": "var_list.py",
     "varRefreshCmd": "print(var_dic_list())"
    },
    "r": {
     "delete_cmd_postfix": ") ",
     "delete_cmd_prefix": "rm(",
     "library": "var_list.r",
     "varRefreshCmd": "cat(var_dic_list()) "
    }
   },
   "types_to_exclude": [
    "module",
    "function",
    "builtin_function_or_method",
    "instance",
    "_Feature"
   ],
   "window_display": false
  }
 },
 "nbformat": 4,
 "nbformat_minor": 2
}
