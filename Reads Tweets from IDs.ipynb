{
 "cells": [
  {
   "cell_type": "code",
   "execution_count": 5,
   "metadata": {
    "ExecuteTime": {
     "end_time": "2019-03-14T14:12:46.633514Z",
     "start_time": "2019-03-14T14:12:46.629498Z"
    }
   },
   "outputs": [],
   "source": [
    "import getopt\n",
    "import logging\n",
    "import os\n",
    "import sys\n",
    "# import traceback\n",
    "import tweepy\n",
    "import pandas as pd \n",
    "import numpy as np\n",
    "import re\n",
    "import skimage.io as io  "
   ]
  },
  {
   "cell_type": "code",
   "execution_count": 38,
   "metadata": {
    "ExecuteTime": {
     "end_time": "2019-03-14T14:44:14.293859Z",
     "start_time": "2019-03-14T14:44:14.287859Z"
    }
   },
   "outputs": [],
   "source": [
    "# Generate your own at https://apps.twitter.com/app\n",
    "CONSUMER_KEY = 'q8svcQ1GKW2yknY8MCZLvcO7w'\n",
    "CONSUMER_SECRET = 'kk9eMhfIMVxoDEoKR63ddWooW87Ya7IgUt5oC31S0TpAXeiMdh'\n",
    "OAUTH_TOKEN = '917762487608659970-G1v4Nr01JQA9UKqO1HP4g4bPwKT7LAr'\n",
    "OAUTH_TOKEN_SECRET = 'p1Zp4ophwRbRvR5yET3ppXWWg7fEshIyWwby9vTBxR9CF'\n",
    "\n",
    "# connect to twitter\n",
    "auth = tweepy.OAuthHandler(CONSUMER_KEY, CONSUMER_SECRET)\n",
    "auth.set_access_token(OAUTH_TOKEN, OAUTH_TOKEN_SECRET)\n",
    "api = tweepy.API(auth)\n",
    "\n",
    "# batch size depends on Twitter limit, 100 at this time\n",
    "batch_size = 100\n",
    "\n",
    "file = 'img_train_plaintext.txt'\n"
   ]
  },
  {
   "cell_type": "code",
   "execution_count": 55,
   "metadata": {
    "ExecuteTime": {
     "end_time": "2019-03-14T14:49:44.092996Z",
     "start_time": "2019-03-14T14:49:41.915270Z"
    }
   },
   "outputs": [
    {
     "data": {
      "text/html": [
       "<div>\n",
       "<style scoped>\n",
       "    .dataframe tbody tr th:only-of-type {\n",
       "        vertical-align: middle;\n",
       "    }\n",
       "\n",
       "    .dataframe tbody tr th {\n",
       "        vertical-align: top;\n",
       "    }\n",
       "\n",
       "    .dataframe thead th {\n",
       "        text-align: right;\n",
       "    }\n",
       "</style>\n",
       "<table border=\"1\" class=\"dataframe\">\n",
       "  <thead>\n",
       "    <tr style=\"text-align: right;\">\n",
       "      <th></th>\n",
       "      <th>id</th>\n",
       "      <th>imgid</th>\n",
       "      <th>annotations</th>\n",
       "    </tr>\n",
       "  </thead>\n",
       "  <tbody>\n",
       "    <tr>\n",
       "      <th>0</th>\n",
       "      <td>744014442837454848</td>\n",
       "      <td>http://pbs.twimg.com/media/ClNFMNSWgAI7qq0.jpg</td>\n",
       "      <td>47,883</td>\n",
       "    </tr>\n",
       "    <tr>\n",
       "      <th>1</th>\n",
       "      <td>742240402288345088</td>\n",
       "      <td>http://pbs.twimg.com/media/CkzuE33WsAA2cUB.jpg</td>\n",
       "      <td>229</td>\n",
       "    </tr>\n",
       "  </tbody>\n",
       "</table>\n",
       "</div>"
      ],
      "text/plain": [
       "                   id                                           imgid  \\\n",
       "0  744014442837454848  http://pbs.twimg.com/media/ClNFMNSWgAI7qq0.jpg   \n",
       "1  742240402288345088  http://pbs.twimg.com/media/CkzuE33WsAA2cUB.jpg   \n",
       "\n",
       "  annotations  \n",
       "0      47,883  \n",
       "1         229  "
      ]
     },
     "execution_count": 55,
     "metadata": {},
     "output_type": "execute_result"
    }
   ],
   "source": [
    "data = pd.read_csv(file, sep='\\t', encoding = 'utf8', engine='c', header = 0)\n",
    "data.head(2)"
   ]
  },
  {
   "cell_type": "code",
   "execution_count": 56,
   "metadata": {
    "ExecuteTime": {
     "end_time": "2019-03-14T14:49:44.116931Z",
     "start_time": "2019-03-14T14:49:44.107956Z"
    }
   },
   "outputs": [],
   "source": [
    "def get_image(url):\n",
    "    # downloads images as rgb images\n",
    "    try:\n",
    "        image = io.imread(url)\n",
    "        return image\n",
    "    except:\n",
    "        return []\n",
    "    \n",
    "def filter_tweets(data):\n",
    "    rows_to_drop = []\n",
    "    \n",
    "    for i, tweet in data.iterrows():\n",
    "        image = get_image(data.iloc[i, 1])\n",
    "        if image == []:\n",
    "            rows_to_drop.append(i)\n",
    "        else:\n",
    "            # Save image as id.jpg\n",
    "            try:\n",
    "                io.imsave(fname= 'images\\\\'+ str(data.iloc[i, 0]) + '.jpg', arr=image)\n",
    "            except:\n",
    "                io.imsave(fname= 'images\\\\'+ str(data.iloc[i, 0]) + '.png', arr=image)                \n",
    "    data = data.drop(data.index[rows_to_drop])\n",
    "    return data            "
   ]
  },
  {
   "cell_type": "code",
   "execution_count": 57,
   "metadata": {
    "ExecuteTime": {
     "end_time": "2019-03-14T14:49:54.178993Z",
     "start_time": "2019-03-14T14:49:44.131891Z"
    },
    "scrolled": true
   },
   "outputs": [
    {
     "name": "stdout",
     "output_type": "stream",
     "text": [
      "916864\n"
     ]
    },
    {
     "name": "stderr",
     "output_type": "stream",
     "text": [
      "C:\\Users\\User\\Anaconda3\\lib\\site-packages\\ipykernel_launcher.py:14: DeprecationWarning: elementwise == comparison failed; this will raise an error in the future.\n",
      "  \n"
     ]
    },
    {
     "name": "stdout",
     "output_type": "stream",
     "text": [
      "916861\n"
     ]
    }
   ],
   "source": [
    "print(len(data))\n",
    "data = filter_tweets(data)\n",
    "print(len(data))\n",
    "\n",
    "\n",
    "data.to_csv(path_or_buf= 'test' + file,index = False, sep = '\\t', encoding='utf8')\n"
   ]
  },
  {
   "cell_type": "code",
   "execution_count": 58,
   "metadata": {
    "ExecuteTime": {
     "end_time": "2019-03-14T14:49:56.464249Z",
     "start_time": "2019-03-14T14:49:54.199001Z"
    }
   },
   "outputs": [
    {
     "data": {
      "text/html": [
       "<div>\n",
       "<style scoped>\n",
       "    .dataframe tbody tr th:only-of-type {\n",
       "        vertical-align: middle;\n",
       "    }\n",
       "\n",
       "    .dataframe tbody tr th {\n",
       "        vertical-align: top;\n",
       "    }\n",
       "\n",
       "    .dataframe thead th {\n",
       "        text-align: right;\n",
       "    }\n",
       "</style>\n",
       "<table border=\"1\" class=\"dataframe\">\n",
       "  <thead>\n",
       "    <tr style=\"text-align: right;\">\n",
       "      <th></th>\n",
       "      <th>id</th>\n",
       "      <th>imgid</th>\n",
       "      <th>annotations</th>\n",
       "    </tr>\n",
       "  </thead>\n",
       "  <tbody>\n",
       "    <tr>\n",
       "      <th>0</th>\n",
       "      <td>744014442837454848</td>\n",
       "      <td>http://pbs.twimg.com/media/ClNFMNSWgAI7qq0.jpg</td>\n",
       "      <td>47,883</td>\n",
       "    </tr>\n",
       "    <tr>\n",
       "      <th>1</th>\n",
       "      <td>747888709375229952</td>\n",
       "      <td>http://pbs.twimg.com/media/CmEIe-_VYAADvg0.jpg</td>\n",
       "      <td>1108,1108</td>\n",
       "    </tr>\n",
       "    <tr>\n",
       "      <th>2</th>\n",
       "      <td>747199027649871872</td>\n",
       "      <td>http://pbs.twimg.com/media/Cl6UJF1XIAADDAJ.jpg</td>\n",
       "      <td>1466</td>\n",
       "    </tr>\n",
       "    <tr>\n",
       "      <th>3</th>\n",
       "      <td>743426787267338240</td>\n",
       "      <td>http://pbs.twimg.com/media/ClEupvHUYAA0lPF.jpg</td>\n",
       "      <td>1381</td>\n",
       "    </tr>\n",
       "    <tr>\n",
       "      <th>4</th>\n",
       "      <td>745081041631612928</td>\n",
       "      <td>http://pbs.twimg.com/media/ClaNsdLWkAAHti4.jpg</td>\n",
       "      <td>1380</td>\n",
       "    </tr>\n",
       "  </tbody>\n",
       "</table>\n",
       "</div>"
      ],
      "text/plain": [
       "                   id                                           imgid  \\\n",
       "0  744014442837454848  http://pbs.twimg.com/media/ClNFMNSWgAI7qq0.jpg   \n",
       "1  747888709375229952  http://pbs.twimg.com/media/CmEIe-_VYAADvg0.jpg   \n",
       "2  747199027649871872  http://pbs.twimg.com/media/Cl6UJF1XIAADDAJ.jpg   \n",
       "3  743426787267338240  http://pbs.twimg.com/media/ClEupvHUYAA0lPF.jpg   \n",
       "4  745081041631612928  http://pbs.twimg.com/media/ClaNsdLWkAAHti4.jpg   \n",
       "\n",
       "  annotations  \n",
       "0      47,883  \n",
       "1   1108,1108  \n",
       "2        1466  \n",
       "3        1381  \n",
       "4        1380  "
      ]
     },
     "execution_count": 58,
     "metadata": {},
     "output_type": "execute_result"
    }
   ],
   "source": [
    "data = pd.read_csv('test'+file, sep='\\t', encoding = 'utf8', engine='c')\n",
    "data.head()"
   ]
  },
  {
   "cell_type": "code",
   "execution_count": 16,
   "metadata": {
    "ExecuteTime": {
     "end_time": "2019-03-14T14:15:27.112879Z",
     "start_time": "2019-03-14T14:15:27.104927Z"
    }
   },
   "outputs": [],
   "source": [
    "def get_tweets(twapi, data):\n",
    "    '''\n",
    "    Fetches content for tweet IDs in a file using bulk request method,\n",
    "    which vastly reduces number of HTTPS requests compared to above;\n",
    "    however, it does not warn about IDs that yield no tweet.\n",
    "\n",
    "    `twapi`: Initialized, authorized API object from Tweepy\n",
    "    '''    \n",
    "    tweet_ids = data.id.values.tolist()\n",
    "    emoji_labels = data.annotations.values.tolist()\n",
    "    \n",
    "    all_tweets = []\n",
    "    i = 0\n",
    "    # process remainder\n",
    "    while len(tweet_ids) > 0:\n",
    "        if len(tweet_ids) < batch_size:\n",
    "            tweets = twapi.statuses_lookup(id_ = tweet_ids, include_entities=False, trim_user=True)\n",
    "            tweet_ids = []\n",
    "        else:\n",
    "            tweets = twapi.statuses_lookup(id_ = tweet_ids[:batch_size], include_entities=False, trim_user=True)\n",
    "            tweet_ids = tweet_ids[batch_size:]\n",
    "        \n",
    "        for tweet in tweets:\n",
    "            text = re.sub(r'http\\S+', '', tweet.text).strip(' ')\n",
    "            all_tweets.append(np.array([text, coordinates[0], coordinates[1]]))\n",
    "            \n",
    "        i += 1 \n",
    "        if i == 2:\n",
    "            break\n",
    "    return np.array(all_tweets)"
   ]
  },
  {
   "cell_type": "code",
   "execution_count": 18,
   "metadata": {
    "ExecuteTime": {
     "end_time": "2019-03-14T14:15:52.646943Z",
     "start_time": "2019-03-14T14:15:52.638992Z"
    }
   },
   "outputs": [
    {
     "data": {
      "text/plain": [
       "array([['⚠️ Severe Thunderstorm Warning including Alliance NE, Box Butte Dam NE, Hemingford NE until 7:00 PM MDT',\n",
       "        '-103.04589153', '42.17673257'],\n",
       "       ['Woke up @ 8, finally installed Spotify... where did 6h dissappear? When am I? 😞',\n",
       "        '20.45933301', '44.80418954'],\n",
       "       ['⚠️ Severe Thunderstorm Warning including Sauk Centre MN, Glenwood MN, Brooten MN until 6:15 PM CDT',\n",
       "        '-95.15013405', '45.6796762'],\n",
       "       ['Working solo at 12th and D SW today hope to see you soon 😅',\n",
       "        '-77.02814218', '38.88430851'],\n",
       "       ['⚠️ Severe Thunderstorm Warning including Flagler CO until 7:45 PM MDT',\n",
       "        '-103.00328199', '39.25625525'],\n",
       "       ['⚠️ Severe Thunderstorm Warning including Kossuth IN, Mckinley IN, Plattsburg IN until 4:00 PM EDT',\n",
       "        '-86.19914686', '38.6670144']], dtype='<U103')"
      ]
     },
     "execution_count": 18,
     "metadata": {},
     "output_type": "execute_result"
    }
   ],
   "source": [
    "all_tweets = get_tweets(api, data)\n",
    "all_tweets"
   ]
  },
  {
   "cell_type": "code",
   "execution_count": null,
   "metadata": {},
   "outputs": [],
   "source": []
  }
 ],
 "metadata": {
  "hide_input": false,
  "kernelspec": {
   "display_name": "Python 3",
   "language": "python",
   "name": "python3"
  },
  "language_info": {
   "codemirror_mode": {
    "name": "ipython",
    "version": 3
   },
   "file_extension": ".py",
   "mimetype": "text/x-python",
   "name": "python",
   "nbconvert_exporter": "python",
   "pygments_lexer": "ipython3",
   "version": "3.7.1"
  },
  "toc": {
   "base_numbering": 1,
   "nav_menu": {},
   "number_sections": true,
   "sideBar": true,
   "skip_h1_title": false,
   "title_cell": "Table of Contents",
   "title_sidebar": "Contents",
   "toc_cell": false,
   "toc_position": {},
   "toc_section_display": true,
   "toc_window_display": false
  },
  "varInspector": {
   "cols": {
    "lenName": 16,
    "lenType": 16,
    "lenVar": 40
   },
   "kernels_config": {
    "python": {
     "delete_cmd_postfix": "",
     "delete_cmd_prefix": "del ",
     "library": "var_list.py",
     "varRefreshCmd": "print(var_dic_list())"
    },
    "r": {
     "delete_cmd_postfix": ") ",
     "delete_cmd_prefix": "rm(",
     "library": "var_list.r",
     "varRefreshCmd": "cat(var_dic_list()) "
    }
   },
   "types_to_exclude": [
    "module",
    "function",
    "builtin_function_or_method",
    "instance",
    "_Feature"
   ],
   "window_display": false
  }
 },
 "nbformat": 4,
 "nbformat_minor": 2
}
