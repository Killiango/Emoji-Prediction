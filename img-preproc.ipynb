{
 "cells": [
  {
   "cell_type": "code",
   "execution_count": 1,
   "metadata": {
    "ExecuteTime": {
     "end_time": "2019-04-17T16:03:32.522537Z",
     "start_time": "2019-04-17T16:03:09.521031Z"
    }
   },
   "outputs": [
    {
     "name": "stderr",
     "output_type": "stream",
     "text": [
      "Using TensorFlow backend.\n"
     ]
    }
   ],
   "source": [
    "import numpy as np\n",
    "import os \n",
    "import keras\n",
    "import skimage\n",
    "import matplotlib.pyplot as plt\n",
    "\n",
    "from skimage.transform import rescale, resize, downscale_local_mean\n",
    "from skimage import io "
   ]
  },
  {
   "cell_type": "code",
   "execution_count": 2,
   "metadata": {
    "ExecuteTime": {
     "end_time": "2019-04-17T16:03:32.563924Z",
     "start_time": "2019-04-17T16:03:32.559905Z"
    }
   },
   "outputs": [],
   "source": [
    "# get current directory\n",
    "cd = os.getcwd()"
   ]
  },
  {
   "cell_type": "code",
   "execution_count": 3,
   "metadata": {
    "ExecuteTime": {
     "end_time": "2019-04-17T16:03:32.596000Z",
     "start_time": "2019-04-17T16:03:32.587980Z"
    }
   },
   "outputs": [],
   "source": [
    "def crop_image(image, dim: tuple):\n",
    "    m, n = dim\n",
    "    x, y, _ = image.shape\n",
    "    \n",
    "    if x > m and y > n:\n",
    "        \n",
    "        x0 = int((x - m) / 2) - 1\n",
    "        y0 = int((y - n) / 2) - 1\n",
    "        xm = int(m + x0)\n",
    "        yn = int(n + y0)\n",
    "        \n",
    "        return image[x0:xm, y0:yn]\n",
    "    \n",
    "    else:\n",
    "        return image"
   ]
  },
  {
   "cell_type": "code",
   "execution_count": 4,
   "metadata": {
    "ExecuteTime": {
     "end_time": "2019-04-17T16:03:32.624074Z",
     "start_time": "2019-04-17T16:03:32.618059Z"
    }
   },
   "outputs": [],
   "source": [
    "folder_name = \"images\"\n",
    "save_folder = \"preproc_images\"\n",
    "image_shape = (28, 28)"
   ]
  },
  {
   "cell_type": "code",
   "execution_count": null,
   "metadata": {
    "ExecuteTime": {
     "end_time": "2019-04-17T14:40:20.658489Z",
     "start_time": "2019-04-17T14:40:20.651473Z"
    }
   },
   "outputs": [],
   "source": [
    "def mean_channel_centering(image):\n",
    "    \n",
    "    mean_r = np.mean(image[:,:,0], axis = 0)\n",
    "    mean_g = np.mean(image[:,:,1], axis = 0)\n",
    "    mean_b = np.mean(image[:,:,2], axis = 0)\n",
    "    \n",
    "    mean_channels = np.array((mean_r, mean_g, mean_b))\n",
    "    \n",
    "    centered_image = np.zeros_like(image)\n",
    "    \n",
    "    for i, row in enumerate(image):\n",
    "        for j, col in enumerate(row):\n",
    "            for k, channel in enumerate(col):\n",
    "                centered_image[i, j, k] = channel - mean_channels[k]\n",
    "                \n",
    "    return centered_image"
   ]
  },
  {
   "cell_type": "code",
   "execution_count": null,
   "metadata": {
    "ExecuteTime": {
     "end_time": "2019-04-17T15:08:18.060585Z",
     "start_time": "2019-04-17T15:08:18.040531Z"
    }
   },
   "outputs": [],
   "source": [
    "def preprocess_imgs(folder_name: str, save_folder: str, image_shape: tuple):\n",
    "    \"\"\"\n",
    "    Function that performs resizing of images.\n",
    "    \"\"\"\n",
    "    file_names = os.listdir(path = cd + \"/\" + folder_name)\n",
    "    \n",
    "    for file in file_names:\n",
    "        name_old.strip(\".\")\n",
    "        print(name_old)\n",
    "        # 1. load images\n",
    "        image = skimage.io.imread(folder_name + \"/\" + file)\n",
    "        print(image.shape)\n",
    "        break\n",
    "        \n",
    "        # 2. mean centering of the data (axis = 0 -> columnwise)\n",
    "        \n",
    "        \n",
    "        # resize images to a common scale (in favor for computational efficiency)\n",
    "        image = resize(image, output_shape = image_shape, anti_aliasing = True)\n",
    "        \n",
    "        fname = file.replace('.jpg', '.png')\n",
    "        io.imsave(save_folder + \"/\" + file, image)\n",
    "    \n",
    "    print('all images preprocessed and saved.')"
   ]
  },
  {
   "cell_type": "code",
   "execution_count": null,
   "metadata": {
    "ExecuteTime": {
     "end_time": "2019-04-17T15:08:58.351753Z",
     "start_time": "2019-04-17T15:08:57.422594Z"
    }
   },
   "outputs": [],
   "source": [
    "preprocess_imgs(folder_name, save_folder, image_shape)"
   ]
  },
  {
   "cell_type": "code",
   "execution_count": 12,
   "metadata": {
    "ExecuteTime": {
     "end_time": "2019-04-17T16:06:12.292491Z",
     "start_time": "2019-04-17T16:06:12.285474Z"
    }
   },
   "outputs": [
    {
     "name": "stderr",
     "output_type": "stream",
     "text": [
      "C:\\Users\\Lukas\\AppData\\Roaming\\Python\\Python36\\site-packages\\keras_preprocessing\\image\\image_data_generator.py:339: UserWarning: This ImageDataGenerator specifies `zca_whitening` which overrides setting of`featurewise_std_normalization`.\n",
      "  warnings.warn('This ImageDataGenerator specifies '\n"
     ]
    }
   ],
   "source": [
    "img_preprocessor = keras.preprocessing.image.ImageDataGenerator(\n",
    "    featurewise_center = True, \n",
    "    samplewise_center = False, \n",
    "    featurewise_std_normalization = True, \n",
    "    samplewise_std_normalization = False, \n",
    "    zca_whitening = True, \n",
    "    zca_epsilon = 1e-06, #consider this for hyperparameter tuning\n",
    "    rotation_range = 0, \n",
    "    width_shift_range = 0.0, \n",
    "    height_shift_range = 0.0, \n",
    "    brightness_range = None, # consider later\n",
    "    shear_range = 0.0, \n",
    "    zoom_range = 0.0, \n",
    "    channel_shift_range = 0.0, \n",
    "    fill_mode = 'nearest',\n",
    "    rescale = None, \n",
    "    preprocessing_function = None, \n",
    "    data_format = \"channels_last\", \n",
    "    dtype = float)"
   ]
  },
  {
   "cell_type": "code",
   "execution_count": 18,
   "metadata": {
    "ExecuteTime": {
     "end_time": "2019-04-17T16:07:39.402947Z",
     "start_time": "2019-04-17T16:07:39.282909Z"
    }
   },
   "outputs": [
    {
     "name": "stdout",
     "output_type": "stream",
     "text": [
      "Found 6 images belonging to 1 classes.\n"
     ]
    }
   ],
   "source": [
    "preproc_iterator = img_preprocessor.flow_from_directory(folder_name, \n",
    "                                     target_size = image_shape,\n",
    "                                     color_mode = 'rgb', # alternatively try grey scale\n",
    "                                     classes = None, \n",
    "                                     class_mode = None, \n",
    "                                     batch_size = 32, \n",
    "                                     shuffle = False, \n",
    "                                     seed = 42, \n",
    "                                     save_to_dir = save_folder, \n",
    "                                     save_prefix = '', \n",
    "                                     save_format = 'png',\n",
    "                                     subset = None, \n",
    "                                     interpolation = 'bilinear') # alternatively bicubic (if enough computational power) or nearest"
   ]
  },
  {
   "cell_type": "code",
   "execution_count": 19,
   "metadata": {
    "ExecuteTime": {
     "end_time": "2019-04-17T16:07:40.302861Z",
     "start_time": "2019-04-17T16:07:39.473134Z"
    },
    "scrolled": true
   },
   "outputs": [
    {
     "data": {
      "image/png": "[encoded data removed]",
      "text/plain": [
       "<Figure size 432x288 with 1 Axes>"
      ]
     },
     "metadata": {
      "needs_background": "light"
     },
     "output_type": "display_data"
    }
   ],
   "source": [
    "for img_batch in preproc_iterator:\n",
    "    for img in img_batch:\n",
    "        img /= 255\n",
    "        plt.imshow(img)\n",
    "        break\n",
    "    break\n",
    "\n",
    "print('all images preprocessed and saved.')"
   ]
  },
  {
   "cell_type": "code",
   "execution_count": 20,
   "metadata": {
    "ExecuteTime": {
     "end_time": "2019-04-17T16:07:44.519576Z",
     "start_time": "2019-04-17T16:07:44.514565Z"
    }
   },
   "outputs": [],
   "source": [
    "def change_names(old_folder: str, new_folder: str):\n",
    "    \"\"\"\n",
    "    Rename images after iterator yielded preprocessed versions of them. \n",
    "    Save the as original IMG ID + \".png\".\n",
    "    \"\"\"\n",
    "    \n",
    "    file_names_old = os.listdir(path = cd + \"/\" + old_folder + \"/raw\")\n",
    "    file_names_new = os.listdir(path = cd + \"/\" + new_folder)\n",
    "\n",
    "    for name_old, name_new in zip(file_names_old, file_names_new):\n",
    "        name_old = name_old.split(\".\")[0] + \".png\"\n",
    "        os.rename(new_folder + \"/\" + name_new, new_folder + \"/\" + name_old)"
   ]
  },
  {
   "cell_type": "code",
   "execution_count": 21,
   "metadata": {
    "ExecuteTime": {
     "end_time": "2019-04-17T16:07:44.646915Z",
     "start_time": "2019-04-17T16:07:44.632877Z"
    }
   },
   "outputs": [],
   "source": [
    "change_names(folder_name, save_folder)"
   ]
  }
 ],
 "metadata": {
  "hide_input": false,
  "kernelspec": {
   "display_name": "Python 3",
   "language": "python",
   "name": "python3"
  },
  "language_info": {
   "codemirror_mode": {
    "name": "ipython",
    "version": 3
   },
   "file_extension": ".py",
   "mimetype": "text/x-python",
   "name": "python",
   "nbconvert_exporter": "python",
   "pygments_lexer": "ipython3",
   "version": "3.6.6"
  },
  "toc": {
   "base_numbering": 1,
   "nav_menu": {},
   "number_sections": true,
   "sideBar": true,
   "skip_h1_title": false,
   "title_cell": "Table of Contents",
   "title_sidebar": "Contents",
   "toc_cell": false,
   "toc_position": {},
   "toc_section_display": true,
   "toc_window_display": false
  },
  "varInspector": {
   "cols": {
    "lenName": 16,
    "lenType": 16,
    "lenVar": 40
   },
   "kernels_config": {
    "python": {
     "delete_cmd_postfix": "",
     "delete_cmd_prefix": "del ",
     "library": "var_list.py",
     "varRefreshCmd": "print(var_dic_list())"
    },
    "r": {
     "delete_cmd_postfix": ") ",
     "delete_cmd_prefix": "rm(",
     "library": "var_list.r",
     "varRefreshCmd": "cat(var_dic_list()) "
    }
   },
   "types_to_exclude": [
    "module",
    "function",
    "builtin_function_or_method",
    "instance",
    "_Feature"
   ],
   "window_display": false
  }
 },
 "nbformat": 4,
 "nbformat_minor": 2
}
